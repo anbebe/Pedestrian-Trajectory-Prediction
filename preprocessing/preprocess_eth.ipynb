{
 "cells": [
  {
   "cell_type": "markdown",
   "metadata": {},
   "source": [
    "# Script to preprocess the ETH/UCY dataset\n",
    "Assuming that the dataset is locally available"
   ]
  },
  {
   "cell_type": "code",
   "execution_count": 138,
   "metadata": {},
   "outputs": [],
   "source": [
    "import collections\n",
    "import functools\n",
    "import os\n",
    "import numpy as np\n",
    "import pandas as pd\n",
    "import tensorflow as tf\n",
    "from tensorflow_graphics.geometry import transformation\n",
    "import matplotlib.pyplot as plt\n",
    "import tensorflow_datasets as tfds"
   ]
  },
  {
   "cell_type": "code",
   "execution_count": 139,
   "metadata": {},
   "outputs": [
    {
     "data": {
      "text/html": [
       "<div>\n",
       "<style scoped>\n",
       "    .dataframe tbody tr th:only-of-type {\n",
       "        vertical-align: middle;\n",
       "    }\n",
       "\n",
       "    .dataframe tbody tr th {\n",
       "        vertical-align: top;\n",
       "    }\n",
       "\n",
       "    .dataframe thead th {\n",
       "        text-align: right;\n",
       "    }\n",
       "</style>\n",
       "<table border=\"1\" class=\"dataframe\">\n",
       "  <thead>\n",
       "    <tr style=\"text-align: right;\">\n",
       "      <th></th>\n",
       "      <th>positions</th>\n",
       "      <th>poses</th>\n",
       "    </tr>\n",
       "  </thead>\n",
       "  <tbody>\n",
       "    <tr>\n",
       "      <th>142</th>\n",
       "      <td>[[9.195220947265625, 10.609621047973633], [9.5...</td>\n",
       "      <td>[[[0.0, 0.0, 0.0], [0.0, 0.0, 0.0], [0.0, 0.0,...</td>\n",
       "    </tr>\n",
       "    <tr>\n",
       "      <th>169</th>\n",
       "      <td>[[11.329968452453613, 11.791703224182129], [11...</td>\n",
       "      <td>[[[0.0, 0.0, 0.0], [0.0, 0.0, 0.0], [0.0, 0.0,...</td>\n",
       "    </tr>\n",
       "    <tr>\n",
       "      <th>176</th>\n",
       "      <td>[[3.5265533924102783, 12.17260456085205], [3.2...</td>\n",
       "      <td>[[[0.0, 0.0, 0.0], [0.0, 0.0, 0.0], [0.0, 0.0,...</td>\n",
       "    </tr>\n",
       "    <tr>\n",
       "      <th>177</th>\n",
       "      <td>[[3.263892889022827, 11.683351516723633], [2.9...</td>\n",
       "      <td>[[[0.0, 0.0, 0.0], [0.0, 0.0, 0.0], [0.0, 0.0,...</td>\n",
       "    </tr>\n",
       "    <tr>\n",
       "      <th>178</th>\n",
       "      <td>[[14.022448539733887, 7.1342573165893555], [14...</td>\n",
       "      <td>[[[0.0, 0.0, 0.0], [0.0, 0.0, 0.0], [0.0, 0.0,...</td>\n",
       "    </tr>\n",
       "    <tr>\n",
       "      <th>...</th>\n",
       "      <td>...</td>\n",
       "      <td>...</td>\n",
       "    </tr>\n",
       "    <tr>\n",
       "      <th>416</th>\n",
       "      <td>[[1.6299999952316284, 1.6799999475479126], [1....</td>\n",
       "      <td>[[[0.0, 0.0, 0.0], [0.0, 0.0, 0.0], [0.0, 0.0,...</td>\n",
       "    </tr>\n",
       "    <tr>\n",
       "      <th>417</th>\n",
       "      <td>[[3.7100000381469727, -0.949999988079071], [3....</td>\n",
       "      <td>[[[0.0, 0.0, 0.0], [0.0, 0.0, 0.0], [0.0, 0.0,...</td>\n",
       "    </tr>\n",
       "    <tr>\n",
       "      <th>418</th>\n",
       "      <td>[[3.7100000381469727, -4.820000171661377], [3....</td>\n",
       "      <td>[[[0.0, 0.0, 0.0], [0.0, 0.0, 0.0], [0.0, 0.0,...</td>\n",
       "    </tr>\n",
       "    <tr>\n",
       "      <th>419</th>\n",
       "      <td>[[3.369999885559082, -9.710000038146973], [3.3...</td>\n",
       "      <td>[[[0.0, 0.0, 0.0], [0.0, 0.0, 0.0], [0.0, 0.0,...</td>\n",
       "    </tr>\n",
       "    <tr>\n",
       "      <th>420</th>\n",
       "      <td>[[3.5, -8.720000267028809], [3.519999980926513...</td>\n",
       "      <td>[[[0.0, 0.0, 0.0], [0.0, 0.0, 0.0], [0.0, 0.0,...</td>\n",
       "    </tr>\n",
       "  </tbody>\n",
       "</table>\n",
       "<p>2145 rows × 2 columns</p>\n",
       "</div>"
      ],
      "text/plain": [
       "                                             positions  \\\n",
       "142  [[9.195220947265625, 10.609621047973633], [9.5...   \n",
       "169  [[11.329968452453613, 11.791703224182129], [11...   \n",
       "176  [[3.5265533924102783, 12.17260456085205], [3.2...   \n",
       "177  [[3.263892889022827, 11.683351516723633], [2.9...   \n",
       "178  [[14.022448539733887, 7.1342573165893555], [14...   \n",
       "..                                                 ...   \n",
       "416  [[1.6299999952316284, 1.6799999475479126], [1....   \n",
       "417  [[3.7100000381469727, -0.949999988079071], [3....   \n",
       "418  [[3.7100000381469727, -4.820000171661377], [3....   \n",
       "419  [[3.369999885559082, -9.710000038146973], [3.3...   \n",
       "420  [[3.5, -8.720000267028809], [3.519999980926513...   \n",
       "\n",
       "                                                 poses  \n",
       "142  [[[0.0, 0.0, 0.0], [0.0, 0.0, 0.0], [0.0, 0.0,...  \n",
       "169  [[[0.0, 0.0, 0.0], [0.0, 0.0, 0.0], [0.0, 0.0,...  \n",
       "176  [[[0.0, 0.0, 0.0], [0.0, 0.0, 0.0], [0.0, 0.0,...  \n",
       "177  [[[0.0, 0.0, 0.0], [0.0, 0.0, 0.0], [0.0, 0.0,...  \n",
       "178  [[[0.0, 0.0, 0.0], [0.0, 0.0, 0.0], [0.0, 0.0,...  \n",
       "..                                                 ...  \n",
       "416  [[[0.0, 0.0, 0.0], [0.0, 0.0, 0.0], [0.0, 0.0,...  \n",
       "417  [[[0.0, 0.0, 0.0], [0.0, 0.0, 0.0], [0.0, 0.0,...  \n",
       "418  [[[0.0, 0.0, 0.0], [0.0, 0.0, 0.0], [0.0, 0.0,...  \n",
       "419  [[[0.0, 0.0, 0.0], [0.0, 0.0, 0.0], [0.0, 0.0,...  \n",
       "420  [[[0.0, 0.0, 0.0], [0.0, 0.0, 0.0], [0.0, 0.0,...  \n",
       "\n",
       "[2145 rows x 2 columns]"
      ]
     },
     "execution_count": 139,
     "metadata": {},
     "output_type": "execute_result"
    }
   ],
   "source": [
    "def _list_dir(path):\n",
    "  files = os.listdir(path)\n",
    "  return files\n",
    "\n",
    "def _agents_pos_to_ragged_tensor(agents_df):\n",
    "  \"\"\"\n",
    "  Converts agent's positional data fom pandas dataframe to a dictionary of ragged tensors\n",
    "  \"\"\"\n",
    "  tensor_dict = collections.defaultdict(dict)\n",
    "  for i, df in agents_df.groupby('id'):\n",
    "    dropped_df = df.droplevel(1, axis=0)\n",
    "    r_tensor = tf.RaggedTensor.from_value_rowids(\n",
    "        values=np.vstack(df['p'].values).flatten().astype(np.float32),\n",
    "        value_rowids=np.tile(np.array(dropped_df.index),\n",
    "                             (2, 1)).transpose().flatten())\n",
    "    r_tensor = r_tensor.to_list()\n",
    "    r_tensor = [x for x in r_tensor if len(x)>0]\n",
    "    tensor_dict[i] = {'positions': np.asarray(r_tensor),\n",
    "                      'poses': np.zeros([len(r_tensor), 17,3])}\n",
    "  new_df = pd.DataFrame.from_dict(tensor_dict, orient='index')\n",
    "  return new_df\n",
    "\n",
    "\n",
    "def _load_scene(f):\n",
    "  \"\"\"\n",
    "  Loads and processes positional data from one scene (so one recording)\n",
    "  \"\"\"\n",
    "  pos_df = pd.read_csv(\n",
    "      f, header=None, delimiter='\\t', names=['timestep', 'id', 'x', 'y'])\n",
    "  pos_df.timestep = pos_df.timestep.astype(int) // 10\n",
    "  pos_df.timestep = pos_df.timestep - pos_df.timestep.min()\n",
    "  pos_df.id = pos_df.id.astype(int)\n",
    "  pos_df = pos_df.set_index(['timestep', 'id']).apply(\n",
    "      lambda x: pd.Series({'p': np.array(x)}), axis=1)\n",
    "  pos_ragged = _agents_pos_to_ragged_tensor(pos_df)\n",
    "  return pos_ragged\n",
    "\n",
    "  \n",
    "\n",
    "def load_train_dataset(path, dataset):\n",
    "    \"\"\"\n",
    "    loads the training dataset by loading the different scenes and combining the data\n",
    "    \"\"\"\n",
    "    num_history_steps = 5\n",
    "    num_steps = 15\n",
    "    num_agents = 1\n",
    "    scene_count = 0\n",
    "    new_ds = None\n",
    "    files = _list_dir(\n",
    "        os.path.join(path, dataset, 'val'))\n",
    "    files = [\n",
    "        os.path.join(path, dataset, 'val', f)\n",
    "        for f in files\n",
    "    ]\n",
    "    for f in files:\n",
    "        scene_dataset = _load_scene(f)\n",
    "        if scene_count == 0:\n",
    "          new_ds = scene_dataset\n",
    "          scene_count += 1\n",
    "        else:\n",
    "           new_ds = pd.concat([new_ds, scene_dataset], axis=0)\n",
    "\n",
    "    \n",
    "    return new_ds\n",
    "\n",
    "scenes = ['eth', 'hotel', 'univ', 'zara1', 'zara2']\n",
    "count = 0\n",
    "new_ds = None\n",
    "for s in scenes:\n",
    "  ds = load_train_dataset(\"/home/pbr-student/personal/thesis/test/PedestrianTrajectoryPrediction/Trajectron-plus-plus/experiments/pedestrians/raw\", s)\n",
    "  if count == 0:\n",
    "    new_ds = ds\n",
    "    count += 1\n",
    "  else:\n",
    "      new_ds = pd.concat([new_ds, ds], axis=0)\n",
    "\n",
    "new_ds"
   ]
  },
  {
   "cell_type": "code",
   "execution_count": 140,
   "metadata": {},
   "outputs": [],
   "source": [
    "def get_augmented_train_pickle(df):\n",
    "    \"\"\"\n",
    "    Augments the data by randomly rotating and translating it and combining it with the original data\n",
    "    \"\"\"\n",
    "    df=df.reset_index(drop=True)\n",
    "    def random_rotate(df):\n",
    "        augmented_df = pd.DataFrame(columns=['positions', 'poses'])\n",
    "\n",
    "        for i,row in df.iterrows():\n",
    "            yaw = np.random.uniform(-np.pi/4, np.pi/4)\n",
    "            \n",
    "            # Create rotation matrix for the yaw angle\n",
    "            cos_yaw = np.cos(yaw)\n",
    "            sin_yaw = np.sin(yaw)\n",
    "            rot_mat = np.array([\n",
    "                [cos_yaw, -sin_yaw],\n",
    "                [sin_yaw,  cos_yaw]\n",
    "            ])\n",
    "\n",
    "            augmented_df.loc[i] = [np.dot(row['positions'], rot_mat.T), row['poses']]\n",
    "        return augmented_df\n",
    "\n",
    "    def random_translate(df):\n",
    "        augmented_df = pd.DataFrame(columns=['positions', 'poses'])\n",
    "\n",
    "        for i,row in df.iterrows():\n",
    "            translation = np.random.uniform(-1.0, 1.0, 2)            \n",
    "            \n",
    "            augmented_df.loc[i] = [row['positions'] + translation, row['poses']]\n",
    "\n",
    "        return augmented_df\n",
    "\n",
    "    new_df = random_rotate(df)\n",
    "    new_df = random_translate(new_df)\n",
    "\n",
    "    aug_df = pd.concat([df, new_df], ignore_index=True)\n",
    "\n",
    "    aug_df.to_pickle('df_eth_augmented_val.pkl')\n",
    "\n",
    "get_augmented_train_pickle(new_ds)"
   ]
  },
  {
   "cell_type": "code",
   "execution_count": 128,
   "metadata": {},
   "outputs": [
    {
     "data": {
      "text/plain": [
       "5627"
      ]
     },
     "execution_count": 128,
     "metadata": {},
     "output_type": "execute_result"
    }
   ],
   "source": [
    "counter = 0\n",
    "for i, row in new_ds.iterrows():\n",
    "    if row['positions'].shape[0] > 15:\n",
    "        counter +=1\n",
    "counter"
   ]
  },
  {
   "cell_type": "code",
   "execution_count": 132,
   "metadata": {},
   "outputs": [],
   "source": [
    "new_ds.to_pickle('df_eth.pkl')"
   ]
  },
  {
   "cell_type": "code",
   "execution_count": 130,
   "metadata": {},
   "outputs": [
    {
     "data": {
      "text/plain": [
       "array([[ 1.40999997, -5.67999983],\n",
       "       [ 1.27999997, -6.3499999 ]])"
      ]
     },
     "execution_count": 130,
     "metadata": {},
     "output_type": "execute_result"
    }
   ],
   "source": [
    "ds.iloc[0]['positions']"
   ]
  },
  {
   "cell_type": "code",
   "execution_count": 122,
   "metadata": {},
   "outputs": [
    {
     "data": {
      "image/png": "[encoded data removed]",
      "text/plain": [
       "<Figure size 640x480 with 1 Axes>"
      ]
     },
     "metadata": {},
     "output_type": "display_data"
    }
   ],
   "source": [
    "plt.plot(ds.iloc[450]['positions'][:,0], ds.iloc[450]['positions'][:,1], 'bo')\n",
    "plt.show()\n"
   ]
  }
 ],
 "metadata": {
  "kernelspec": {
   "display_name": "openmmlab",
   "language": "python",
   "name": "python3"
  },
  "language_info": {
   "codemirror_mode": {
    "name": "ipython",
    "version": 3
   },
   "file_extension": ".py",
   "mimetype": "text/x-python",
   "name": "python",
   "nbconvert_exporter": "python",
   "pygments_lexer": "ipython3",
   "version": "3.8.19"
  }
 },
 "nbformat": 4,
 "nbformat_minor": 2
}
