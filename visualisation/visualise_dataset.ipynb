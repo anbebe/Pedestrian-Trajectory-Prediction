{
 "cells": [
  {
   "cell_type": "code",
   "execution_count": 1,
   "metadata": {},
   "outputs": [
    {
     "name": "stdout",
     "output_type": "stream",
     "text": [
      "Jupyter environment detected. Enabling Open3D WebVisualizer.\n",
      "[Open3D INFO] WebRTC GUI backend enabled.\n",
      "[Open3D INFO] WebRTCWindowSystem: HTTP handshake server disabled.\n"
     ]
    }
   ],
   "source": [
    "import os\n",
    "import sys\n",
    "import numpy as np \n",
    "import open3d as o3d\n",
    "import matplotlib.pyplot as plt\n",
    "import pandas as pd\n",
    "import colorsys"
   ]
  },
  {
   "cell_type": "code",
   "execution_count": 2,
   "metadata": {},
   "outputs": [],
   "source": [
    "# load dataset\n",
    "df = pd.read_pickle(\"../final_dataset.pkl\") "
   ]
  },
  {
   "cell_type": "code",
   "execution_count": 3,
   "metadata": {},
   "outputs": [
    {
     "data": {
      "text/html": [
       "<div>\n",
       "<style scoped>\n",
       "    .dataframe tbody tr th:only-of-type {\n",
       "        vertical-align: middle;\n",
       "    }\n",
       "\n",
       "    .dataframe tbody tr th {\n",
       "        vertical-align: top;\n",
       "    }\n",
       "\n",
       "    .dataframe thead th {\n",
       "        text-align: right;\n",
       "    }\n",
       "</style>\n",
       "<table border=\"1\" class=\"dataframe\">\n",
       "  <thead>\n",
       "    <tr style=\"text-align: right;\">\n",
       "      <th></th>\n",
       "      <th>id</th>\n",
       "      <th>voxelgrids</th>\n",
       "      <th>positions</th>\n",
       "      <th>poses</th>\n",
       "      <th>odoms</th>\n",
       "    </tr>\n",
       "  </thead>\n",
       "  <tbody>\n",
       "    <tr>\n",
       "      <th>2</th>\n",
       "      <td>-1</td>\n",
       "      <td>[[[25, 53], [32, 2], [17, 54], [26, 50], [30, ...</td>\n",
       "      <td>[[0.7827229554855963, -0.6603078958156333, 4.5...</td>\n",
       "      <td>[[[31.0, 57.0, 0.1766081601381302], [27.0, 52....</td>\n",
       "      <td>[[0.00022100093561436428, -0.00164606522993054...</td>\n",
       "    </tr>\n",
       "    <tr>\n",
       "      <th>5</th>\n",
       "      <td>-1</td>\n",
       "      <td>[[[17, 38], [36, 71], [18, 39], [29, 53], [24,...</td>\n",
       "      <td>[[1.8763295554092785, -0.7392371475816817, 8.6...</td>\n",
       "      <td>[[[17.0, 1.0, 0.22867129743099213], [17.0, 1.0...</td>\n",
       "      <td>[[-0.0010584275078791316, 0.005180639174413457...</td>\n",
       "    </tr>\n",
       "    <tr>\n",
       "      <th>6</th>\n",
       "      <td>-1</td>\n",
       "      <td>[[[13, 56], [8, 46], [20, 66], [44, 3], [43, 6...</td>\n",
       "      <td>[[1.2298735958886313, -0.6599135136166747, 8.2...</td>\n",
       "      <td>[[[19.0, 13.0, 0.1444173902273178], [17.0, 11....</td>\n",
       "      <td>[[-0.017197470816407222, -0.008501126993886861...</td>\n",
       "    </tr>\n",
       "    <tr>\n",
       "      <th>7</th>\n",
       "      <td>-1</td>\n",
       "      <td>[[[29, 68], [66, 59], [11, 93], [73, 58], [24,...</td>\n",
       "      <td>[[0.49709940835786537, -0.62631209064576, 7.09...</td>\n",
       "      <td>[[[18.0, 5.0, 0.17500989139080048], [21.0, 2.0...</td>\n",
       "      <td>[[0.00810160200217194, -0.006334385323650088, ...</td>\n",
       "    </tr>\n",
       "    <tr>\n",
       "      <th>11</th>\n",
       "      <td>-1</td>\n",
       "      <td>[[[22, 6], [23, 14], [23, 15], [26, 21], [23, ...</td>\n",
       "      <td>[[0.9673029278573837, -0.3436083278432631, 2.9...</td>\n",
       "      <td>[[[62.0, 62.0, 0.14962413907051086], [73.0, 45...</td>\n",
       "      <td>[[-0.027349297901359395, -0.011966854241542754...</td>\n",
       "    </tr>\n",
       "    <tr>\n",
       "      <th>...</th>\n",
       "      <td>...</td>\n",
       "      <td>...</td>\n",
       "      <td>...</td>\n",
       "      <td>...</td>\n",
       "      <td>...</td>\n",
       "    </tr>\n",
       "    <tr>\n",
       "      <th>62</th>\n",
       "      <td>-1</td>\n",
       "      <td>[[[23, 44], [40, 63], [51, 39], [54, 38], [55,...</td>\n",
       "      <td>[[2.0646910369067157, 0.029454739485260374, 12...</td>\n",
       "      <td>[[[17.0, 8.0, 0.43804463744163513], [18.0, 7.0...</td>\n",
       "      <td>[[0.8201163085873395, 0.018439196137287176, -0...</td>\n",
       "    </tr>\n",
       "    <tr>\n",
       "      <th>63</th>\n",
       "      <td>-1</td>\n",
       "      <td>[[[27, 41], [34, 33], [35, 32], [25, 49], [35,...</td>\n",
       "      <td>[[0.5297943744939886, 0.15403182231884144, 14....</td>\n",
       "      <td>[[[6.0, 10.0, 0.3750530183315277], [7.0, 8.0, ...</td>\n",
       "      <td>[[0.911513839439134, 0.07117954683799506, -0.0...</td>\n",
       "    </tr>\n",
       "    <tr>\n",
       "      <th>64</th>\n",
       "      <td>-1</td>\n",
       "      <td>[[[31, 27], [31, 28], [19, 24], [32, 27], [29,...</td>\n",
       "      <td>[[0.3631588607892603, 0.27299791081880703, 14....</td>\n",
       "      <td>[[[6.0, 6.0, 0.3497787415981293], [8.0, 4.0, 0...</td>\n",
       "      <td>[[0.7936269466417343, 0.10402028277580025, -0....</td>\n",
       "    </tr>\n",
       "    <tr>\n",
       "      <th>65</th>\n",
       "      <td>-1</td>\n",
       "      <td>[[[18, 1], [20, 27], [20, 40], [20, 8], [20, 2...</td>\n",
       "      <td>[[1.5867438468388022, 0.005319278432432738, 6....</td>\n",
       "      <td>[[[36.0, 20.0, 0.1559334546327591], [39.0, 17....</td>\n",
       "      <td>[[-0.029723254697543874, -0.012977081281250333...</td>\n",
       "    </tr>\n",
       "    <tr>\n",
       "      <th>66</th>\n",
       "      <td>-1</td>\n",
       "      <td>[[[18, 25], [16, 19], [18, 27], [16, 16], [22,...</td>\n",
       "      <td>[[0.8216737374088688, -0.02685507582222425, 6....</td>\n",
       "      <td>[[[25.0, 5.0, 0.27974289655685425], [24.0, 2.0...</td>\n",
       "      <td>[[-0.06334603180028515, -0.007212050508510007,...</td>\n",
       "    </tr>\n",
       "  </tbody>\n",
       "</table>\n",
       "<p>914 rows × 5 columns</p>\n",
       "</div>"
      ],
      "text/plain": [
       "    id                                         voxelgrids  \\\n",
       "2   -1  [[[25, 53], [32, 2], [17, 54], [26, 50], [30, ...   \n",
       "5   -1  [[[17, 38], [36, 71], [18, 39], [29, 53], [24,...   \n",
       "6   -1  [[[13, 56], [8, 46], [20, 66], [44, 3], [43, 6...   \n",
       "7   -1  [[[29, 68], [66, 59], [11, 93], [73, 58], [24,...   \n",
       "11  -1  [[[22, 6], [23, 14], [23, 15], [26, 21], [23, ...   \n",
       "..  ..                                                ...   \n",
       "62  -1  [[[23, 44], [40, 63], [51, 39], [54, 38], [55,...   \n",
       "63  -1  [[[27, 41], [34, 33], [35, 32], [25, 49], [35,...   \n",
       "64  -1  [[[31, 27], [31, 28], [19, 24], [32, 27], [29,...   \n",
       "65  -1  [[[18, 1], [20, 27], [20, 40], [20, 8], [20, 2...   \n",
       "66  -1  [[[18, 25], [16, 19], [18, 27], [16, 16], [22,...   \n",
       "\n",
       "                                            positions  \\\n",
       "2   [[0.7827229554855963, -0.6603078958156333, 4.5...   \n",
       "5   [[1.8763295554092785, -0.7392371475816817, 8.6...   \n",
       "6   [[1.2298735958886313, -0.6599135136166747, 8.2...   \n",
       "7   [[0.49709940835786537, -0.62631209064576, 7.09...   \n",
       "11  [[0.9673029278573837, -0.3436083278432631, 2.9...   \n",
       "..                                                ...   \n",
       "62  [[2.0646910369067157, 0.029454739485260374, 12...   \n",
       "63  [[0.5297943744939886, 0.15403182231884144, 14....   \n",
       "64  [[0.3631588607892603, 0.27299791081880703, 14....   \n",
       "65  [[1.5867438468388022, 0.005319278432432738, 6....   \n",
       "66  [[0.8216737374088688, -0.02685507582222425, 6....   \n",
       "\n",
       "                                                poses  \\\n",
       "2   [[[31.0, 57.0, 0.1766081601381302], [27.0, 52....   \n",
       "5   [[[17.0, 1.0, 0.22867129743099213], [17.0, 1.0...   \n",
       "6   [[[19.0, 13.0, 0.1444173902273178], [17.0, 11....   \n",
       "7   [[[18.0, 5.0, 0.17500989139080048], [21.0, 2.0...   \n",
       "11  [[[62.0, 62.0, 0.14962413907051086], [73.0, 45...   \n",
       "..                                                ...   \n",
       "62  [[[17.0, 8.0, 0.43804463744163513], [18.0, 7.0...   \n",
       "63  [[[6.0, 10.0, 0.3750530183315277], [7.0, 8.0, ...   \n",
       "64  [[[6.0, 6.0, 0.3497787415981293], [8.0, 4.0, 0...   \n",
       "65  [[[36.0, 20.0, 0.1559334546327591], [39.0, 17....   \n",
       "66  [[[25.0, 5.0, 0.27974289655685425], [24.0, 2.0...   \n",
       "\n",
       "                                                odoms  \n",
       "2   [[0.00022100093561436428, -0.00164606522993054...  \n",
       "5   [[-0.0010584275078791316, 0.005180639174413457...  \n",
       "6   [[-0.017197470816407222, -0.008501126993886861...  \n",
       "7   [[0.00810160200217194, -0.006334385323650088, ...  \n",
       "11  [[-0.027349297901359395, -0.011966854241542754...  \n",
       "..                                                ...  \n",
       "62  [[0.8201163085873395, 0.018439196137287176, -0...  \n",
       "63  [[0.911513839439134, 0.07117954683799506, -0.0...  \n",
       "64  [[0.7936269466417343, 0.10402028277580025, -0....  \n",
       "65  [[-0.029723254697543874, -0.012977081281250333...  \n",
       "66  [[-0.06334603180028515, -0.007212050508510007,...  \n",
       "\n",
       "[914 rows x 5 columns]"
      ]
     },
     "execution_count": 3,
     "metadata": {},
     "output_type": "execute_result"
    }
   ],
   "source": [
    "df"
   ]
  },
  {
   "cell_type": "code",
   "execution_count": 62,
   "metadata": {},
   "outputs": [],
   "source": [
    "# load specific track\n",
    "track_nr = 210\n",
    "\n",
    "# get pointcloud\n",
    "test_pts = df.iloc[track_nr][\"positions\"]\n",
    "pcd = o3d.geometry.PointCloud()\n",
    "pcd.points = o3d.utility.Vector3dVector(test_pts)"
   ]
  },
  {
   "cell_type": "code",
   "execution_count": 63,
   "metadata": {},
   "outputs": [],
   "source": [
    "# visualise in 3d\n",
    "ls_lines = [[i,i+1] for i in range(0,test_pts.shape[0]-1)]\n",
    "ls_colours = colors = [colorsys.hsv_to_rgb(i / 300., 1.0, 1.0) for i in range(len(ls_lines))]\n",
    "ls = o3d.geometry.LineSet()\n",
    "ls.points = o3d.utility.Vector3dVector(test_pts) # shape: (num_points, 3)\n",
    "ls.lines = o3d.utility.Vector2iVector(ls_lines)   \n",
    "ls.colors = o3d.utility.Vector3dVector(ls_colours)\n",
    "o3d.visualization.draw_geometries([ls])"
   ]
  },
  {
   "cell_type": "code",
   "execution_count": 64,
   "metadata": {},
   "outputs": [
    {
     "data": {
      "text/plain": [
       "[<matplotlib.lines.Line2D at 0x7f71284b43d0>]"
      ]
     },
     "execution_count": 64,
     "metadata": {},
     "output_type": "execute_result"
    },
    {
     "data": {
      "image/png": "[encoded data removed]",
      "text/plain": [
       "<Figure size 640x480 with 1 Axes>"
      ]
     },
     "metadata": {},
     "output_type": "display_data"
    }
   ],
   "source": [
    "# visualise in 2d\n",
    "x = test_pts[:,0]\n",
    "y = test_pts[:,1]\n",
    "z = test_pts[:,2]\n",
    "plt.plot(x,z)"
   ]
  }
 ],
 "metadata": {
  "kernelspec": {
   "display_name": "openmmlab",
   "language": "python",
   "name": "python3"
  },
  "language_info": {
   "codemirror_mode": {
    "name": "ipython",
    "version": 3
   },
   "file_extension": ".py",
   "mimetype": "text/x-python",
   "name": "python",
   "nbconvert_exporter": "python",
   "pygments_lexer": "ipython3",
   "version": "3.8.19"
  }
 },
 "nbformat": 4,
 "nbformat_minor": 2
}
