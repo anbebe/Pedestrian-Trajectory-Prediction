{
 "cells": [
  {
   "cell_type": "code",
   "execution_count": 1,
   "metadata": {},
   "outputs": [
    {
     "name": "stdout",
     "output_type": "stream",
     "text": [
      "Jupyter environment detected. Enabling Open3D WebVisualizer.\n",
      "[Open3D INFO] WebRTC GUI backend enabled.\n",
      "[Open3D INFO] WebRTCWindowSystem: HTTP handshake server disabled.\n"
     ]
    }
   ],
   "source": [
    "import os\n",
    "import sys\n",
    "import numpy as np \n",
    "import open3d as o3d\n",
    "import matplotlib.pyplot as plt\n",
    "import pandas as pd\n",
    "import colorsys"
   ]
  },
  {
   "cell_type": "code",
   "execution_count": 2,
   "metadata": {},
   "outputs": [],
   "source": [
    "# load dataset\n",
    "#df = pd.read_pickle(\"../final_dataset.pkl\") \n",
    "df = pd.read_pickle(\"../df_jrdb_augmented.pkl\") "
   ]
  },
  {
   "cell_type": "code",
   "execution_count": 3,
   "metadata": {},
   "outputs": [
    {
     "data": {
      "text/html": [
       "<div>\n",
       "<style scoped>\n",
       "    .dataframe tbody tr th:only-of-type {\n",
       "        vertical-align: middle;\n",
       "    }\n",
       "\n",
       "    .dataframe tbody tr th {\n",
       "        vertical-align: top;\n",
       "    }\n",
       "\n",
       "    .dataframe thead th {\n",
       "        text-align: right;\n",
       "    }\n",
       "</style>\n",
       "<table border=\"1\" class=\"dataframe\">\n",
       "  <thead>\n",
       "    <tr style=\"text-align: right;\">\n",
       "      <th></th>\n",
       "      <th>positions</th>\n",
       "      <th>poses</th>\n",
       "    </tr>\n",
       "  </thead>\n",
       "  <tbody>\n",
       "    <tr>\n",
       "      <th>0</th>\n",
       "      <td>[[1.6433, 1.31074, 0.05498], [1.61661, 1.27148...</td>\n",
       "      <td>[[[21.4, 9.8, 2.0], [25.55, 31.25, 2.0], [38.1...</td>\n",
       "    </tr>\n",
       "    <tr>\n",
       "      <th>1</th>\n",
       "      <td>[[0.83958, -0.50863, 0.045], [0.85848, -0.4422...</td>\n",
       "      <td>[[[563.57, -178.91, 0.0], [587.46, -136.51, 0....</td>\n",
       "    </tr>\n",
       "    <tr>\n",
       "      <th>2</th>\n",
       "      <td>[[1.53163, 1.33974, 0.03798], [1.52811, 1.3346...</td>\n",
       "      <td>[[[11.24, 23.85, 2.0], [-2.52, 46.95, 0.0], [-...</td>\n",
       "    </tr>\n",
       "    <tr>\n",
       "      <th>3</th>\n",
       "      <td>[[1.84136, 1.52542, -0.005], [1.83469, 1.50237...</td>\n",
       "      <td>[[[60.4, 70.02, 2.0], [54.05, 88.92, 2.0], [58...</td>\n",
       "    </tr>\n",
       "    <tr>\n",
       "      <th>4</th>\n",
       "      <td>[[1.72412, 1.30398, -0.01211], [1.69748, 1.244...</td>\n",
       "      <td>[[[68.25, 39.05, 2.0], [69.55, 66.05, 2.0], [7...</td>\n",
       "    </tr>\n",
       "    <tr>\n",
       "      <th>...</th>\n",
       "      <td>...</td>\n",
       "      <td>...</td>\n",
       "    </tr>\n",
       "    <tr>\n",
       "      <th>4289</th>\n",
       "      <td>[[5.968267727453773, 5.490492822033447, -0.065...</td>\n",
       "      <td>[[[-354.86317850622595, 63.36005871571147, 1.0...</td>\n",
       "    </tr>\n",
       "    <tr>\n",
       "      <th>4290</th>\n",
       "      <td>[[-9.463164342874244, 4.724265857019843, 0.025...</td>\n",
       "      <td>[[[72.55889816272631, 74.74382113199131, 2.0],...</td>\n",
       "    </tr>\n",
       "    <tr>\n",
       "      <th>4291</th>\n",
       "      <td>[[-3.364940896402999, -0.649425695671161, -0.0...</td>\n",
       "      <td>[[[-135.90354242194445, 721.5244311575088, 2.0...</td>\n",
       "    </tr>\n",
       "    <tr>\n",
       "      <th>4292</th>\n",
       "      <td>[[-0.497088846780676, 2.0076951175310342, -0.1...</td>\n",
       "      <td>[[[558.0353499688866, -232.6153921929978, 1.0]...</td>\n",
       "    </tr>\n",
       "    <tr>\n",
       "      <th>4293</th>\n",
       "      <td>[[-6.874518290769901, 0.8646704641500271, -0.0...</td>\n",
       "      <td>[[[-6.782455207226686, 143.35711807009082, 2.0...</td>\n",
       "    </tr>\n",
       "  </tbody>\n",
       "</table>\n",
       "<p>4294 rows × 2 columns</p>\n",
       "</div>"
      ],
      "text/plain": [
       "                                              positions  \\\n",
       "0     [[1.6433, 1.31074, 0.05498], [1.61661, 1.27148...   \n",
       "1     [[0.83958, -0.50863, 0.045], [0.85848, -0.4422...   \n",
       "2     [[1.53163, 1.33974, 0.03798], [1.52811, 1.3346...   \n",
       "3     [[1.84136, 1.52542, -0.005], [1.83469, 1.50237...   \n",
       "4     [[1.72412, 1.30398, -0.01211], [1.69748, 1.244...   \n",
       "...                                                 ...   \n",
       "4289  [[5.968267727453773, 5.490492822033447, -0.065...   \n",
       "4290  [[-9.463164342874244, 4.724265857019843, 0.025...   \n",
       "4291  [[-3.364940896402999, -0.649425695671161, -0.0...   \n",
       "4292  [[-0.497088846780676, 2.0076951175310342, -0.1...   \n",
       "4293  [[-6.874518290769901, 0.8646704641500271, -0.0...   \n",
       "\n",
       "                                                  poses  \n",
       "0     [[[21.4, 9.8, 2.0], [25.55, 31.25, 2.0], [38.1...  \n",
       "1     [[[563.57, -178.91, 0.0], [587.46, -136.51, 0....  \n",
       "2     [[[11.24, 23.85, 2.0], [-2.52, 46.95, 0.0], [-...  \n",
       "3     [[[60.4, 70.02, 2.0], [54.05, 88.92, 2.0], [58...  \n",
       "4     [[[68.25, 39.05, 2.0], [69.55, 66.05, 2.0], [7...  \n",
       "...                                                 ...  \n",
       "4289  [[[-354.86317850622595, 63.36005871571147, 1.0...  \n",
       "4290  [[[72.55889816272631, 74.74382113199131, 2.0],...  \n",
       "4291  [[[-135.90354242194445, 721.5244311575088, 2.0...  \n",
       "4292  [[[558.0353499688866, -232.6153921929978, 1.0]...  \n",
       "4293  [[[-6.782455207226686, 143.35711807009082, 2.0...  \n",
       "\n",
       "[4294 rows x 2 columns]"
      ]
     },
     "execution_count": 3,
     "metadata": {},
     "output_type": "execute_result"
    }
   ],
   "source": [
    "df"
   ]
  },
  {
   "cell_type": "code",
   "execution_count": 4,
   "metadata": {},
   "outputs": [],
   "source": [
    "# load specific track\n",
    "track_nr = 4100\n",
    "# get pointcloud\n",
    "test_pts = df.iloc[track_nr][\"positions\"]\n",
    "pcd = o3d.geometry.PointCloud()\n",
    "pcd.points = o3d.utility.Vector3dVector(test_pts)"
   ]
  },
  {
   "cell_type": "code",
   "execution_count": 5,
   "metadata": {},
   "outputs": [],
   "source": [
    "# visualise in 3d\n",
    "ls_lines = [[i,i+1] for i in range(0,test_pts.shape[0]-1)]\n",
    "ls_colours = colors = [colorsys.hsv_to_rgb(i / 300., 1.0, 1.0) for i in range(len(ls_lines))]\n",
    "ls = o3d.geometry.LineSet()\n",
    "ls.points = o3d.utility.Vector3dVector(test_pts) # shape: (num_points, 3)\n",
    "ls.lines = o3d.utility.Vector2iVector(ls_lines)   \n",
    "ls.colors = o3d.utility.Vector3dVector(ls_colours)\n",
    "o3d.visualization.draw_geometries([ls])"
   ]
  },
  {
   "cell_type": "code",
   "execution_count": 5,
   "metadata": {},
   "outputs": [
    {
     "data": {
      "text/plain": [
       "[<matplotlib.lines.Line2D at 0x7f2953a14b50>]"
      ]
     },
     "execution_count": 5,
     "metadata": {},
     "output_type": "execute_result"
    },
    {
     "data": {
      "image/png": "[encoded data removed]",
      "text/plain": [
       "<Figure size 640x480 with 1 Axes>"
      ]
     },
     "metadata": {},
     "output_type": "display_data"
    }
   ],
   "source": [
    "# visualise in 2d\n",
    "x = test_pts[:,0]\n",
    "y = test_pts[:,1]\n",
    "z = test_pts[:,2]\n",
    "plt.plot(x,y, 'bo-')"
   ]
  }
 ],
 "metadata": {
  "kernelspec": {
   "display_name": "openmmlab",
   "language": "python",
   "name": "python3"
  },
  "language_info": {
   "codemirror_mode": {
    "name": "ipython",
    "version": 3
   },
   "file_extension": ".py",
   "mimetype": "text/x-python",
   "name": "python",
   "nbconvert_exporter": "python",
   "pygments_lexer": "ipython3",
   "version": "3.8.19"
  }
 },
 "nbformat": 4,
 "nbformat_minor": 2
}
