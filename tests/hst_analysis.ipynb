{
 "cells": [
  {
   "cell_type": "code",
   "execution_count": 1,
   "metadata": {},
   "outputs": [
    {
     "name": "stderr",
     "output_type": "stream",
     "text": [
      "2024-09-24 12:17:40.626679: I tensorflow/core/platform/cpu_feature_guard.cc:182] This TensorFlow binary is optimized to use available CPU instructions in performance-critical operations.\n",
      "To enable the following instructions: AVX2 FMA, in other operations, rebuild TensorFlow with the appropriate compiler flags.\n",
      "2024-09-24 12:17:41.686317: W tensorflow/compiler/tf2tensorrt/utils/py_utils.cc:38] TF-TRT Warning: Could not find TensorRT\n"
     ]
    },
    {
     "name": "stdout",
     "output_type": "stream",
     "text": [
      "Jupyter environment detected. Enabling Open3D WebVisualizer.\n",
      "[Open3D INFO] WebRTC GUI backend enabled.\n",
      "[Open3D INFO] WebRTCWindowSystem: HTTP handshake server disabled.\n",
      "Using TensorFlow backend\n"
     ]
    }
   ],
   "source": [
    "import sys\n",
    "import os\n",
    "import tensorflow as tf\n",
    "import numpy as np\n",
    "import matplotlib.pyplot as plt\n",
    "\n",
    "sys.path.append(os.path.abspath('..'))\n",
    "\n",
    "from model import preprocess_data\n",
    "from model.train import HST"
   ]
  },
  {
   "cell_type": "markdown",
   "metadata": {},
   "source": [
    "# Load model and dataset to test"
   ]
  },
  {
   "cell_type": "code",
   "execution_count": 2,
   "metadata": {},
   "outputs": [
    {
     "name": "stderr",
     "output_type": "stream",
     "text": [
      "2024-09-24 12:17:52.924666: I tensorflow/compiler/xla/stream_executor/cuda/cuda_gpu_executor.cc:981] could not open file to read NUMA node: /sys/bus/pci/devices/0000:01:00.0/numa_node\n",
      "Your kernel may have been built without NUMA support.\n",
      "2024-09-24 12:17:52.957305: I tensorflow/compiler/xla/stream_executor/cuda/cuda_gpu_executor.cc:981] could not open file to read NUMA node: /sys/bus/pci/devices/0000:01:00.0/numa_node\n",
      "Your kernel may have been built without NUMA support.\n",
      "2024-09-24 12:17:52.958128: I tensorflow/compiler/xla/stream_executor/cuda/cuda_gpu_executor.cc:981] could not open file to read NUMA node: /sys/bus/pci/devices/0000:01:00.0/numa_node\n",
      "Your kernel may have been built without NUMA support.\n",
      "2024-09-24 12:17:52.961398: I tensorflow/compiler/xla/stream_executor/cuda/cuda_gpu_executor.cc:981] could not open file to read NUMA node: /sys/bus/pci/devices/0000:01:00.0/numa_node\n",
      "Your kernel may have been built without NUMA support.\n",
      "2024-09-24 12:17:52.961972: I tensorflow/compiler/xla/stream_executor/cuda/cuda_gpu_executor.cc:981] could not open file to read NUMA node: /sys/bus/pci/devices/0000:01:00.0/numa_node\n",
      "Your kernel may have been built without NUMA support.\n",
      "2024-09-24 12:17:52.962523: I tensorflow/compiler/xla/stream_executor/cuda/cuda_gpu_executor.cc:981] could not open file to read NUMA node: /sys/bus/pci/devices/0000:01:00.0/numa_node\n",
      "Your kernel may have been built without NUMA support.\n",
      "2024-09-24 12:17:54.148152: I tensorflow/compiler/xla/stream_executor/cuda/cuda_gpu_executor.cc:981] could not open file to read NUMA node: /sys/bus/pci/devices/0000:01:00.0/numa_node\n",
      "Your kernel may have been built without NUMA support.\n",
      "2024-09-24 12:17:54.149279: I tensorflow/compiler/xla/stream_executor/cuda/cuda_gpu_executor.cc:981] could not open file to read NUMA node: /sys/bus/pci/devices/0000:01:00.0/numa_node\n",
      "Your kernel may have been built without NUMA support.\n",
      "2024-09-24 12:17:54.149312: I tensorflow/core/common_runtime/gpu/gpu_device.cc:1726] Could not identify NUMA node of platform GPU id 0, defaulting to 0.  Your kernel may not have been built with NUMA support.\n",
      "2024-09-24 12:17:54.149910: I tensorflow/compiler/xla/stream_executor/cuda/cuda_gpu_executor.cc:981] could not open file to read NUMA node: /sys/bus/pci/devices/0000:01:00.0/numa_node\n",
      "Your kernel may have been built without NUMA support.\n",
      "2024-09-24 12:17:54.149969: I tensorflow/core/common_runtime/gpu/gpu_device.cc:1639] Created device /job:localhost/replica:0/task:0/device:GPU:0 with 5582 MB memory:  -> device: 0, name: NVIDIA GeForce RTX 3070 Laptop GPU, pci bus id: 0000:01:00.0, compute capability: 8.6\n",
      "[libprotobuf ERROR external/com_google_protobuf/src/google/protobuf/text_format.cc:337] Error parsing text-format tensorflow.data.experimental.DistributedSnapshotMetadata: 1:1: Invalid control characters encountered in text.\n",
      "[libprotobuf ERROR external/com_google_protobuf/src/google/protobuf/text_format.cc:337] Error parsing text-format tensorflow.data.experimental.DistributedSnapshotMetadata: 1:3: Expected identifier, got: 783722239982921390\n"
     ]
    }
   ],
   "source": [
    "synthetic_dataset =  \"/home/annalena/PedestrianTrajectoryPrediction/datasets/test_dataset_synth\"\n",
    "jrdb_original = \"/home/annalena/PedestrianTrajectoryPrediction/datasets/test_dataset_orig\"\n",
    "jrdb_odometry_processed = \"/home/annalena/PedestrianTrajectoryPrediction/datasets/test_dataset_odom\"\n",
    "synth_norm = \"/home/annalena/PedestrianTrajectoryPrediction/datasets/test_dataset_synth_norm\"\n",
    "eth_augmented = \"/home/annalena/PedestrianTrajectoryPrediction/datasets/test_dataset_eth_aug\"\n",
    "crowdbot_odom = \"/home/annalena/PedestrianTrajectoryPrediction/datasets/crowdbot_test_data\"\n",
    "crowdbot_orig = \"/home/annalena/PedestrianTrajectoryPrediction/datasets/crowdbot_test\"\n",
    "\n",
    "test_dataset =  tf.data.Dataset.load(synthetic_dataset)\n",
    "test_dataset = tf.data.Dataset.unbatch(test_dataset)\n",
    "test_dataset = test_dataset.batch(1000)"
   ]
  },
  {
   "cell_type": "code",
   "execution_count": 3,
   "metadata": {},
   "outputs": [
    {
     "data": {
      "text/plain": [
       "<tensorflow.python.checkpoint.checkpoint.CheckpointLoadStatus at 0x7f014c1eaa90>"
      ]
     },
     "execution_count": 3,
     "metadata": {},
     "output_type": "execute_result"
    }
   ],
   "source": [
    "synthetic_dataset_model =  \"/home/annalena/PedestrianTrajectoryPrediction/trained_models/synth_5/ckpts_best/ckpt\" #5/10\n",
    "synthetic_dataset_model2 =  \"/home/annalena/PedestrianTrajectoryPrediction/trained_models/synth_8/ckpts_best/ckpt\" # 8/7\n",
    "# jrdb_original =  TODO\n",
    "jrdb_odom = \"/home/annalena/PedestrianTrajectoryPrediction/trained_models/odom_aug/ckpts_best/ckpt\" # 5/10\n",
    "jrdb_odom_2 = \"/home/annalena/PedestrianTrajectoryPrediction/trained_models/odom_aug_8/ckpts_best/ckpt\" # 8/7\n",
    "jrdb_pose = \"/home/annalena/PedestrianTrajectoryPrediction/trained_models/odom_aug_pose/ckpts_best/ckpt\"\n",
    "eth_augmented = \"/home/annalena/PedestrianTrajectoryPrediction/trained_models/eth_aug/ckpts_best/ckpt\"\n",
    "eth_finetuned = \"/home/annalena/PedestrianTrajectoryPrediction/trained_models/eth_tune_synth/ckpts_best/ckpt\"\n",
    "\n",
    "\n",
    "model = HST(15)\n",
    "optimizer = tf.keras.optimizers.Adam()\n",
    "checkpoint = tf.train.Checkpoint(model=model, optimizer=optimizer)\n",
    "latest_checkpoint = tf.train.latest_checkpoint(synthetic_dataset_model) # put trained model here\n",
    "checkpoint.restore(latest_checkpoint)"
   ]
  },
  {
   "cell_type": "markdown",
   "metadata": {},
   "source": [
    "# Predict and show examples"
   ]
  },
  {
   "cell_type": "code",
   "execution_count": 4,
   "metadata": {},
   "outputs": [],
   "source": [
    "%matplotlib inline"
   ]
  },
  {
   "cell_type": "code",
   "execution_count": 5,
   "metadata": {},
   "outputs": [],
   "source": [
    "def plot_example(input, pred, idx, mode):\n",
    "\n",
    "    ground_truth = input[0][idx][:,:2].numpy()\n",
    "    prediction = pred[\"position\"][idx,:,mode,:2].numpy()\n",
    "\n",
    "    plt.plot(ground_truth[:6,0], ground_truth[:6,1], 'ro-', label='Ground Truth Input')\n",
    "    plt.plot(ground_truth[6:,0], ground_truth[6:,1], 'rx-', label='Ground Truth Forecast')\n",
    "    plt.plot(prediction[6:,0], prediction[6:,1],'bo-', label='Model Forecast')\n",
    "    plt.show()\n",
    "def plot_all(input_batch, pred, idx, mode):\n",
    "    ground_truth = input_batch[0][idx][:,:2].numpy()\n",
    "    prediction = pred[\"position\"][idx,:,mode,:2].numpy()\n",
    "\n",
    "\n",
    "    fig, (ax1, ax2, ax3) = plt.subplots(1, 3)\n",
    "\n",
    "    ax1.plot(ground_truth[1:,0], ground_truth[1:,1], 'ro-')\n",
    "    ax1.plot(prediction[6:,0], prediction[6:,1],'bo-')\n",
    "    ax2.plot(ground_truth[6:,0], ground_truth[6:,1], 'ro-')\n",
    "    ax3.plot(prediction[6:,0], prediction[6:,1],'bo-')\n",
    "    fig.show()"
   ]
  },
  {
   "cell_type": "code",
   "execution_count": 6,
   "metadata": {},
   "outputs": [
    {
     "name": "stderr",
     "output_type": "stream",
     "text": [
      "[libprotobuf ERROR external/com_google_protobuf/src/google/protobuf/text_format.cc:337] Error parsing text-format tensorflow.data.experimental.DistributedSnapshotMetadata: 1:1: Invalid control characters encountered in text.\n",
      "[libprotobuf ERROR external/com_google_protobuf/src/google/protobuf/text_format.cc:337] Error parsing text-format tensorflow.data.experimental.DistributedSnapshotMetadata: 1:3: Expected identifier, got: 783722239982921390\n",
      "2024-09-24 12:18:03.355858: I tensorflow/compiler/xla/stream_executor/cuda/cuda_blas.cc:606] TensorFloat-32 will be used for the matrix multiplication. This will only be logged once.\n"
     ]
    },
    {
     "name": "stdout",
     "output_type": "stream",
     "text": [
      "Execution Time: 1.5836613178253174 seconds\n"
     ]
    }
   ],
   "source": [
    "import time\n",
    "for (batch_x1, batch_x2) in test_dataset.take(1):\n",
    "    input_batch = (batch_x1, batch_x2)\n",
    "    start_time = time.time()\n",
    "    output_dict, pred = model(input_batch, training=False)\n",
    "    end_time = time.time()\n",
    "print(f\"Execution Time: {end_time - start_time} seconds\")"
   ]
  },
  {
   "cell_type": "code",
   "execution_count": 14,
   "metadata": {},
   "outputs": [
    {
     "data": {
      "image/png": "[encoded data removed]",
      "text/plain": [
       "<Figure size 640x480 with 1 Axes>"
      ]
     },
     "metadata": {},
     "output_type": "display_data"
    }
   ],
   "source": [
    "idx =8\n",
    "best_mode = np.argmax(output_dict[\"mixture_logits\"][idx].numpy())\n",
    "plot_example(input_batch, pred, idx, mode=best_mode)\n",
    "#plot_all(input_batch, pred, idx, mode=best_mode)"
   ]
  },
  {
   "cell_type": "code",
   "execution_count": null,
   "metadata": {},
   "outputs": [],
   "source": [
    "# plot the relative positions to compare trajectories\n",
    "def plot_example(input, pred, idx, mode):\n",
    "\n",
    "    ground_truth = input[0][idx][:,:2].numpy()\n",
    "    prediction = pred[\"position\"][idx,:,mode,:2].numpy()\n",
    "\n",
    "    plt.plot(ground_truth[:9,0], ground_truth[:9,1], 'ro-', label='Ground Truth Input')\n",
    "    plt.plot(ground_truth[9:,0], ground_truth[9:,1], 'rx-', label='Ground Truth Forecast')\n",
    "    plt.plot(prediction[9:,0], prediction[9:,1],'bo-', label='Model Forecast')\n",
    "    plt.show()"
   ]
  },
  {
   "cell_type": "markdown",
   "metadata": {},
   "source": [
    "# Accuracy Metrics"
   ]
  },
  {
   "cell_type": "markdown",
   "metadata": {},
   "source": [
    "Mean ADE and Mean FDE"
   ]
  },
  {
   "cell_type": "code",
   "execution_count": 10,
   "metadata": {},
   "outputs": [],
   "source": [
    "def calculate_meanADE(ground_truth, predictions, dim):\n",
    "        predicted_positions = predictions[:, :, :dim]\n",
    "        displacement_errors = np.linalg.norm(ground_truth - predicted_positions, axis=2)\n",
    "        ADE = np.mean(np.mean(displacement_errors, axis=1))\n",
    "        return ADE\n",
    "\n",
    "def calculate_meanFDE(ground_truth, predictions, dim):\n",
    "        predicted_positions = predictions[:, :, :dim]\n",
    "        final_displacement_errors = np.linalg.norm(ground_truth[:, -1] - predicted_positions[:, -1], axis=1)\n",
    "        FDE = np.mean(final_displacement_errors)\n",
    "        return FDE"
   ]
  },
  {
   "cell_type": "code",
   "execution_count": 20,
   "metadata": {},
   "outputs": [],
   "source": [
    "def get_best_pred(pred):\n",
    "    best_pred = []\n",
    "    for i in range(1000):\n",
    "        best_mode = np.argmax(output_dict[\"mixture_logits\"][i].numpy())\n",
    "        best_pred.append( pred[\"position\"][i,:,best_mode,:2].numpy())\n",
    "    return np.asarray(best_pred)\n",
    "best_pred = get_best_pred(pred)"
   ]
  },
  {
   "cell_type": "code",
   "execution_count": 19,
   "metadata": {},
   "outputs": [],
   "source": [
    "with open('best_synth_pred.npy','wb') as f:\n",
    "    np.save(f, best_pred)\n"
   ]
  },
  {
   "cell_type": "code",
   "execution_count": 21,
   "metadata": {},
   "outputs": [
    {
     "name": "stdout",
     "output_type": "stream",
     "text": [
      "mean ADE 1.6404527730884184\n",
      "mean FDE 1.6697480197823817\n"
     ]
    }
   ],
   "source": [
    "meanADE = calculate_meanADE(input_batch[0].numpy()[:,9:,:2], best_pred[:,9:,:2], dim=2)\n",
    "meanFDE = calculate_meanFDE(input_batch[0].numpy()[:,9:,:2], best_pred[:,9:,:2], dim=2)\n",
    "print(\"mean ADE\", meanADE)\n",
    "print(\"mean FDE\", meanFDE)"
   ]
  }
 ],
 "metadata": {
  "kernelspec": {
   "display_name": "tf",
   "language": "python",
   "name": "python3"
  },
  "language_info": {
   "codemirror_mode": {
    "name": "ipython",
    "version": 3
   },
   "file_extension": ".py",
   "mimetype": "text/x-python",
   "name": "python",
   "nbconvert_exporter": "python",
   "pygments_lexer": "ipython3",
   "version": "3.8.19"
  }
 },
 "nbformat": 4,
 "nbformat_minor": 2
}
