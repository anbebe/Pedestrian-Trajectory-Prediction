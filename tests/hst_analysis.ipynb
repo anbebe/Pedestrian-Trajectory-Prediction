{
 "cells": [
  {
   "cell_type": "code",
   "execution_count": 2,
   "metadata": {},
   "outputs": [
    {
     "name": "stdout",
     "output_type": "stream",
     "text": [
      "Using TensorFlow backend\n"
     ]
    }
   ],
   "source": [
    "import sys\n",
    "import os\n",
    "import tensorflow as tf\n",
    "import numpy as np\n",
    "import matplotlib.pyplot as plt\n",
    "\n",
    "sys.path.append(os.path.abspath('..'))\n",
    "\n",
    "from model import preprocess_data\n",
    "from model.train import HST"
   ]
  },
  {
   "cell_type": "markdown",
   "metadata": {},
   "source": [
    "# Load model and dataset to test"
   ]
  },
  {
   "cell_type": "code",
   "execution_count": 4,
   "metadata": {},
   "outputs": [
    {
     "name": "stderr",
     "output_type": "stream",
     "text": [
      "[libprotobuf ERROR external/com_google_protobuf/src/google/protobuf/text_format.cc:337] Error parsing text-format tensorflow.data.experimental.DistributedSnapshotMetadata: 1:1: Invalid control characters encountered in text.\n",
      "[libprotobuf ERROR external/com_google_protobuf/src/google/protobuf/text_format.cc:337] Error parsing text-format tensorflow.data.experimental.DistributedSnapshotMetadata: 1:3: Expected identifier, got: 10221441867834611256\n"
     ]
    }
   ],
   "source": [
    "synthetic_dataset =  \"/home/annalena/PedestrianTrajectoryPrediction/datasets/test_dataset_synth\"\n",
    "jrdb_original = \"/home/annalena/PedestrianTrajectoryPrediction/datasets/test_dataset_orig\"\n",
    "jrdb_odometry_processed = \"/home/annalena/PedestrianTrajectoryPrediction/datasets/test_dataset_odom\"\n",
    "eth_augmented = \"/home/annalena/PedestrianTrajectoryPrediction/datasets/test_dataset_eth_aug\"\n",
    "crowdbot_odom = \"/home/annalena/PedestrianTrajectoryPrediction/datasets/crowdbot_test_data\"\n",
    "crowdbot_orig = \"/home/annalena/PedestrianTrajectoryPrediction/datasets/crowdbot_test\"\n",
    "\n",
    "test_dataset =  tf.data.Dataset.load(crowdbot_odom)\n",
    "test_dataset = tf.data.Dataset.unbatch(test_dataset)\n",
    "test_dataset = test_dataset.batch(1000)"
   ]
  },
  {
   "cell_type": "code",
   "execution_count": 20,
   "metadata": {},
   "outputs": [
    {
     "data": {
      "text/plain": [
       "<tensorflow.python.checkpoint.checkpoint.CheckpointLoadStatus at 0x7febd866fac0>"
      ]
     },
     "execution_count": 20,
     "metadata": {},
     "output_type": "execute_result"
    }
   ],
   "source": [
    "synthetic_dataset_model =  \"/home/annalena/PedestrianTrajectoryPrediction/trained_models/trained_synth/ckpts_best/ckpt\"\n",
    "# jrdb_original =  TODO\n",
    "jrdb_odometry_processed = \"/home/annalena/PedestrianTrajectoryPrediction/trained_models/odom_aug/ckpts_best/ckpt\"\n",
    "eth_augmented = \"/home/annalena/PedestrianTrajectoryPrediction/trained_models/eth_aug/ckpts_best/ckpt\"\n",
    "eth_finetuned = \"/home/annalena/PedestrianTrajectoryPrediction/trained_models/eth_tune_synth/ckpts_best/ckpt\"\n",
    "\n",
    "\n",
    "model = HST(15)\n",
    "optimizer = tf.keras.optimizers.Adam()\n",
    "checkpoint = tf.train.Checkpoint(model=model, optimizer=optimizer)\n",
    "latest_checkpoint = tf.train.latest_checkpoint(eth_augmented) # put trained model here\n",
    "checkpoint.restore(latest_checkpoint)"
   ]
  },
  {
   "cell_type": "markdown",
   "metadata": {},
   "source": [
    "# Predict and show examples"
   ]
  },
  {
   "cell_type": "code",
   "execution_count": 6,
   "metadata": {},
   "outputs": [],
   "source": [
    "%matplotlib inline"
   ]
  },
  {
   "cell_type": "code",
   "execution_count": 21,
   "metadata": {},
   "outputs": [],
   "source": [
    "def plot_example(input, pred, idx, mode):\n",
    "\n",
    "    ground_truth = input[0][idx][:,:2].numpy()\n",
    "    prediction = pred[\"position\"][idx,:,mode,:2].numpy()\n",
    "\n",
    "    plt.plot(ground_truth[:6,0], ground_truth[:6,1], 'ro-', label='Ground Truth Input')\n",
    "    plt.plot(ground_truth[6:,0], ground_truth[6:,1], 'rx-', label='Ground Truth Forecast')\n",
    "    plt.plot(prediction[6:,0], prediction[6:,1],'bo-', label='Model Forecast')\n",
    "    plt.show()"
   ]
  },
  {
   "cell_type": "code",
   "execution_count": 23,
   "metadata": {},
   "outputs": [
    {
     "name": "stderr",
     "output_type": "stream",
     "text": [
      "[libprotobuf ERROR external/com_google_protobuf/src/google/protobuf/text_format.cc:337] Error parsing text-format tensorflow.data.experimental.DistributedSnapshotMetadata: 1:1: Invalid control characters encountered in text.\n",
      "[libprotobuf ERROR external/com_google_protobuf/src/google/protobuf/text_format.cc:337] Error parsing text-format tensorflow.data.experimental.DistributedSnapshotMetadata: 1:3: Expected identifier, got: 10221441867834611256\n"
     ]
    }
   ],
   "source": [
    "for (batch_x1, batch_x2) in test_dataset.take(1):\n",
    "    input_batch = (batch_x1, batch_x2)\n",
    "    output_dict, pred = model(input_batch, training=False)"
   ]
  },
  {
   "cell_type": "code",
   "execution_count": 24,
   "metadata": {},
   "outputs": [
    {
     "data": {
      "image/png": "[encoded data removed]",
      "text/plain": [
       "<Figure size 640x480 with 1 Axes>"
      ]
     },
     "metadata": {},
     "output_type": "display_data"
    }
   ],
   "source": [
    "idx = 19\n",
    "best_mode = np.argmax(output_dict[\"mixture_logits\"][idx].numpy())\n",
    "plot_example(input_batch, pred, idx, mode=best_mode)"
   ]
  },
  {
   "cell_type": "markdown",
   "metadata": {},
   "source": [
    "# Accuracy Metrics"
   ]
  },
  {
   "cell_type": "markdown",
   "metadata": {},
   "source": [
    "Mean ADE and Mean FDE"
   ]
  },
  {
   "cell_type": "code",
   "execution_count": 17,
   "metadata": {},
   "outputs": [],
   "source": [
    "def calculate_meanADE(ground_truth, predictions, dim):\n",
    "        predicted_positions = predictions[:, :, :dim]\n",
    "        displacement_errors = np.linalg.norm(ground_truth - predicted_positions, axis=2)\n",
    "        ADE = np.mean(np.mean(displacement_errors, axis=1))\n",
    "        return ADE\n",
    "\n",
    "def calculate_meanFDE(ground_truth, predictions, dim):\n",
    "        predicted_positions = predictions[:, :, :dim]\n",
    "        final_displacement_errors = np.linalg.norm(ground_truth[:, -1] - predicted_positions[:, -1], axis=1)\n",
    "        FDE = np.mean(final_displacement_errors)\n",
    "        return FDE"
   ]
  },
  {
   "cell_type": "code",
   "execution_count": 25,
   "metadata": {},
   "outputs": [],
   "source": [
    "def get_best_pred(pred):\n",
    "    best_pred = []\n",
    "    for i in range(1000):\n",
    "        best_mode = np.argmax(output_dict[\"mixture_logits\"][i].numpy())\n",
    "        best_pred.append( pred[\"position\"][i,:,best_mode,:2].numpy())\n",
    "    return np.asarray(best_pred)\n",
    "best_pred = get_best_pred(pred)"
   ]
  },
  {
   "cell_type": "code",
   "execution_count": 26,
   "metadata": {},
   "outputs": [
    {
     "name": "stdout",
     "output_type": "stream",
     "text": [
      "mean ADE 2.7258944221760384\n",
      "mean FDE 3.217703575973748\n"
     ]
    }
   ],
   "source": [
    "meanADE = calculate_meanADE(input_batch[0].numpy()[:,:,:2], best_pred, dim=2)\n",
    "meanFDE = calculate_meanFDE(input_batch[0].numpy()[:,:,:2], best_pred, dim=2)\n",
    "print(\"mean ADE\", meanADE)\n",
    "print(\"mean FDE\", meanFDE)"
   ]
  }
 ],
 "metadata": {
  "kernelspec": {
   "display_name": "tf",
   "language": "python",
   "name": "python3"
  },
  "language_info": {
   "codemirror_mode": {
    "name": "ipython",
    "version": 3
   },
   "file_extension": ".py",
   "mimetype": "text/x-python",
   "name": "python",
   "nbconvert_exporter": "python",
   "pygments_lexer": "ipython3",
   "version": "3.8.19"
  }
 },
 "nbformat": 4,
 "nbformat_minor": 2
}
