{
 "cells": [
  {
   "cell_type": "code",
   "execution_count": 29,
   "metadata": {},
   "outputs": [],
   "source": [
    "import sys\n",
    "import os\n",
    "\n",
    "# Add the workspace directory to the system path\n",
    "sys.path.append(os.path.abspath('..'))\n",
    "\n",
    "# Now you should be able to import the class\n",
    "from model import preprocess_data\n",
    "from model.train import HST\n",
    "import tensorflow as tf"
   ]
  },
  {
   "cell_type": "code",
   "execution_count": 2,
   "metadata": {},
   "outputs": [],
   "source": [
    "%matplotlib inline"
   ]
  },
  {
   "cell_type": "code",
   "execution_count": 30,
   "metadata": {},
   "outputs": [
    {
     "name": "stderr",
     "output_type": "stream",
     "text": [
      "2024-07-30 17:15:38.278828: W tensorflow/core/framework/dataset.cc:956] Input of Window will not be optimized because the dataset does not implement the AsGraphDefInternal() method needed to apply optimizations.\n",
      "2024-07-30 17:16:08.282783: W tensorflow/core/framework/dataset.cc:956] Input of Window will not be optimized because the dataset does not implement the AsGraphDefInternal() method needed to apply optimizations.\n",
      "2024-07-30 17:16:38.284694: W tensorflow/core/framework/dataset.cc:956] Input of Window will not be optimized because the dataset does not implement the AsGraphDefInternal() method needed to apply optimizations.\n",
      "2024-07-30 17:17:08.288082: W tensorflow/core/framework/dataset.cc:956] Input of Window will not be optimized because the dataset does not implement the AsGraphDefInternal() method needed to apply optimizations.\n",
      "2024-07-30 17:17:38.296551: W tensorflow/core/framework/dataset.cc:956] Input of Window will not be optimized because the dataset does not implement the AsGraphDefInternal() method needed to apply optimizations.\n",
      "2024-07-30 17:18:08.302547: W tensorflow/core/framework/dataset.cc:956] Input of Window will not be optimized because the dataset does not implement the AsGraphDefInternal() method needed to apply optimizations.\n",
      "2024-07-30 17:18:38.304487: W tensorflow/core/framework/dataset.cc:956] Input of Window will not be optimized because the dataset does not implement the AsGraphDefInternal() method needed to apply optimizations.\n",
      "2024-07-30 17:19:08.310997: W tensorflow/core/framework/dataset.cc:956] Input of Window will not be optimized because the dataset does not implement the AsGraphDefInternal() method needed to apply optimizations.\n",
      "2024-07-30 17:19:38.313539: W tensorflow/core/framework/dataset.cc:956] Input of Window will not be optimized because the dataset does not implement the AsGraphDefInternal() method needed to apply optimizations.\n",
      "2024-07-30 17:20:08.319681: W tensorflow/core/framework/dataset.cc:956] Input of Window will not be optimized because the dataset does not implement the AsGraphDefInternal() method needed to apply optimizations.\n",
      "2024-07-30 17:20:38.322181: W tensorflow/core/framework/dataset.cc:956] Input of Window will not be optimized because the dataset does not implement the AsGraphDefInternal() method needed to apply optimizations.\n",
      "2024-07-30 17:21:08.327724: W tensorflow/core/framework/dataset.cc:956] Input of Window will not be optimized because the dataset does not implement the AsGraphDefInternal() method needed to apply optimizations.\n",
      "2024-07-30 17:21:38.332422: W tensorflow/core/framework/dataset.cc:956] Input of Window will not be optimized because the dataset does not implement the AsGraphDefInternal() method needed to apply optimizations.\n",
      "2024-07-30 17:22:08.336706: W tensorflow/core/framework/dataset.cc:956] Input of Window will not be optimized because the dataset does not implement the AsGraphDefInternal() method needed to apply optimizations.\n",
      "2024-07-30 17:22:38.338184: W tensorflow/core/framework/dataset.cc:956] Input of Window will not be optimized because the dataset does not implement the AsGraphDefInternal() method needed to apply optimizations.\n",
      "2024-07-30 17:23:08.343193: W tensorflow/core/framework/dataset.cc:956] Input of Window will not be optimized because the dataset does not implement the AsGraphDefInternal() method needed to apply optimizations.\n",
      "2024-07-30 17:23:38.348510: W tensorflow/core/framework/dataset.cc:956] Input of Window will not be optimized because the dataset does not implement the AsGraphDefInternal() method needed to apply optimizations.\n",
      "2024-07-30 17:24:08.349815: W tensorflow/core/framework/dataset.cc:956] Input of Window will not be optimized because the dataset does not implement the AsGraphDefInternal() method needed to apply optimizations.\n",
      "2024-07-30 17:24:38.354151: W tensorflow/core/framework/dataset.cc:956] Input of Window will not be optimized because the dataset does not implement the AsGraphDefInternal() method needed to apply optimizations.\n",
      "2024-07-30 17:25:08.358639: W tensorflow/core/framework/dataset.cc:956] Input of Window will not be optimized because the dataset does not implement the AsGraphDefInternal() method needed to apply optimizations.\n",
      "2024-07-30 17:25:38.366984: W tensorflow/core/framework/dataset.cc:956] Input of Window will not be optimized because the dataset does not implement the AsGraphDefInternal() method needed to apply optimizations.\n",
      "2024-07-30 17:26:08.374318: W tensorflow/core/framework/dataset.cc:956] Input of Window will not be optimized because the dataset does not implement the AsGraphDefInternal() method needed to apply optimizations.\n",
      "2024-07-30 17:26:38.378968: W tensorflow/core/framework/dataset.cc:956] Input of Window will not be optimized because the dataset does not implement the AsGraphDefInternal() method needed to apply optimizations.\n",
      "2024-07-30 17:27:08.381597: W tensorflow/core/framework/dataset.cc:956] Input of Window will not be optimized because the dataset does not implement the AsGraphDefInternal() method needed to apply optimizations.\n",
      "2024-07-30 17:27:38.383396: W tensorflow/core/framework/dataset.cc:956] Input of Window will not be optimized because the dataset does not implement the AsGraphDefInternal() method needed to apply optimizations.\n",
      "2024-07-30 17:28:08.386796: W tensorflow/core/framework/dataset.cc:956] Input of Window will not be optimized because the dataset does not implement the AsGraphDefInternal() method needed to apply optimizations.\n",
      "2024-07-30 17:28:38.389642: W tensorflow/core/framework/dataset.cc:956] Input of Window will not be optimized because the dataset does not implement the AsGraphDefInternal() method needed to apply optimizations.\n",
      "2024-07-30 17:29:08.393824: W tensorflow/core/framework/dataset.cc:956] Input of Window will not be optimized because the dataset does not implement the AsGraphDefInternal() method needed to apply optimizations.\n",
      "2024-07-30 17:29:38.403104: W tensorflow/core/framework/dataset.cc:956] Input of Window will not be optimized because the dataset does not implement the AsGraphDefInternal() method needed to apply optimizations.\n",
      "2024-07-30 17:30:08.406763: W tensorflow/core/framework/dataset.cc:956] Input of Window will not be optimized because the dataset does not implement the AsGraphDefInternal() method needed to apply optimizations.\n",
      "2024-07-30 17:30:38.411827: W tensorflow/core/framework/dataset.cc:956] Input of Window will not be optimized because the dataset does not implement the AsGraphDefInternal() method needed to apply optimizations.\n",
      "2024-07-30 17:31:08.415384: W tensorflow/core/framework/dataset.cc:956] Input of Window will not be optimized because the dataset does not implement the AsGraphDefInternal() method needed to apply optimizations.\n",
      "2024-07-30 17:31:38.418667: W tensorflow/core/framework/dataset.cc:956] Input of Window will not be optimized because the dataset does not implement the AsGraphDefInternal() method needed to apply optimizations.\n",
      "2024-07-30 17:32:08.427875: W tensorflow/core/framework/dataset.cc:956] Input of Window will not be optimized because the dataset does not implement the AsGraphDefInternal() method needed to apply optimizations.\n",
      "2024-07-30 17:32:38.435255: W tensorflow/core/framework/dataset.cc:956] Input of Window will not be optimized because the dataset does not implement the AsGraphDefInternal() method needed to apply optimizations.\n",
      "2024-07-30 17:33:08.437674: W tensorflow/core/framework/dataset.cc:956] Input of Window will not be optimized because the dataset does not implement the AsGraphDefInternal() method needed to apply optimizations.\n",
      "2024-07-30 17:33:10.041074: W tensorflow/core/data/root_dataset.cc:286] Optimization loop failed: CANCELLED: Operation was cancelled\n",
      "2024-07-30 17:33:38.441996: W tensorflow/core/framework/dataset.cc:956] Input of Window will not be optimized because the dataset does not implement the AsGraphDefInternal() method needed to apply optimizations.\n",
      "2024-07-30 17:34:08.450016: W tensorflow/core/framework/dataset.cc:956] Input of Window will not be optimized because the dataset does not implement the AsGraphDefInternal() method needed to apply optimizations.\n",
      "2024-07-30 17:34:37.323547: W tensorflow/core/data/root_dataset.cc:286] Optimization loop failed: CANCELLED: Operation was cancelled\n",
      "2024-07-30 17:34:38.453113: W tensorflow/core/framework/dataset.cc:956] Input of Window will not be optimized because the dataset does not implement the AsGraphDefInternal() method needed to apply optimizations.\n",
      "2024-07-30 17:35:08.456173: W tensorflow/core/framework/dataset.cc:956] Input of Window will not be optimized because the dataset does not implement the AsGraphDefInternal() method needed to apply optimizations.\n",
      "2024-07-30 17:35:38.462709: W tensorflow/core/framework/dataset.cc:956] Input of Window will not be optimized because the dataset does not implement the AsGraphDefInternal() method needed to apply optimizations.\n",
      "2024-07-30 17:36:08.467979: W tensorflow/core/framework/dataset.cc:956] Input of Window will not be optimized because the dataset does not implement the AsGraphDefInternal() method needed to apply optimizations.\n",
      "2024-07-30 17:36:26.983649: W tensorflow/core/data/root_dataset.cc:286] Optimization loop failed: CANCELLED: Operation was cancelled\n",
      "2024-07-30 17:36:38.474564: W tensorflow/core/framework/dataset.cc:956] Input of Window will not be optimized because the dataset does not implement the AsGraphDefInternal() method needed to apply optimizations.\n",
      "2024-07-30 17:37:08.484991: W tensorflow/core/framework/dataset.cc:956] Input of Window will not be optimized because the dataset does not implement the AsGraphDefInternal() method needed to apply optimizations.\n",
      "2024-07-30 17:37:38.491407: W tensorflow/core/framework/dataset.cc:956] Input of Window will not be optimized because the dataset does not implement the AsGraphDefInternal() method needed to apply optimizations.\n",
      "2024-07-30 17:38:08.496018: W tensorflow/core/framework/dataset.cc:956] Input of Window will not be optimized because the dataset does not implement the AsGraphDefInternal() method needed to apply optimizations.\n",
      "2024-07-30 17:38:38.498404: W tensorflow/core/framework/dataset.cc:956] Input of Window will not be optimized because the dataset does not implement the AsGraphDefInternal() method needed to apply optimizations.\n",
      "2024-07-30 17:39:08.513039: W tensorflow/core/framework/dataset.cc:956] Input of Window will not be optimized because the dataset does not implement the AsGraphDefInternal() method needed to apply optimizations.\n",
      "2024-07-30 17:39:38.515763: W tensorflow/core/framework/dataset.cc:956] Input of Window will not be optimized because the dataset does not implement the AsGraphDefInternal() method needed to apply optimizations.\n",
      "2024-07-30 17:40:08.523785: W tensorflow/core/framework/dataset.cc:956] Input of Window will not be optimized because the dataset does not implement the AsGraphDefInternal() method needed to apply optimizations.\n",
      "2024-07-30 17:40:38.527209: W tensorflow/core/framework/dataset.cc:956] Input of Window will not be optimized because the dataset does not implement the AsGraphDefInternal() method needed to apply optimizations.\n",
      "2024-07-30 17:41:08.535159: W tensorflow/core/framework/dataset.cc:956] Input of Window will not be optimized because the dataset does not implement the AsGraphDefInternal() method needed to apply optimizations.\n",
      "2024-07-30 17:41:38.537691: W tensorflow/core/framework/dataset.cc:956] Input of Window will not be optimized because the dataset does not implement the AsGraphDefInternal() method needed to apply optimizations.\n",
      "2024-07-30 17:42:08.538955: W tensorflow/core/framework/dataset.cc:956] Input of Window will not be optimized because the dataset does not implement the AsGraphDefInternal() method needed to apply optimizations.\n",
      "2024-07-30 17:42:38.545872: W tensorflow/core/framework/dataset.cc:956] Input of Window will not be optimized because the dataset does not implement the AsGraphDefInternal() method needed to apply optimizations.\n",
      "2024-07-30 17:42:55.002003: W tensorflow/core/data/root_dataset.cc:286] Optimization loop failed: CANCELLED: Operation was cancelled\n",
      "2024-07-30 17:43:08.553278: W tensorflow/core/framework/dataset.cc:956] Input of Window will not be optimized because the dataset does not implement the AsGraphDefInternal() method needed to apply optimizations.\n",
      "2024-07-30 17:43:38.558214: W tensorflow/core/framework/dataset.cc:956] Input of Window will not be optimized because the dataset does not implement the AsGraphDefInternal() method needed to apply optimizations.\n",
      "2024-07-30 17:44:08.560026: W tensorflow/core/framework/dataset.cc:956] Input of Window will not be optimized because the dataset does not implement the AsGraphDefInternal() method needed to apply optimizations.\n",
      "2024-07-30 17:44:38.567274: W tensorflow/core/framework/dataset.cc:956] Input of Window will not be optimized because the dataset does not implement the AsGraphDefInternal() method needed to apply optimizations.\n",
      "2024-07-30 17:45:08.572938: W tensorflow/core/framework/dataset.cc:956] Input of Window will not be optimized because the dataset does not implement the AsGraphDefInternal() method needed to apply optimizations.\n",
      "2024-07-30 17:45:38.574184: W tensorflow/core/framework/dataset.cc:956] Input of Window will not be optimized because the dataset does not implement the AsGraphDefInternal() method needed to apply optimizations.\n",
      "2024-07-30 17:46:08.577397: W tensorflow/core/framework/dataset.cc:956] Input of Window will not be optimized because the dataset does not implement the AsGraphDefInternal() method needed to apply optimizations.\n",
      "2024-07-30 17:46:38.581947: W tensorflow/core/framework/dataset.cc:956] Input of Window will not be optimized because the dataset does not implement the AsGraphDefInternal() method needed to apply optimizations.\n",
      "2024-07-30 17:47:08.586044: W tensorflow/core/framework/dataset.cc:956] Input of Window will not be optimized because the dataset does not implement the AsGraphDefInternal() method needed to apply optimizations.\n",
      "2024-07-30 17:47:38.589577: W tensorflow/core/framework/dataset.cc:956] Input of Window will not be optimized because the dataset does not implement the AsGraphDefInternal() method needed to apply optimizations.\n",
      "2024-07-30 17:48:08.596403: W tensorflow/core/framework/dataset.cc:956] Input of Window will not be optimized because the dataset does not implement the AsGraphDefInternal() method needed to apply optimizations.\n",
      "2024-07-30 17:48:38.599754: W tensorflow/core/framework/dataset.cc:956] Input of Window will not be optimized because the dataset does not implement the AsGraphDefInternal() method needed to apply optimizations.\n",
      "2024-07-30 17:49:08.603833: W tensorflow/core/framework/dataset.cc:956] Input of Window will not be optimized because the dataset does not implement the AsGraphDefInternal() method needed to apply optimizations.\n",
      "2024-07-30 17:49:38.607749: W tensorflow/core/framework/dataset.cc:956] Input of Window will not be optimized because the dataset does not implement the AsGraphDefInternal() method needed to apply optimizations.\n",
      "2024-07-30 17:50:08.611281: W tensorflow/core/framework/dataset.cc:956] Input of Window will not be optimized because the dataset does not implement the AsGraphDefInternal() method needed to apply optimizations.\n",
      "2024-07-30 17:50:38.614805: W tensorflow/core/framework/dataset.cc:956] Input of Window will not be optimized because the dataset does not implement the AsGraphDefInternal() method needed to apply optimizations.\n",
      "2024-07-30 17:51:08.619744: W tensorflow/core/framework/dataset.cc:956] Input of Window will not be optimized because the dataset does not implement the AsGraphDefInternal() method needed to apply optimizations.\n",
      "2024-07-30 17:51:38.624124: W tensorflow/core/framework/dataset.cc:956] Input of Window will not be optimized because the dataset does not implement the AsGraphDefInternal() method needed to apply optimizations.\n",
      "2024-07-30 17:51:52.836834: W tensorflow/tsl/framework/cpu_allocator_impl.cc:83] Allocation of 1081514160 exceeds 10% of free system memory.\n"
     ]
    }
   ],
   "source": [
    "train_dataset, test_dataset = preprocess_data.load_data(data_path=\"/home/pbr-student/personal/thesis/test/PedestrianTrajectoryPrediction/df_jrdb_augmented.pkl\", batch_size=32)"
   ]
  },
  {
   "cell_type": "code",
   "execution_count": 31,
   "metadata": {},
   "outputs": [
    {
     "data": {
      "text/plain": [
       "4418"
      ]
     },
     "execution_count": 31,
     "metadata": {},
     "output_type": "execute_result"
    }
   ],
   "source": [
    "len(train_dataset)"
   ]
  },
  {
   "cell_type": "code",
   "execution_count": 14,
   "metadata": {},
   "outputs": [
    {
     "name": "stdout",
     "output_type": "stream",
     "text": [
      "WARNING:tensorflow:From /tmp/ipykernel_27663/2040487069.py:1: save (from tensorflow.python.data.experimental.ops.io) is deprecated and will be removed in a future version.\n",
      "Instructions for updating:\n",
      "Use `tf.data.Dataset.save(...)` instead.\n"
     ]
    },
    {
     "name": "stderr",
     "output_type": "stream",
     "text": [
      "2024-07-29 12:06:40.020139: W tensorflow/tsl/framework/cpu_allocator_impl.cc:83] Allocation of 1081514160 exceeds 10% of free system memory.\n"
     ]
    }
   ],
   "source": [
    "tf.data.experimental.save(\n",
    "    train_dataset, path= \"../train_dataset\"\n",
    ")"
   ]
  },
  {
   "cell_type": "code",
   "execution_count": 3,
   "metadata": {},
   "outputs": [
    {
     "name": "stdout",
     "output_type": "stream",
     "text": [
      "WARNING:tensorflow:From /tmp/ipykernel_22181/2181629928.py:1: load (from tensorflow.python.data.experimental.ops.io) is deprecated and will be removed in a future version.\n",
      "Instructions for updating:\n",
      "Use `tf.data.Dataset.load(...)` instead.\n"
     ]
    },
    {
     "name": "stderr",
     "output_type": "stream",
     "text": [
      "[libprotobuf ERROR external/com_google_protobuf/src/google/protobuf/text_format.cc:337] Error parsing text-format tensorflow.data.experimental.DistributedSnapshotMetadata: 1:1: Invalid control characters encountered in text.\n",
      "[libprotobuf ERROR external/com_google_protobuf/src/google/protobuf/text_format.cc:337] Error parsing text-format tensorflow.data.experimental.DistributedSnapshotMetadata: 1:3: Expected identifier, got: 17404134898602437468\n"
     ]
    }
   ],
   "source": [
    "loaded = tf.data.experimental.load(\n",
    "    \"test_dataset\"\n",
    ")"
   ]
  },
  {
   "cell_type": "code",
   "execution_count": 9,
   "metadata": {},
   "outputs": [
    {
     "data": {
      "text/plain": [
       "553"
      ]
     },
     "execution_count": 9,
     "metadata": {},
     "output_type": "execute_result"
    }
   ],
   "source": [
    "len(loaded)"
   ]
  },
  {
   "cell_type": "code",
   "execution_count": 4,
   "metadata": {},
   "outputs": [],
   "source": [
    "import datetime\n",
    "import tensorflow as tf\n",
    "\n",
    "model_base_dir = \"\"\n",
    "dt_str = datetime.datetime.now().strftime('2024-07-15_15:57:20')\n",
    "model_dir = os.path.join(model_base_dir, dt_str)\n",
    "ckpt_dir = \"/home/pbr-student/personal/thesis/test/PedestrianTrajectoryPrediction/latest/ckpts\"\n",
    "ckpt_best_dir = \"/home/pbr-student/personal/thesis/test/PedestrianTrajectoryPrediction/2024-07-30_15:14:07/ckpts_best/ckpt\"\n",
    "\n",
    "def test_model(checkpoint_dir, test_dataset):\n",
    "    \n",
    "    model = HST(15)  # Initialize the model architecture\n",
    "    optimizer = tf.keras.optimizers.Adam()\n",
    "    \n",
    "    # Create a checkpoint object\n",
    "    checkpoint = tf.train.Checkpoint(model=model, optimizer=optimizer)\n",
    "    \n",
    "    # Restore the latest checkpoint\n",
    "    latest_checkpoint = tf.train.latest_checkpoint(checkpoint_dir)\n",
    "    if latest_checkpoint:\n",
    "        checkpoint.restore(latest_checkpoint)\n",
    "        print(f\"Restored checkpoint from {latest_checkpoint}\")\n",
    "    else:\n",
    "        print(\"No checkpoint found.\")\n",
    "        return\n",
    "    \n",
    "    # Run a forward pass with a batch from the test dataset\n",
    "    for (batch_x1, batch_x2) in test_dataset.take(1):\n",
    "        input_batch = (batch_x1, batch_x2)\n",
    "        output = model(input_batch, training=False)\n",
    "        #print(output)\n",
    "        break\n",
    "    return input_batch, output\n"
   ]
  },
  {
   "cell_type": "code",
   "execution_count": 5,
   "metadata": {},
   "outputs": [
    {
     "name": "stdout",
     "output_type": "stream",
     "text": [
      "Restored checkpoint from /home/pbr-student/personal/thesis/test/PedestrianTrajectoryPrediction/2024-07-30_15:14:07/ckpts_best/ckpt/ckpt-5\n",
      "normalized input:  tf.Tensor(\n",
      "[[[ 180.54001 -178.828    -20.764  ]\n",
      "  [ 180.511   -178.80301  -20.764  ]\n",
      "  [ 180.483   -178.778    -20.764  ]\n",
      "  ...\n",
      "  [   0.         0.         0.     ]\n",
      "  [   0.         0.         0.     ]\n",
      "  [   0.         0.         0.     ]]\n",
      "\n",
      " [[ 179.582   -178.913    -20.764  ]\n",
      "  [ 179.435   -179.142    -20.764  ]\n",
      "  [   0.         0.         0.     ]\n",
      "  ...\n",
      "  [   0.         0.         0.     ]\n",
      "  [   0.         0.         0.     ]\n",
      "  [   0.         0.         0.     ]]\n",
      "\n",
      " [[ 181.523   -172.923    -20.764  ]\n",
      "  [ 181.45999 -173.494    -20.764  ]\n",
      "  [ 181.396   -174.065    -20.764  ]\n",
      "  ...\n",
      "  [   0.         0.         0.     ]\n",
      "  [   0.         0.         0.     ]\n",
      "  [   0.         0.         0.     ]]\n",
      "\n",
      " ...\n",
      "\n",
      " [[ 180.52501 -173.08499  -20.764  ]\n",
      "  [ 180.55101 -172.772    -20.764  ]\n",
      "  [ 180.58    -172.473    -20.764  ]\n",
      "  ...\n",
      "  [   0.         0.         0.     ]\n",
      "  [   0.         0.         0.     ]\n",
      "  [   0.         0.         0.     ]]\n",
      "\n",
      " [[   0.         0.         0.     ]\n",
      "  [ 182.09    -172.73999  -20.764  ]\n",
      "  [ 182.073   -172.785    -20.764  ]\n",
      "  ...\n",
      "  [   0.         0.         0.     ]\n",
      "  [   0.         0.         0.     ]\n",
      "  [   0.         0.         0.     ]]\n",
      "\n",
      " [[ 180.756   -170.311    -20.764  ]\n",
      "  [ 180.849   -170.13     -20.764  ]\n",
      "  [ 180.942   -169.94899  -20.764  ]\n",
      "  ...\n",
      "  [   0.         0.         0.     ]\n",
      "  [   0.         0.         0.     ]\n",
      "  [   0.         0.         0.     ]]], shape=(32, 15, 3), dtype=float32)\n"
     ]
    },
    {
     "name": "stderr",
     "output_type": "stream",
     "text": [
      "[libprotobuf ERROR external/com_google_protobuf/src/google/protobuf/text_format.cc:337] Error parsing text-format tensorflow.data.experimental.DistributedSnapshotMetadata: 1:1: Invalid control characters encountered in text.\n",
      "[libprotobuf ERROR external/com_google_protobuf/src/google/protobuf/text_format.cc:337] Error parsing text-format tensorflow.data.experimental.DistributedSnapshotMetadata: 1:3: Expected identifier, got: 17404134898602437468\n"
     ]
    }
   ],
   "source": [
    "input, pred = test_model(ckpt_best_dir, loaded)"
   ]
  },
  {
   "cell_type": "code",
   "execution_count": 20,
   "metadata": {},
   "outputs": [
    {
     "data": {
      "text/plain": [
       "<tf.Tensor: shape=(15,), dtype=float32, numpy=\n",
       "array([0.38908288, 0.3889858 , 0.38912395, 1.1934711 , 0.38907743,\n",
       "       0.3890423 , 1.1931604 , 1.193429  , 1.193433  , 1.1933981 ,\n",
       "       1.1935259 , 1.1932145 , 1.193502  , 1.1932628 , 1.193322  ],\n",
       "      dtype=float32)>"
      ]
     },
     "execution_count": 20,
     "metadata": {},
     "output_type": "execute_result"
    }
   ],
   "source": [
    "pred[\"position\"][0][:,0][:,0]"
   ]
  },
  {
   "cell_type": "code",
   "execution_count": 23,
   "metadata": {},
   "outputs": [
    {
     "data": {
      "text/plain": [
       "<tf.Tensor: shape=(15, 3), dtype=float32, numpy=\n",
       "array([[ 0.38908288,  2.2347107 ,  0.12388305],\n",
       "       [ 0.3889858 ,  2.234773  ,  0.12386729],\n",
       "       [ 0.38912395,  2.2347155 ,  0.12389368],\n",
       "       [ 1.1934711 ,  1.3703576 , -0.01878133],\n",
       "       [ 0.38907743,  2.2346954 ,  0.12383871],\n",
       "       [ 0.3890423 ,  2.2347302 ,  0.12389447],\n",
       "       [ 1.1931604 ,  1.3705324 , -0.01874434],\n",
       "       [ 1.193429  ,  1.370512  , -0.01883839],\n",
       "       [ 1.193433  ,  1.370378  , -0.01870614],\n",
       "       [ 1.1933981 ,  1.3703495 , -0.01874971],\n",
       "       [ 1.1935259 ,  1.3703433 , -0.01876542],\n",
       "       [ 1.1932145 ,  1.3706671 , -0.01879881],\n",
       "       [ 1.193502  ,  1.3702363 , -0.01882724],\n",
       "       [ 1.1932628 ,  1.3705846 , -0.01863917],\n",
       "       [ 1.193322  ,  1.3703502 , -0.01878062]], dtype=float32)>"
      ]
     },
     "execution_count": 23,
     "metadata": {},
     "output_type": "execute_result"
    }
   ],
   "source": [
    "pred[\"position\"][0][:,0]"
   ]
  },
  {
   "cell_type": "code",
   "execution_count": 11,
   "metadata": {},
   "outputs": [
    {
     "data": {
      "text/plain": [
       "<tf.Tensor: shape=(15, 3), dtype=float32, numpy=\n",
       "array([[ 0.     ,  0.     ,  0.     ],\n",
       "       [ 0.     ,  0.     ,  0.     ],\n",
       "       [ 0.     ,  0.     ,  0.     ],\n",
       "       [ 1.8046 , -1.78696, -0.20764],\n",
       "       [ 0.     ,  0.     ,  0.     ],\n",
       "       [ 0.     ,  0.     ,  0.     ],\n",
       "       [ 1.804  , -1.78353, -0.20764],\n",
       "       [ 1.80375, -1.78002, -0.20764],\n",
       "       [ 1.80367, -1.77788, -0.20764],\n",
       "       [ 1.80359, -1.77574, -0.20764],\n",
       "       [ 1.80356, -1.77327, -0.20764],\n",
       "       [ 1.80353, -1.7708 , -0.20764],\n",
       "       [ 1.80355, -1.76806, -0.20764],\n",
       "       [ 1.80356, -1.76533, -0.20764],\n",
       "       [ 1.80362, -1.76238, -0.20764]], dtype=float32)>"
      ]
     },
     "execution_count": 11,
     "metadata": {},
     "output_type": "execute_result"
    }
   ],
   "source": [
    "pred[\"targets\"][0]"
   ]
  },
  {
   "cell_type": "code",
   "execution_count": 28,
   "metadata": {},
   "outputs": [
    {
     "name": "stderr",
     "output_type": "stream",
     "text": [
      "/tmp/ipykernel_22181/1852489297.py:17: UserWarning: Matplotlib is currently using module://matplotlib_inline.backend_inline, which is a non-GUI backend, so cannot show the figure.\n",
      "  fig.show()\n"
     ]
    },
    {
     "data": {
      "image/png": "[encoded data removed]",
      "text/plain": [
       "<Figure size 640x480 with 3 Axes>"
      ]
     },
     "metadata": {},
     "output_type": "display_data"
    }
   ],
   "source": [
    "import matplotlib.pyplot as plt \n",
    "import numpy as np \n",
    "\n",
    "idx = 0\n",
    "mode = 0\n",
    "\n",
    "ground_truth = input[0][idx][:,:2].numpy()\n",
    "prediction_x = pred[\"position\"][idx][:,mode][:,0].numpy()\n",
    "prediction_y = pred[\"position\"][idx][:,mode][:,1].numpy()\n",
    "\n",
    "fig, (ax1, ax2, ax3) = plt.subplots(1, 3)\n",
    "\n",
    "ax1.plot(ground_truth[:,0], ground_truth[:,1], 'ro-')\n",
    "ax1.plot(prediction_x[6:], prediction_y[6:],'bo-')\n",
    "ax2.plot(ground_truth[:,0], ground_truth[:,1], 'ro-')\n",
    "ax3.plot(prediction_x[6:], prediction_y[6:],'bo-')\n",
    "fig.show()"
   ]
  },
  {
   "cell_type": "code",
   "execution_count": 28,
   "metadata": {},
   "outputs": [
    {
     "name": "stdout",
     "output_type": "stream",
     "text": [
      "[[-0.80088246  0.57724416]\n",
      " [-0.7366359   0.7022887 ]\n",
      " [-0.7366359   0.7022887 ]\n",
      " [-0.7366359   0.7022887 ]\n",
      " [-0.7366359   0.7022887 ]\n",
      " [-0.80088246  0.57724416]\n",
      " [-0.80088246  0.57724416]\n",
      " [-0.80088246  0.57724416]\n",
      " [-0.80088246  0.57724416]\n",
      " [-0.80088246  0.57724416]\n",
      " [-0.80088246  0.57724416]\n",
      " [-0.80088246  0.57724416]\n",
      " [-0.8008824   0.57724404]\n",
      " [-0.8008824   0.57724404]\n",
      " [-0.8008824   0.57724404]]\n"
     ]
    }
   ],
   "source": [
    "print(prediction)"
   ]
  },
  {
   "cell_type": "markdown",
   "metadata": {},
   "source": [
    "# Plot training loss"
   ]
  },
  {
   "cell_type": "code",
   "execution_count": 13,
   "metadata": {},
   "outputs": [],
   "source": [
    "import pandas as pd\n",
    "\n",
    "train_loss_dir = \"/home/pbr-student/Downloads/train.csv\"\n",
    "eval_loss_dir = \"/home/pbr-student/Downloads/eval.csv\"\n",
    "\n",
    "train_loss = pd.read_csv(train_loss_dir)\n",
    "eval_loss = pd.read_csv(eval_loss_dir)"
   ]
  },
  {
   "cell_type": "code",
   "execution_count": 16,
   "metadata": {},
   "outputs": [
    {
     "data": {
      "image/png": "[encoded data removed]",
      "text/plain": [
       "<Figure size 640x480 with 1 Axes>"
      ]
     },
     "metadata": {},
     "output_type": "display_data"
    }
   ],
   "source": [
    "plt.plot(train_loss[\"Step\"], train_loss[\"Value\"], 'ro-')\n",
    "plt.plot(eval_loss[\"Step\"], eval_loss[\"Value\"], 'bo-')\n",
    "plt.show()"
   ]
  },
  {
   "cell_type": "markdown",
   "metadata": {},
   "source": [
    "# Check intermediate layers"
   ]
  },
  {
   "cell_type": "code",
   "execution_count": 34,
   "metadata": {},
   "outputs": [
    {
     "ename": "AttributeError",
     "evalue": "Layer hst_9 is not connected, no input to return.",
     "output_type": "error",
     "traceback": [
      "\u001b[0;31m---------------------------------------------------------------------------\u001b[0m",
      "\u001b[0;31mAttributeError\u001b[0m                            Traceback (most recent call last)",
      "\u001b[1;32m/home/pbr-student/personal/thesis/test/PedestrianTrajectoryPrediction/tests/jrdb_model_test.ipynb Cell 16\u001b[0m line \u001b[0;36m3\n\u001b[1;32m      <a href='vscode-notebook-cell:/home/pbr-student/personal/thesis/test/PedestrianTrajectoryPrediction/tests/jrdb_model_test.ipynb#X23sZmlsZQ%3D%3D?line=0'>1</a>\u001b[0m \u001b[39mfrom\u001b[39;00m \u001b[39mkeras\u001b[39;00m \u001b[39mimport\u001b[39;00m backend \u001b[39mas\u001b[39;00m K\n\u001b[1;32m      <a href='vscode-notebook-cell:/home/pbr-student/personal/thesis/test/PedestrianTrajectoryPrediction/tests/jrdb_model_test.ipynb#X23sZmlsZQ%3D%3D?line=1'>2</a>\u001b[0m model \u001b[39m=\u001b[39m HST(\u001b[39m15\u001b[39m)\n\u001b[0;32m----> <a href='vscode-notebook-cell:/home/pbr-student/personal/thesis/test/PedestrianTrajectoryPrediction/tests/jrdb_model_test.ipynb#X23sZmlsZQ%3D%3D?line=2'>3</a>\u001b[0m inp \u001b[39m=\u001b[39m model\u001b[39m.\u001b[39;49minput                                           \u001b[39m# input placeholder\u001b[39;00m\n\u001b[1;32m      <a href='vscode-notebook-cell:/home/pbr-student/personal/thesis/test/PedestrianTrajectoryPrediction/tests/jrdb_model_test.ipynb#X23sZmlsZQ%3D%3D?line=3'>4</a>\u001b[0m outputs \u001b[39m=\u001b[39m [layer\u001b[39m.\u001b[39moutput \u001b[39mfor\u001b[39;00m layer \u001b[39min\u001b[39;00m model\u001b[39m.\u001b[39mlayers]          \u001b[39m# all layer outputs\u001b[39;00m\n\u001b[1;32m      <a href='vscode-notebook-cell:/home/pbr-student/personal/thesis/test/PedestrianTrajectoryPrediction/tests/jrdb_model_test.ipynb#X23sZmlsZQ%3D%3D?line=4'>5</a>\u001b[0m functor \u001b[39m=\u001b[39m K\u001b[39m.\u001b[39mfunction([inp, K\u001b[39m.\u001b[39mlearning_phase()], outputs )   \u001b[39m# evaluation function\u001b[39;00m\n",
      "File \u001b[0;32m~/.local/lib/python3.8/site-packages/keras/src/engine/base_layer.py:2084\u001b[0m, in \u001b[0;36mLayer.input\u001b[0;34m(self)\u001b[0m\n\u001b[1;32m   2071\u001b[0m \u001b[39m\u001b[39m\u001b[39m\"\"\"Retrieves the input tensor(s) of a layer.\u001b[39;00m\n\u001b[1;32m   2072\u001b[0m \n\u001b[1;32m   2073\u001b[0m \u001b[39mOnly applicable if the layer has exactly one input,\u001b[39;00m\n\u001b[0;32m   (...)\u001b[0m\n\u001b[1;32m   2081\u001b[0m \u001b[39m  AttributeError: If no inbound nodes are found.\u001b[39;00m\n\u001b[1;32m   2082\u001b[0m \u001b[39m\"\"\"\u001b[39;00m\n\u001b[1;32m   2083\u001b[0m \u001b[39mif\u001b[39;00m \u001b[39mnot\u001b[39;00m \u001b[39mself\u001b[39m\u001b[39m.\u001b[39m_inbound_nodes:\n\u001b[0;32m-> 2084\u001b[0m     \u001b[39mraise\u001b[39;00m \u001b[39mAttributeError\u001b[39;00m(\n\u001b[1;32m   2085\u001b[0m         \u001b[39m\"\u001b[39m\u001b[39mLayer \u001b[39m\u001b[39m\"\u001b[39m \u001b[39m+\u001b[39m \u001b[39mself\u001b[39m\u001b[39m.\u001b[39mname \u001b[39m+\u001b[39m \u001b[39m\"\u001b[39m\u001b[39m is not connected, no input to return.\u001b[39m\u001b[39m\"\u001b[39m\n\u001b[1;32m   2086\u001b[0m     )\n\u001b[1;32m   2087\u001b[0m \u001b[39mreturn\u001b[39;00m \u001b[39mself\u001b[39m\u001b[39m.\u001b[39m_get_node_attribute_at_index(\u001b[39m0\u001b[39m, \u001b[39m\"\u001b[39m\u001b[39minput_tensors\u001b[39m\u001b[39m\"\u001b[39m, \u001b[39m\"\u001b[39m\u001b[39minput\u001b[39m\u001b[39m\"\u001b[39m)\n",
      "\u001b[0;31mAttributeError\u001b[0m: Layer hst_9 is not connected, no input to return."
     ]
    }
   ],
   "source": [
    "from keras import backend as K\n",
    "model = HST(15)\n",
    "inp = model.input                                           # input placeholder\n",
    "outputs = [layer.output for layer in model.layers]          # all layer outputs\n",
    "functor = K.function([inp, K.learning_phase()], outputs )   # evaluation function\n",
    "\n",
    "# Testing\n",
    "for (batch_x1, batch_x2) in test_dataset.take(1):\n",
    "    input_batch = (batch_x1, batch_x2)\n",
    "    #output = model(input_batch, training=False)\n",
    "    layer_outs = functor([input_batch, 1.])\n",
    "    print(layer_outs)"
   ]
  },
  {
   "cell_type": "code",
   "execution_count": 33,
   "metadata": {},
   "outputs": [
    {
     "name": "stderr",
     "output_type": "stream",
     "text": [
      "2024-07-29 16:08:49.542748: W tensorflow/tsl/framework/cpu_allocator_impl.cc:83] Allocation of 1081514160 exceeds 10% of free system memory.\n"
     ]
    }
   ],
   "source": [
    "model = HST(15)  # Initialize the model architecture\n",
    "optimizer = tf.keras.optimizers.Adam()\n",
    "\n",
    "# Create a checkpoint object\n",
    "checkpoint = tf.train.Checkpoint(model=model, optimizer=optimizer)\n",
    "checkpoint_dir = \"/home/pbr-student/personal/thesis/test/PedestrianTrajectoryPrediction/latest/ckpts\"\n",
    "\n",
    "# Restore the latest checkpoint\n",
    "latest_checkpoint = tf.train.latest_checkpoint(checkpoint_dir)\n",
    "if latest_checkpoint:\n",
    "    checkpoint.restore(latest_checkpoint)\n",
    "\n",
    "# Run a forward pass with a batch from the test dataset\n",
    "for (batch_x1, batch_x2) in test_dataset.take(1):\n",
    "    input_batch = (batch_x1, batch_x2)\n",
    "    output = model(input_batch, training=False)\n",
    "    #print(output)"
   ]
  },
  {
   "cell_type": "code",
   "execution_count": null,
   "metadata": {},
   "outputs": [],
   "source": [
    "model = HST(15)\n",
    "\n",
    "# Get intermediate layer outputs\n",
    "intermediate_model = tf.keras.Model(inputs=model.input,\n",
    "                                    outputs=model.get_layer('dense_layer_name').output)\n",
    "intermediate_output = intermediate_model.predict(input_data)\n",
    "print(intermediate_output)"
   ]
  }
 ],
 "metadata": {
  "kernelspec": {
   "display_name": "openmmlab",
   "language": "python",
   "name": "python3"
  },
  "language_info": {
   "codemirror_mode": {
    "name": "ipython",
    "version": 3
   },
   "file_extension": ".py",
   "mimetype": "text/x-python",
   "name": "python",
   "nbconvert_exporter": "python",
   "pygments_lexer": "ipython3",
   "version": "3.8.19"
  }
 },
 "nbformat": 4,
 "nbformat_minor": 2
}
