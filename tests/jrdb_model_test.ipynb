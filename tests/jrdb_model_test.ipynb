{
 "cells": [
  {
   "cell_type": "code",
   "execution_count": 22,
   "metadata": {},
   "outputs": [],
   "source": [
    "import sys\n",
    "import os\n",
    "\n",
    "# Add the workspace directory to the system path\n",
    "sys.path.append(os.path.abspath('..'))\n",
    "\n",
    "# Now you should be able to import the class\n",
    "from model import preprocess_data\n",
    "from model.train import HST"
   ]
  },
  {
   "cell_type": "code",
   "execution_count": 23,
   "metadata": {},
   "outputs": [],
   "source": [
    "import tensorflow as tf"
   ]
  },
  {
   "cell_type": "code",
   "execution_count": 3,
   "metadata": {},
   "outputs": [
    {
     "name": "stdout",
     "output_type": "stream",
     "text": [
      "Num GPUs Available:  1\n"
     ]
    },
    {
     "name": "stderr",
     "output_type": "stream",
     "text": [
      "2024-08-14 18:33:24.050679: I tensorflow/compiler/xla/stream_executor/cuda/cuda_gpu_executor.cc:981] could not open file to read NUMA node: /sys/bus/pci/devices/0000:01:00.0/numa_node\n",
      "Your kernel may have been built without NUMA support.\n",
      "2024-08-14 18:33:24.189513: I tensorflow/compiler/xla/stream_executor/cuda/cuda_gpu_executor.cc:981] could not open file to read NUMA node: /sys/bus/pci/devices/0000:01:00.0/numa_node\n",
      "Your kernel may have been built without NUMA support.\n",
      "2024-08-14 18:33:24.189888: I tensorflow/compiler/xla/stream_executor/cuda/cuda_gpu_executor.cc:981] could not open file to read NUMA node: /sys/bus/pci/devices/0000:01:00.0/numa_node\n",
      "Your kernel may have been built without NUMA support.\n"
     ]
    }
   ],
   "source": [
    "print(\"Num GPUs Available: \", len(tf.config.list_physical_devices('GPU')))"
   ]
  },
  {
   "cell_type": "code",
   "execution_count": 4,
   "metadata": {},
   "outputs": [],
   "source": [
    "%matplotlib inline"
   ]
  },
  {
   "cell_type": "code",
   "execution_count": 8,
   "metadata": {},
   "outputs": [],
   "source": [
    "import tensorflow as tf\n",
    "tf.data.experimental.save(\n",
    "    train_dataset, path= \"train_dataset\"\n",
    ")"
   ]
  },
  {
   "cell_type": "code",
   "execution_count": 24,
   "metadata": {},
   "outputs": [
    {
     "name": "stderr",
     "output_type": "stream",
     "text": [
      "[libprotobuf ERROR external/com_google_protobuf/src/google/protobuf/text_format.cc:337] Error parsing text-format tensorflow.data.experimental.DistributedSnapshotMetadata: 1:1: Invalid control characters encountered in text.\n",
      "[libprotobuf ERROR external/com_google_protobuf/src/google/protobuf/text_format.cc:337] Error parsing text-format tensorflow.data.experimental.DistributedSnapshotMetadata: 1:3: Expected identifier, got: 3775467272980396666\n"
     ]
    }
   ],
   "source": [
    "loaded = tf.data.experimental.load(\n",
    "    \"/home/annalena/PedestrianTrajectoryPrediction/datasets/test_dataset_odom_aug\"\n",
    ")"
   ]
  },
  {
   "cell_type": "code",
   "execution_count": 4,
   "metadata": {},
   "outputs": [
    {
     "name": "stdout",
     "output_type": "stream",
     "text": [
      "WARNING:tensorflow:From /tmp/ipykernel_28620/3019582309.py:1: load (from tensorflow.python.data.experimental.ops.io) is deprecated and will be removed in a future version.\n",
      "Instructions for updating:\n",
      "Use `tf.data.Dataset.load(...)` instead.\n"
     ]
    },
    {
     "name": "stderr",
     "output_type": "stream",
     "text": [
      "2024-08-13 15:59:47.920586: I tensorflow/compiler/xla/stream_executor/cuda/cuda_gpu_executor.cc:981] could not open file to read NUMA node: /sys/bus/pci/devices/0000:01:00.0/numa_node\n",
      "Your kernel may have been built without NUMA support.\n",
      "2024-08-13 15:59:47.973878: I tensorflow/compiler/xla/stream_executor/cuda/cuda_gpu_executor.cc:981] could not open file to read NUMA node: /sys/bus/pci/devices/0000:01:00.0/numa_node\n",
      "Your kernel may have been built without NUMA support.\n",
      "2024-08-13 15:59:47.974402: I tensorflow/compiler/xla/stream_executor/cuda/cuda_gpu_executor.cc:981] could not open file to read NUMA node: /sys/bus/pci/devices/0000:01:00.0/numa_node\n",
      "Your kernel may have been built without NUMA support.\n",
      "2024-08-13 15:59:47.978641: I tensorflow/compiler/xla/stream_executor/cuda/cuda_gpu_executor.cc:981] could not open file to read NUMA node: /sys/bus/pci/devices/0000:01:00.0/numa_node\n",
      "Your kernel may have been built without NUMA support.\n",
      "2024-08-13 15:59:47.979393: I tensorflow/compiler/xla/stream_executor/cuda/cuda_gpu_executor.cc:981] could not open file to read NUMA node: /sys/bus/pci/devices/0000:01:00.0/numa_node\n",
      "Your kernel may have been built without NUMA support.\n",
      "2024-08-13 15:59:47.980025: I tensorflow/compiler/xla/stream_executor/cuda/cuda_gpu_executor.cc:981] could not open file to read NUMA node: /sys/bus/pci/devices/0000:01:00.0/numa_node\n",
      "Your kernel may have been built without NUMA support.\n",
      "2024-08-13 15:59:48.199892: I tensorflow/compiler/xla/stream_executor/cuda/cuda_gpu_executor.cc:981] could not open file to read NUMA node: /sys/bus/pci/devices/0000:01:00.0/numa_node\n",
      "Your kernel may have been built without NUMA support.\n",
      "2024-08-13 15:59:48.200248: I tensorflow/compiler/xla/stream_executor/cuda/cuda_gpu_executor.cc:981] could not open file to read NUMA node: /sys/bus/pci/devices/0000:01:00.0/numa_node\n",
      "Your kernel may have been built without NUMA support.\n",
      "2024-08-13 15:59:48.200264: I tensorflow/core/common_runtime/gpu/gpu_device.cc:1726] Could not identify NUMA node of platform GPU id 0, defaulting to 0.  Your kernel may not have been built with NUMA support.\n",
      "2024-08-13 15:59:48.200784: I tensorflow/compiler/xla/stream_executor/cuda/cuda_gpu_executor.cc:981] could not open file to read NUMA node: /sys/bus/pci/devices/0000:01:00.0/numa_node\n",
      "Your kernel may have been built without NUMA support.\n",
      "2024-08-13 15:59:48.200833: I tensorflow/core/common_runtime/gpu/gpu_device.cc:1639] Created device /job:localhost/replica:0/task:0/device:GPU:0 with 5582 MB memory:  -> device: 0, name: NVIDIA GeForce RTX 3070 Laptop GPU, pci bus id: 0000:01:00.0, compute capability: 8.6\n",
      "[libprotobuf ERROR external/com_google_protobuf/src/google/protobuf/text_format.cc:337] Error parsing text-format tensorflow.data.experimental.DistributedSnapshotMetadata: 1:1: Invalid control characters encountered in text.\n",
      "[libprotobuf ERROR external/com_google_protobuf/src/google/protobuf/text_format.cc:337] Error parsing text-format tensorflow.data.experimental.DistributedSnapshotMetadata: 1:3: Expected identifier, got: 7493455904445865444\n"
     ]
    }
   ],
   "source": [
    "loaded = tf.data.experimental.load(\n",
    "    \"/home/annalena/PedestrianTrajectoryPrediction/test_synthetic_2d_l3/content/test_synthetic_2d_l3\"\n",
    ")"
   ]
  },
  {
   "cell_type": "code",
   "execution_count": 25,
   "metadata": {},
   "outputs": [],
   "source": [
    "import datetime\n",
    "import tensorflow as tf\n",
    "\n",
    "ckpt_best_dir = \"/home/annalena/PedestrianTrajectoryPrediction/odom_aug/ckpts_best/ckpt\"\n",
    "\n",
    "def test_model(checkpoint_dir, test_dataset):\n",
    "    \n",
    "    model = HST(15)  # Initialize the model architecture\n",
    "    optimizer = tf.keras.optimizers.Adam()\n",
    "    \n",
    "    # Create a checkpoint object\n",
    "    checkpoint = tf.train.Checkpoint(model=model, optimizer=optimizer)\n",
    "    \n",
    "    # Restore the latest checkpoint\n",
    "    latest_checkpoint = tf.train.latest_checkpoint(checkpoint_dir)\n",
    "    if latest_checkpoint:\n",
    "        checkpoint.restore(latest_checkpoint)\n",
    "        print(f\"Restored checkpoint from {latest_checkpoint}\")\n",
    "    else:\n",
    "        print(\"No checkpoint found.\")\n",
    "        return\n",
    "    \n",
    "    # Run a forward pass with a batch from the test dataset\n",
    "    for (batch_x1, batch_x2) in test_dataset.take(1):\n",
    "        input_batch = (batch_x1, batch_x2)\n",
    "        output_dict, pred = model(input_batch, training=False)\n",
    "        #print(output)\n",
    "        break\n",
    "    return output_dict, pred, input_batch\n"
   ]
  },
  {
   "cell_type": "code",
   "execution_count": 26,
   "metadata": {},
   "outputs": [
    {
     "name": "stdout",
     "output_type": "stream",
     "text": [
      "Restored checkpoint from /home/annalena/PedestrianTrajectoryPrediction/odom_aug/ckpts_best/ckpt/ckpt-5\n"
     ]
    },
    {
     "name": "stderr",
     "output_type": "stream",
     "text": [
      "[libprotobuf ERROR external/com_google_protobuf/src/google/protobuf/text_format.cc:337] Error parsing text-format tensorflow.data.experimental.DistributedSnapshotMetadata: 1:1: Invalid control characters encountered in text.\n",
      "[libprotobuf ERROR external/com_google_protobuf/src/google/protobuf/text_format.cc:337] Error parsing text-format tensorflow.data.experimental.DistributedSnapshotMetadata: 1:3: Expected identifier, got: 3775467272980396666\n"
     ]
    }
   ],
   "source": [
    "output_dict, pred, input = test_model(ckpt_best_dir, loaded)"
   ]
  },
  {
   "cell_type": "code",
   "execution_count": 27,
   "metadata": {},
   "outputs": [],
   "source": [
    "%matplotlib inline"
   ]
  },
  {
   "cell_type": "code",
   "execution_count": 28,
   "metadata": {},
   "outputs": [
    {
     "data": {
      "text/plain": [
       "<tf.Tensor: shape=(32, 1, 5), dtype=float32, numpy=\n",
       "array([[[ 0.02497653,  0.0236996 , -0.03996962,  0.03756865,\n",
       "          0.03152268]],\n",
       "\n",
       "       [[ 0.03055543,  0.0286484 , -0.02033912,  0.04138149,\n",
       "          0.03611643]],\n",
       "\n",
       "       [[ 0.01809515,  0.01506408, -0.04863701,  0.0303345 ,\n",
       "          0.02365879]],\n",
       "\n",
       "       [[ 0.01809638,  0.01508073, -0.04877305,  0.03036063,\n",
       "          0.02367721]],\n",
       "\n",
       "       [[ 0.02063361,  0.01951363, -0.04950621,  0.03381596,\n",
       "          0.02742417]],\n",
       "\n",
       "       [[ 0.01252701,  0.01293756,  0.00388629,  0.02084399,\n",
       "          0.0176208 ]],\n",
       "\n",
       "       [[ 0.01972071,  0.01700293, -0.04673218,  0.03201992,\n",
       "          0.02550657]],\n",
       "\n",
       "       [[ 0.01608772,  0.01110932, -0.0419798 ,  0.02609506,\n",
       "          0.01949054]],\n",
       "\n",
       "       [[ 0.01822598,  0.01518446, -0.04852686,  0.0304675 ,\n",
       "          0.02378959]],\n",
       "\n",
       "       [[ 0.02083487,  0.01889314, -0.04606727,  0.03337803,\n",
       "          0.0270616 ]],\n",
       "\n",
       "       [[ 0.01905069,  0.01759438, -0.05200823,  0.03229191,\n",
       "          0.0257374 ]],\n",
       "\n",
       "       [[ 0.01810237,  0.01510119, -0.04886077,  0.03038386,\n",
       "          0.02369746]],\n",
       "\n",
       "       [[ 0.02004146,  0.0178797 , -0.04665428,  0.03252424,\n",
       "          0.02614679]],\n",
       "\n",
       "       [[ 0.05304719,  0.06099535,  0.03643702,  0.06088338,\n",
       "          0.05810302]],\n",
       "\n",
       "       [[ 0.02077825,  0.02070923, -0.04830775,  0.03402448,\n",
       "          0.02798005]],\n",
       "\n",
       "       [[ 0.01996599,  0.01932811, -0.0532318 ,  0.03361747,\n",
       "          0.02706512]],\n",
       "\n",
       "       [[ 0.03828639,  0.04043142, -0.01581868,  0.04865018,\n",
       "          0.04412488]],\n",
       "\n",
       "       [[ 0.02059641,  0.01785866, -0.04380666,  0.03259682,\n",
       "          0.02626594]],\n",
       "\n",
       "       [[ 0.01283477,  0.01327054,  0.00935505,  0.02106475,\n",
       "          0.01797189]],\n",
       "\n",
       "       [[ 0.02797606,  0.02595697, -0.0429337 ,  0.04058835,\n",
       "          0.03377584]],\n",
       "\n",
       "       [[ 0.02003968,  0.01924522, -0.05230367,  0.03360523,\n",
       "          0.02709782]],\n",
       "\n",
       "       [[ 0.01466992,  0.01057098, -0.04761457,  0.0257267 ,\n",
       "          0.01904769]],\n",
       "\n",
       "       [[ 0.02065823,  0.01913427, -0.04915515,  0.03370424,\n",
       "          0.02726521]],\n",
       "\n",
       "       [[ 0.0181879 ,  0.01526759, -0.04929703,  0.03056786,\n",
       "          0.02386634]],\n",
       "\n",
       "       [[ 0.01816397,  0.01513352, -0.04859669,  0.03040929,\n",
       "          0.02373281]],\n",
       "\n",
       "       [[ 0.01813038,  0.01512198, -0.04880219,  0.03040365,\n",
       "          0.02371878]],\n",
       "\n",
       "       [[ 0.02215628,  0.02130895, -0.0493203 ,  0.03554387,\n",
       "          0.02908039]],\n",
       "\n",
       "       [[ 0.02227549,  0.02140576, -0.05307993,  0.03612781,\n",
       "          0.02937082]],\n",
       "\n",
       "       [[ 0.01809017,  0.01505961, -0.04864552,  0.0303307 ,\n",
       "          0.02365414]],\n",
       "\n",
       "       [[ 0.02056769,  0.01877902, -0.0473008 ,  0.03330053,\n",
       "          0.02693751]],\n",
       "\n",
       "       [[ 0.01812053,  0.01515047, -0.04905935,  0.03044048,\n",
       "          0.02374648]],\n",
       "\n",
       "       [[ 0.02486524,  0.02358533, -0.04012449,  0.03746144,\n",
       "          0.03141016]]], dtype=float32)>"
      ]
     },
     "execution_count": 28,
     "metadata": {},
     "output_type": "execute_result"
    }
   ],
   "source": [
    "pred[\"mixture_logits\"]"
   ]
  },
  {
   "cell_type": "code",
   "execution_count": 29,
   "metadata": {},
   "outputs": [
    {
     "data": {
      "text/plain": [
       "<tf.Tensor: shape=(15, 2), dtype=float32, numpy=\n",
       "array([[-0.9371219 , -0.38643432],\n",
       "       [-2.4388633 , -1.4913988 ],\n",
       "       [-2.9974215 , -1.2570841 ],\n",
       "       [-2.9833953 ,  0.45186985],\n",
       "       [-2.6082745 ,  1.2051358 ],\n",
       "       [-2.3806267 ,  0.50282013],\n",
       "       [-1.150934  ,  3.1491013 ],\n",
       "       [-1.2139196 ,  3.159577  ],\n",
       "       [-1.1876585 ,  3.1215024 ],\n",
       "       [-1.1798146 ,  3.1270454 ],\n",
       "       [-1.2889202 ,  3.114056  ],\n",
       "       [-1.31459   ,  3.1222942 ],\n",
       "       [-1.3458209 ,  3.0672789 ],\n",
       "       [-1.2890065 ,  3.129775  ],\n",
       "       [-1.358274  ,  3.0767064 ]], dtype=float32)>"
      ]
     },
     "execution_count": 29,
     "metadata": {},
     "output_type": "execute_result"
    }
   ],
   "source": [
    "pred[\"position\"][0,:,0,:2]"
   ]
  },
  {
   "cell_type": "code",
   "execution_count": 37,
   "metadata": {},
   "outputs": [
    {
     "name": "stderr",
     "output_type": "stream",
     "text": [
      "/tmp/ipykernel_11388/112680072.py:18: UserWarning: Matplotlib is currently using module://matplotlib_inline.backend_inline, which is a non-GUI backend, so cannot show the figure.\n",
      "  fig.show()\n"
     ]
    },
    {
     "data": {
      "image/png": "[encoded data removed]",
      "text/plain": [
       "<Figure size 640x480 with 3 Axes>"
      ]
     },
     "metadata": {},
     "output_type": "display_data"
    }
   ],
   "source": [
    "import matplotlib.pyplot as plt \n",
    "import numpy as np \n",
    "\n",
    "idx = 1\n",
    "\n",
    "mode =3\n",
    "\n",
    "ground_truth = input[0][idx][:,:2].numpy()\n",
    "prediction = pred[\"position\"][idx,:,mode,:2].numpy()\n",
    "\n",
    "\n",
    "fig, (ax1, ax2, ax3) = plt.subplots(1, 3)\n",
    "\n",
    "ax1.plot(ground_truth[1:,0], ground_truth[1:,1], 'ro-')\n",
    "ax1.plot(prediction[6:,0], prediction[6:,1],'bo-')\n",
    "ax2.plot(ground_truth[6:,0], ground_truth[6:,1], 'ro-')\n",
    "ax3.plot(prediction[6:,0], prediction[6:,1],'bo-')\n",
    "fig.show()"
   ]
  },
  {
   "cell_type": "code",
   "execution_count": 10,
   "metadata": {},
   "outputs": [
    {
     "data": {
      "text/plain": [
       "array([[-0.21553525, -0.03838827],\n",
       "       [-0.16171409,  0.07452854],\n",
       "       [-0.1618135 ,  0.07464612],\n",
       "       [-0.16172779,  0.0746796 ],\n",
       "       [-0.16172747,  0.07479997],\n",
       "       [-0.16176964,  0.07472967],\n",
       "       [-0.1637809 ,  0.02403552],\n",
       "       [-0.16363353,  0.02353285],\n",
       "       [-0.16364695,  0.02300084],\n",
       "       [-0.16372512,  0.02258127],\n",
       "       [-0.16382676,  0.02248896],\n",
       "       [-0.16380595,  0.02272726],\n",
       "       [-0.16376704,  0.02319433],\n",
       "       [-0.16377345,  0.02361044],\n",
       "       [-0.16379225,  0.02374719]], dtype=float32)"
      ]
     },
     "execution_count": 10,
     "metadata": {},
     "output_type": "execute_result"
    }
   ],
   "source": [
    "prediction"
   ]
  },
  {
   "cell_type": "code",
   "execution_count": 11,
   "metadata": {},
   "outputs": [
    {
     "data": {
      "text/plain": [
       "array([[-9.91435010e+01,  8.83475909e+01],\n",
       "       [-9.63965328e-03,  6.48002861e-02],\n",
       "       [-9.63965328e-03,  6.48002861e-02],\n",
       "       [ 1.06159366e-04,  1.12360975e-01],\n",
       "       [ 6.85870772e-04,  1.13650911e-01],\n",
       "       [ 1.52057174e-03,  5.51333643e-02],\n",
       "       [ 1.52057174e-03,  5.51333643e-02],\n",
       "       [ 3.28008410e-02, -8.91633604e-02],\n",
       "       [ 3.28008410e-02, -8.91633604e-02],\n",
       "       [ 6.95928442e-02, -9.87210010e-02],\n",
       "       [ 6.95928442e-02, -9.87210010e-02],\n",
       "       [ 6.03811574e-02, -5.19433907e-02],\n",
       "       [ 4.77498183e-01, -7.33223353e-01],\n",
       "       [ 4.33753179e-02, -1.53608534e-01],\n",
       "       [ 1.17056532e-01, -3.05332226e-01]])"
      ]
     },
     "execution_count": 11,
     "metadata": {},
     "output_type": "execute_result"
    }
   ],
   "source": [
    "ground_truth"
   ]
  },
  {
   "cell_type": "code",
   "execution_count": 9,
   "metadata": {},
   "outputs": [
    {
     "ename": "NameError",
     "evalue": "name 'np' is not defined",
     "output_type": "error",
     "traceback": [
      "\u001b[0;31m---------------------------------------------------------------------------\u001b[0m",
      "\u001b[0;31mNameError\u001b[0m                                 Traceback (most recent call last)",
      "Cell \u001b[0;32mIn[9], line 11\u001b[0m\n\u001b[1;32m      9\u001b[0m new_pos \u001b[38;5;241m=\u001b[39m [ground_truth[\u001b[38;5;241m0\u001b[39m] \u001b[38;5;241m+\u001b[39m i \u001b[38;5;28;01mfor\u001b[39;00m i \u001b[38;5;129;01min\u001b[39;00m prediction[\u001b[38;5;241m1\u001b[39m:]]\n\u001b[1;32m     10\u001b[0m new_pos\u001b[38;5;241m.\u001b[39minsert(\u001b[38;5;241m0\u001b[39m,ground_truth[\u001b[38;5;241m0\u001b[39m])\n\u001b[0;32m---> 11\u001b[0m new_pos \u001b[38;5;241m=\u001b[39m \u001b[43mnp\u001b[49m\u001b[38;5;241m.\u001b[39masarray(new_pos)\n\u001b[1;32m     14\u001b[0m tmp \u001b[38;5;241m=\u001b[39m []\n\u001b[1;32m     15\u001b[0m tmp\u001b[38;5;241m.\u001b[39mappend(ground_truth[\u001b[38;5;241m0\u001b[39m])\n",
      "\u001b[0;31mNameError\u001b[0m: name 'np' is not defined"
     ]
    }
   ],
   "source": [
    "idx = 5\n",
    "\n",
    "mode = 0\n",
    "\n",
    "ground_truth = input[0][idx][:,:2].numpy()\n",
    "prediction = pred[\"position\"][idx,:,mode,:2].numpy()\n",
    "\n",
    "\n",
    "new_pos = [ground_truth[0] + i for i in prediction[1:]]\n",
    "new_pos.insert(0,ground_truth[0])\n",
    "new_pos = np.asarray(new_pos)\n",
    "\n",
    "\n",
    "tmp = []\n",
    "tmp.append(ground_truth[0])\n",
    "ground_truth_ = np.asarray(ground_truth)\n",
    "for i in range(1,len(ground_truth_)):\n",
    "    tmp.append(np.add(np.asarray(tmp[-1]),ground_truth_[i]))\n",
    "\n",
    "tmp = np.asarray(tmp)\n",
    "\n",
    "tmp2 = []\n",
    "for i in range(5):\n",
    "    tmp2.append(tmp[i])\n",
    "prediction_ = np.asarray(prediction)\n",
    "for i in range(6,len(prediction)):\n",
    "    tmp2.append(np.add(np.asarray(tmp2[-1]),prediction[i]))\n",
    "\n",
    "tmp2 = np.asarray(tmp2)\n",
    "\n",
    "plt.plot(tmp2[:,0], tmp2[:,1], 'bo-')\n",
    "plt.plot(tmp[:,0], tmp[:,1],'ro-')\n",
    "plt.show()"
   ]
  },
  {
   "cell_type": "code",
   "execution_count": 14,
   "metadata": {},
   "outputs": [
    {
     "name": "stdout",
     "output_type": "stream",
     "text": [
      "[[ 0.43505102 -1.1941148 ]\n",
      " [ 0.27338412 -1.3159314 ]\n",
      " [ 0.43505102 -1.1941148 ]\n",
      " [ 0.27338412 -1.3159314 ]\n",
      " [ 0.27338412 -1.3159314 ]\n",
      " [ 0.27338412 -1.3159314 ]\n",
      " [ 0.43505102 -1.1941148 ]\n",
      " [ 0.43505102 -1.1941148 ]\n",
      " [ 0.43505102 -1.1941148 ]\n",
      " [ 0.43505102 -1.1941148 ]\n",
      " [ 0.43505102 -1.1941148 ]\n",
      " [ 0.43505102 -1.1941148 ]\n",
      " [ 0.43505102 -1.1941144 ]\n",
      " [ 0.43505102 -1.1941144 ]\n",
      " [ 0.43505102 -1.1941144 ]]\n"
     ]
    }
   ],
   "source": [
    "print(prediction)"
   ]
  },
  {
   "cell_type": "markdown",
   "metadata": {},
   "source": [
    "# Plot training loss"
   ]
  },
  {
   "cell_type": "code",
   "execution_count": 13,
   "metadata": {},
   "outputs": [],
   "source": [
    "import pandas as pd\n",
    "\n",
    "train_loss_dir = \"/home/pbr-student/Downloads/train.csv\"\n",
    "eval_loss_dir = \"/home/pbr-student/Downloads/eval.csv\"\n",
    "\n",
    "train_loss = pd.read_csv(train_loss_dir)\n",
    "eval_loss = pd.read_csv(eval_loss_dir)"
   ]
  },
  {
   "cell_type": "code",
   "execution_count": 16,
   "metadata": {},
   "outputs": [
    {
     "data": {
      "image/png": "[encoded data removed]",
      "text/plain": [
       "<Figure size 640x480 with 1 Axes>"
      ]
     },
     "metadata": {},
     "output_type": "display_data"
    }
   ],
   "source": [
    "plt.plot(train_loss[\"Step\"], train_loss[\"Value\"], 'ro-')\n",
    "plt.plot(eval_loss[\"Step\"], eval_loss[\"Value\"], 'bo-')\n",
    "plt.show()"
   ]
  }
 ],
 "metadata": {
  "kernelspec": {
   "display_name": "openmmlab",
   "language": "python",
   "name": "python3"
  },
  "language_info": {
   "codemirror_mode": {
    "name": "ipython",
    "version": 3
   },
   "file_extension": ".py",
   "mimetype": "text/x-python",
   "name": "python",
   "nbconvert_exporter": "python",
   "pygments_lexer": "ipython3",
   "version": "3.8.19"
  }
 },
 "nbformat": 4,
 "nbformat_minor": 2
}
