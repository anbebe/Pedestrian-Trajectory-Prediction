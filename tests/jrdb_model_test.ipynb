{
 "cells": [
  {
   "cell_type": "code",
   "execution_count": 1,
   "metadata": {},
   "outputs": [
    {
     "name": "stdout",
     "output_type": "stream",
     "text": [
      "Jupyter environment detected. Enabling Open3D WebVisualizer.\n",
      "[Open3D INFO] WebRTC GUI backend enabled.\n",
      "[Open3D INFO] WebRTCWindowSystem: HTTP handshake server disabled.\n"
     ]
    },
    {
     "name": "stderr",
     "output_type": "stream",
     "text": [
      "2024-08-19 14:49:16.296287: I tensorflow/core/platform/cpu_feature_guard.cc:182] This TensorFlow binary is optimized to use available CPU instructions in performance-critical operations.\n",
      "To enable the following instructions: AVX2 FMA, in other operations, rebuild TensorFlow with the appropriate compiler flags.\n",
      "2024-08-19 14:49:17.049238: W tensorflow/compiler/tf2tensorrt/utils/py_utils.cc:38] TF-TRT Warning: Could not find TensorRT\n"
     ]
    },
    {
     "name": "stdout",
     "output_type": "stream",
     "text": [
      "Using TensorFlow backend\n"
     ]
    }
   ],
   "source": [
    "import sys\n",
    "import os\n",
    "\n",
    "# Add the workspace directory to the system path\n",
    "sys.path.append(os.path.abspath('..'))\n",
    "\n",
    "# Now you should be able to import the class\n",
    "from model import preprocess_data\n",
    "from model.train import HST"
   ]
  },
  {
   "cell_type": "code",
   "execution_count": 2,
   "metadata": {},
   "outputs": [],
   "source": [
    "import tensorflow as tf"
   ]
  },
  {
   "cell_type": "code",
   "execution_count": 3,
   "metadata": {},
   "outputs": [
    {
     "name": "stdout",
     "output_type": "stream",
     "text": [
      "Num GPUs Available:  1\n"
     ]
    },
    {
     "name": "stderr",
     "output_type": "stream",
     "text": [
      "2024-08-14 18:33:24.050679: I tensorflow/compiler/xla/stream_executor/cuda/cuda_gpu_executor.cc:981] could not open file to read NUMA node: /sys/bus/pci/devices/0000:01:00.0/numa_node\n",
      "Your kernel may have been built without NUMA support.\n",
      "2024-08-14 18:33:24.189513: I tensorflow/compiler/xla/stream_executor/cuda/cuda_gpu_executor.cc:981] could not open file to read NUMA node: /sys/bus/pci/devices/0000:01:00.0/numa_node\n",
      "Your kernel may have been built without NUMA support.\n",
      "2024-08-14 18:33:24.189888: I tensorflow/compiler/xla/stream_executor/cuda/cuda_gpu_executor.cc:981] could not open file to read NUMA node: /sys/bus/pci/devices/0000:01:00.0/numa_node\n",
      "Your kernel may have been built without NUMA support.\n"
     ]
    }
   ],
   "source": [
    "print(\"Num GPUs Available: \", len(tf.config.list_physical_devices('GPU')))"
   ]
  },
  {
   "cell_type": "code",
   "execution_count": 4,
   "metadata": {},
   "outputs": [],
   "source": [
    "%matplotlib inline"
   ]
  },
  {
   "cell_type": "code",
   "execution_count": 8,
   "metadata": {},
   "outputs": [],
   "source": [
    "import tensorflow as tf\n",
    "tf.data.experimental.save(\n",
    "    train_dataset, path= \"train_dataset\"\n",
    ")"
   ]
  },
  {
   "cell_type": "code",
   "execution_count": 3,
   "metadata": {},
   "outputs": [
    {
     "name": "stdout",
     "output_type": "stream",
     "text": [
      "WARNING:tensorflow:From /tmp/ipykernel_11388/4077337549.py:1: load (from tensorflow.python.data.experimental.ops.io) is deprecated and will be removed in a future version.\n",
      "Instructions for updating:\n",
      "Use `tf.data.Dataset.load(...)` instead.\n"
     ]
    },
    {
     "name": "stderr",
     "output_type": "stream",
     "text": [
      "2024-08-19 14:49:51.622153: I tensorflow/compiler/xla/stream_executor/cuda/cuda_gpu_executor.cc:981] could not open file to read NUMA node: /sys/bus/pci/devices/0000:01:00.0/numa_node\n",
      "Your kernel may have been built without NUMA support.\n",
      "2024-08-19 14:49:51.655381: I tensorflow/compiler/xla/stream_executor/cuda/cuda_gpu_executor.cc:981] could not open file to read NUMA node: /sys/bus/pci/devices/0000:01:00.0/numa_node\n",
      "Your kernel may have been built without NUMA support.\n",
      "2024-08-19 14:49:51.655842: I tensorflow/compiler/xla/stream_executor/cuda/cuda_gpu_executor.cc:981] could not open file to read NUMA node: /sys/bus/pci/devices/0000:01:00.0/numa_node\n",
      "Your kernel may have been built without NUMA support.\n",
      "2024-08-19 14:49:51.658984: I tensorflow/compiler/xla/stream_executor/cuda/cuda_gpu_executor.cc:981] could not open file to read NUMA node: /sys/bus/pci/devices/0000:01:00.0/numa_node\n",
      "Your kernel may have been built without NUMA support.\n",
      "2024-08-19 14:49:51.659504: I tensorflow/compiler/xla/stream_executor/cuda/cuda_gpu_executor.cc:981] could not open file to read NUMA node: /sys/bus/pci/devices/0000:01:00.0/numa_node\n",
      "Your kernel may have been built without NUMA support.\n",
      "2024-08-19 14:49:51.659952: I tensorflow/compiler/xla/stream_executor/cuda/cuda_gpu_executor.cc:981] could not open file to read NUMA node: /sys/bus/pci/devices/0000:01:00.0/numa_node\n",
      "Your kernel may have been built without NUMA support.\n",
      "2024-08-19 14:49:51.797673: I tensorflow/compiler/xla/stream_executor/cuda/cuda_gpu_executor.cc:981] could not open file to read NUMA node: /sys/bus/pci/devices/0000:01:00.0/numa_node\n",
      "Your kernel may have been built without NUMA support.\n",
      "2024-08-19 14:49:51.798117: I tensorflow/compiler/xla/stream_executor/cuda/cuda_gpu_executor.cc:981] could not open file to read NUMA node: /sys/bus/pci/devices/0000:01:00.0/numa_node\n",
      "Your kernel may have been built without NUMA support.\n",
      "2024-08-19 14:49:51.798140: I tensorflow/core/common_runtime/gpu/gpu_device.cc:1726] Could not identify NUMA node of platform GPU id 0, defaulting to 0.  Your kernel may not have been built with NUMA support.\n",
      "2024-08-19 14:49:51.798557: I tensorflow/compiler/xla/stream_executor/cuda/cuda_gpu_executor.cc:981] could not open file to read NUMA node: /sys/bus/pci/devices/0000:01:00.0/numa_node\n",
      "Your kernel may have been built without NUMA support.\n",
      "2024-08-19 14:49:51.798645: I tensorflow/core/common_runtime/gpu/gpu_device.cc:1639] Created device /job:localhost/replica:0/task:0/device:GPU:0 with 5582 MB memory:  -> device: 0, name: NVIDIA GeForce RTX 3070 Laptop GPU, pci bus id: 0000:01:00.0, compute capability: 8.6\n",
      "[libprotobuf ERROR external/com_google_protobuf/src/google/protobuf/text_format.cc:337] Error parsing text-format tensorflow.data.experimental.DistributedSnapshotMetadata: 1:1: Invalid control characters encountered in text.\n",
      "[libprotobuf ERROR external/com_google_protobuf/src/google/protobuf/text_format.cc:337] Error parsing text-format tensorflow.data.experimental.DistributedSnapshotMetadata: 1:3: Expected identifier, got: 16053318953697717525\n"
     ]
    }
   ],
   "source": [
    "loaded = tf.data.experimental.load(\n",
    "    \"/home/annalena/PedestrianTrajectoryPrediction/datasets/test_dataset_odom\"\n",
    ")"
   ]
  },
  {
   "cell_type": "code",
   "execution_count": 4,
   "metadata": {},
   "outputs": [
    {
     "name": "stdout",
     "output_type": "stream",
     "text": [
      "WARNING:tensorflow:From /tmp/ipykernel_28620/3019582309.py:1: load (from tensorflow.python.data.experimental.ops.io) is deprecated and will be removed in a future version.\n",
      "Instructions for updating:\n",
      "Use `tf.data.Dataset.load(...)` instead.\n"
     ]
    },
    {
     "name": "stderr",
     "output_type": "stream",
     "text": [
      "2024-08-13 15:59:47.920586: I tensorflow/compiler/xla/stream_executor/cuda/cuda_gpu_executor.cc:981] could not open file to read NUMA node: /sys/bus/pci/devices/0000:01:00.0/numa_node\n",
      "Your kernel may have been built without NUMA support.\n",
      "2024-08-13 15:59:47.973878: I tensorflow/compiler/xla/stream_executor/cuda/cuda_gpu_executor.cc:981] could not open file to read NUMA node: /sys/bus/pci/devices/0000:01:00.0/numa_node\n",
      "Your kernel may have been built without NUMA support.\n",
      "2024-08-13 15:59:47.974402: I tensorflow/compiler/xla/stream_executor/cuda/cuda_gpu_executor.cc:981] could not open file to read NUMA node: /sys/bus/pci/devices/0000:01:00.0/numa_node\n",
      "Your kernel may have been built without NUMA support.\n",
      "2024-08-13 15:59:47.978641: I tensorflow/compiler/xla/stream_executor/cuda/cuda_gpu_executor.cc:981] could not open file to read NUMA node: /sys/bus/pci/devices/0000:01:00.0/numa_node\n",
      "Your kernel may have been built without NUMA support.\n",
      "2024-08-13 15:59:47.979393: I tensorflow/compiler/xla/stream_executor/cuda/cuda_gpu_executor.cc:981] could not open file to read NUMA node: /sys/bus/pci/devices/0000:01:00.0/numa_node\n",
      "Your kernel may have been built without NUMA support.\n",
      "2024-08-13 15:59:47.980025: I tensorflow/compiler/xla/stream_executor/cuda/cuda_gpu_executor.cc:981] could not open file to read NUMA node: /sys/bus/pci/devices/0000:01:00.0/numa_node\n",
      "Your kernel may have been built without NUMA support.\n",
      "2024-08-13 15:59:48.199892: I tensorflow/compiler/xla/stream_executor/cuda/cuda_gpu_executor.cc:981] could not open file to read NUMA node: /sys/bus/pci/devices/0000:01:00.0/numa_node\n",
      "Your kernel may have been built without NUMA support.\n",
      "2024-08-13 15:59:48.200248: I tensorflow/compiler/xla/stream_executor/cuda/cuda_gpu_executor.cc:981] could not open file to read NUMA node: /sys/bus/pci/devices/0000:01:00.0/numa_node\n",
      "Your kernel may have been built without NUMA support.\n",
      "2024-08-13 15:59:48.200264: I tensorflow/core/common_runtime/gpu/gpu_device.cc:1726] Could not identify NUMA node of platform GPU id 0, defaulting to 0.  Your kernel may not have been built with NUMA support.\n",
      "2024-08-13 15:59:48.200784: I tensorflow/compiler/xla/stream_executor/cuda/cuda_gpu_executor.cc:981] could not open file to read NUMA node: /sys/bus/pci/devices/0000:01:00.0/numa_node\n",
      "Your kernel may have been built without NUMA support.\n",
      "2024-08-13 15:59:48.200833: I tensorflow/core/common_runtime/gpu/gpu_device.cc:1639] Created device /job:localhost/replica:0/task:0/device:GPU:0 with 5582 MB memory:  -> device: 0, name: NVIDIA GeForce RTX 3070 Laptop GPU, pci bus id: 0000:01:00.0, compute capability: 8.6\n",
      "[libprotobuf ERROR external/com_google_protobuf/src/google/protobuf/text_format.cc:337] Error parsing text-format tensorflow.data.experimental.DistributedSnapshotMetadata: 1:1: Invalid control characters encountered in text.\n",
      "[libprotobuf ERROR external/com_google_protobuf/src/google/protobuf/text_format.cc:337] Error parsing text-format tensorflow.data.experimental.DistributedSnapshotMetadata: 1:3: Expected identifier, got: 7493455904445865444\n"
     ]
    }
   ],
   "source": [
    "loaded = tf.data.experimental.load(\n",
    "    \"/home/annalena/PedestrianTrajectoryPrediction/test_synthetic_2d_l3/content/test_synthetic_2d_l3\"\n",
    ")"
   ]
  },
  {
   "cell_type": "code",
   "execution_count": 8,
   "metadata": {},
   "outputs": [],
   "source": [
    "import datetime\n",
    "import tensorflow as tf\n",
    "\n",
    "ckpt_best_dir = \"/home/annalena/PedestrianTrajectoryPrediction/odom_orig/ckpts_best/ckpt\"\n",
    "\n",
    "def test_model(checkpoint_dir, test_dataset):\n",
    "    \n",
    "    model = HST(15)  # Initialize the model architecture\n",
    "    optimizer = tf.keras.optimizers.Adam()\n",
    "    \n",
    "    # Create a checkpoint object\n",
    "    checkpoint = tf.train.Checkpoint(model=model, optimizer=optimizer)\n",
    "    \n",
    "    # Restore the latest checkpoint\n",
    "    latest_checkpoint = tf.train.latest_checkpoint(checkpoint_dir)\n",
    "    if latest_checkpoint:\n",
    "        checkpoint.restore(latest_checkpoint)\n",
    "        print(f\"Restored checkpoint from {latest_checkpoint}\")\n",
    "    else:\n",
    "        print(\"No checkpoint found.\")\n",
    "        return\n",
    "    \n",
    "    # Run a forward pass with a batch from the test dataset\n",
    "    for (batch_x1, batch_x2) in test_dataset.take(1):\n",
    "        input_batch = (batch_x1, batch_x2)\n",
    "        output_dict, pred = model(input_batch, training=False)\n",
    "        #print(output)\n",
    "        break\n",
    "    return output_dict, pred, input_batch\n"
   ]
  },
  {
   "cell_type": "code",
   "execution_count": 9,
   "metadata": {},
   "outputs": [
    {
     "name": "stdout",
     "output_type": "stream",
     "text": [
      "Restored checkpoint from /home/annalena/PedestrianTrajectoryPrediction/odom_orig/ckpts_best/ckpt/ckpt-5\n"
     ]
    },
    {
     "name": "stderr",
     "output_type": "stream",
     "text": [
      "[libprotobuf ERROR external/com_google_protobuf/src/google/protobuf/text_format.cc:337] Error parsing text-format tensorflow.data.experimental.DistributedSnapshotMetadata: 1:1: Invalid control characters encountered in text.\n",
      "[libprotobuf ERROR external/com_google_protobuf/src/google/protobuf/text_format.cc:337] Error parsing text-format tensorflow.data.experimental.DistributedSnapshotMetadata: 1:3: Expected identifier, got: 16053318953697717525\n",
      "2024-08-19 14:50:57.539844: I tensorflow/compiler/xla/stream_executor/cuda/cuda_blas.cc:606] TensorFloat-32 will be used for the matrix multiplication. This will only be logged once.\n"
     ]
    }
   ],
   "source": [
    "output_dict, pred, input = test_model(ckpt_best_dir, loaded)"
   ]
  },
  {
   "cell_type": "code",
   "execution_count": 12,
   "metadata": {},
   "outputs": [],
   "source": [
    "%matplotlib inline"
   ]
  },
  {
   "cell_type": "code",
   "execution_count": 10,
   "metadata": {},
   "outputs": [
    {
     "data": {
      "text/plain": [
       "<tf.Tensor: shape=(32, 1, 5), dtype=float32, numpy=\n",
       "array([[[ 0.02432423,  0.00681269, -0.18814166,  0.02405232,\n",
       "          0.01745496]],\n",
       "\n",
       "       [[ 0.017151  ,  0.01105021, -0.01074711,  0.01848441,\n",
       "          0.01369796]],\n",
       "\n",
       "       [[ 0.01677329,  0.00982777, -0.01598969,  0.01798374,\n",
       "          0.01342723]],\n",
       "\n",
       "       [[ 0.02388332,  0.00765011, -0.14193496,  0.02361578,\n",
       "          0.01734103]],\n",
       "\n",
       "       [[ 0.02389524,  0.00771607, -0.13930675,  0.02361906,\n",
       "          0.0173617 ]],\n",
       "\n",
       "       [[ 0.02598218,  0.00895206, -0.13799201,  0.02519631,\n",
       "          0.0188992 ]],\n",
       "\n",
       "       [[ 0.02410233,  0.0074788 , -0.15542002,  0.0238154 ,\n",
       "          0.0174587 ]],\n",
       "\n",
       "       [[ 0.02122329, -0.01538681, -0.18489702,  0.02198822,\n",
       "          0.01540645]],\n",
       "\n",
       "       [[ 0.0280371 ,  0.0092173 , -0.20382701,  0.0276411 ,\n",
       "          0.02075588]],\n",
       "\n",
       "       [[ 0.02626863,  0.00761265, -0.2132851 ,  0.02597758,\n",
       "          0.01900001]],\n",
       "\n",
       "       [[ 0.02389651,  0.00763917, -0.14244674,  0.02362627,\n",
       "          0.01734463]],\n",
       "\n",
       "       [[ 0.02386885,  0.00764372, -0.14261486,  0.02360783,\n",
       "          0.01733605]],\n",
       "\n",
       "       [[ 0.0241578 ,  0.00737228, -0.1527544 ,  0.02378088,\n",
       "          0.0174459 ]],\n",
       "\n",
       "       [[ 0.0261987 ,  0.00927804, -0.18336266,  0.02613458,\n",
       "          0.01976943]],\n",
       "\n",
       "       [[ 0.01713419,  0.010831  , -0.01280308,  0.0185783 ,\n",
       "          0.01379589]],\n",
       "\n",
       "       [[ 0.02626094,  0.00766493, -0.21190347,  0.02596602,\n",
       "          0.01900529]],\n",
       "\n",
       "       [[ 0.0256342 ,  0.00854893, -0.15254198,  0.02505684,\n",
       "          0.01865903]],\n",
       "\n",
       "       [[ 0.02389503,  0.00766793, -0.14116977,  0.02362216,\n",
       "          0.01735068]],\n",
       "\n",
       "       [[ 0.03207394,  0.012779  , -0.15329687,  0.0308767 ,\n",
       "          0.02444049]],\n",
       "\n",
       "       [[ 0.02389077,  0.0076497 , -0.14193217,  0.0236219 ,\n",
       "          0.01734527]],\n",
       "\n",
       "       [[ 0.02390484,  0.00766904, -0.1412994 ,  0.02363081,\n",
       "          0.01735677]],\n",
       "\n",
       "       [[ 0.02387188,  0.00764758, -0.14204474,  0.02360798,\n",
       "          0.01733601]],\n",
       "\n",
       "       [[ 0.02906323,  0.01040781, -0.18614964,  0.02843566,\n",
       "          0.02175788]],\n",
       "\n",
       "       [[ 0.02387754,  0.00771376, -0.13924284,  0.02360586,\n",
       "          0.01735326]],\n",
       "\n",
       "       [[ 0.0242187 ,  0.00759639, -0.15855545,  0.02394307,\n",
       "          0.0176187 ]],\n",
       "\n",
       "       [[ 0.02390224,  0.00769585, -0.14023581,  0.02362613,\n",
       "          0.01736123]],\n",
       "\n",
       "       [[ 0.02970518,  0.01077981, -0.18802495,  0.02903584,\n",
       "          0.02231815]],\n",
       "\n",
       "       [[ 0.01894339,  0.01008835, -0.02028381,  0.0197388 ,\n",
       "          0.01449957]],\n",
       "\n",
       "       [[ 0.02388966,  0.00761889, -0.14337581,  0.02362444,\n",
       "          0.01733991]],\n",
       "\n",
       "       [[ 0.02451741,  0.00674264, -0.18667313,  0.02428779,\n",
       "          0.01761931]],\n",
       "\n",
       "       [[ 0.01687914,  0.01207124, -0.00963913,  0.01871727,\n",
       "          0.01411896]],\n",
       "\n",
       "       [[ 0.02387665,  0.00768643, -0.14037804,  0.02360773,\n",
       "          0.01734561]]], dtype=float32)>"
      ]
     },
     "execution_count": 10,
     "metadata": {},
     "output_type": "execute_result"
    }
   ],
   "source": [
    "pred[\"mixture_logits\"]"
   ]
  },
  {
   "cell_type": "code",
   "execution_count": 15,
   "metadata": {},
   "outputs": [
    {
     "data": {
      "text/plain": [
       "<tf.Tensor: shape=(15, 2), dtype=float32, numpy=\n",
       "array([[ 2.3242922, -1.5897198],\n",
       "       [ 2.201498 , -1.5400065],\n",
       "       [ 2.212193 , -1.5060606],\n",
       "       [ 2.247127 , -1.5865732],\n",
       "       [ 2.3829427, -1.5651078],\n",
       "       [ 2.3754601, -1.7394959],\n",
       "       [ 2.1723154, -1.4381802],\n",
       "       [ 2.1730485, -1.4274968],\n",
       "       [ 2.1889954, -1.4192437],\n",
       "       [ 2.1895776, -1.4282141],\n",
       "       [ 2.167231 , -1.4245923],\n",
       "       [ 2.1765244, -1.4306911],\n",
       "       [ 2.174631 , -1.4288155],\n",
       "       [ 2.1787014, -1.436587 ],\n",
       "       [ 2.1809292, -1.4390249]], dtype=float32)>"
      ]
     },
     "execution_count": 15,
     "metadata": {},
     "output_type": "execute_result"
    }
   ],
   "source": [
    "pred[\"position\"][0,:,0,:2]"
   ]
  },
  {
   "cell_type": "code",
   "execution_count": 21,
   "metadata": {},
   "outputs": [
    {
     "name": "stderr",
     "output_type": "stream",
     "text": [
      "/tmp/ipykernel_11388/3991637300.py:18: UserWarning: Matplotlib is currently using module://matplotlib_inline.backend_inline, which is a non-GUI backend, so cannot show the figure.\n",
      "  fig.show()\n"
     ]
    },
    {
     "data": {
      "image/png": "[encoded data removed]",
      "text/plain": [
       "<Figure size 640x480 with 3 Axes>"
      ]
     },
     "metadata": {},
     "output_type": "display_data"
    }
   ],
   "source": [
    "import matplotlib.pyplot as plt \n",
    "import numpy as np \n",
    "\n",
    "idx = 5\n",
    "\n",
    "mode =1\n",
    "\n",
    "ground_truth = input[0][idx][:,:2].numpy()\n",
    "prediction = pred[\"position\"][idx,:,mode,:2].numpy()\n",
    "\n",
    "\n",
    "fig, (ax1, ax2, ax3) = plt.subplots(1, 3)\n",
    "\n",
    "ax1.plot(ground_truth[1:,0], ground_truth[1:,1], 'ro-')\n",
    "ax1.plot(prediction[6:,0], prediction[6:,1],'bo-')\n",
    "ax2.plot(ground_truth[6:,0], ground_truth[6:,1], 'ro-')\n",
    "ax3.plot(prediction[6:,0], prediction[6:,1],'bo-')\n",
    "fig.show()"
   ]
  },
  {
   "cell_type": "code",
   "execution_count": 10,
   "metadata": {},
   "outputs": [
    {
     "data": {
      "text/plain": [
       "array([[-0.21553525, -0.03838827],\n",
       "       [-0.16171409,  0.07452854],\n",
       "       [-0.1618135 ,  0.07464612],\n",
       "       [-0.16172779,  0.0746796 ],\n",
       "       [-0.16172747,  0.07479997],\n",
       "       [-0.16176964,  0.07472967],\n",
       "       [-0.1637809 ,  0.02403552],\n",
       "       [-0.16363353,  0.02353285],\n",
       "       [-0.16364695,  0.02300084],\n",
       "       [-0.16372512,  0.02258127],\n",
       "       [-0.16382676,  0.02248896],\n",
       "       [-0.16380595,  0.02272726],\n",
       "       [-0.16376704,  0.02319433],\n",
       "       [-0.16377345,  0.02361044],\n",
       "       [-0.16379225,  0.02374719]], dtype=float32)"
      ]
     },
     "execution_count": 10,
     "metadata": {},
     "output_type": "execute_result"
    }
   ],
   "source": [
    "prediction"
   ]
  },
  {
   "cell_type": "code",
   "execution_count": 11,
   "metadata": {},
   "outputs": [
    {
     "data": {
      "text/plain": [
       "array([[-9.91435010e+01,  8.83475909e+01],\n",
       "       [-9.63965328e-03,  6.48002861e-02],\n",
       "       [-9.63965328e-03,  6.48002861e-02],\n",
       "       [ 1.06159366e-04,  1.12360975e-01],\n",
       "       [ 6.85870772e-04,  1.13650911e-01],\n",
       "       [ 1.52057174e-03,  5.51333643e-02],\n",
       "       [ 1.52057174e-03,  5.51333643e-02],\n",
       "       [ 3.28008410e-02, -8.91633604e-02],\n",
       "       [ 3.28008410e-02, -8.91633604e-02],\n",
       "       [ 6.95928442e-02, -9.87210010e-02],\n",
       "       [ 6.95928442e-02, -9.87210010e-02],\n",
       "       [ 6.03811574e-02, -5.19433907e-02],\n",
       "       [ 4.77498183e-01, -7.33223353e-01],\n",
       "       [ 4.33753179e-02, -1.53608534e-01],\n",
       "       [ 1.17056532e-01, -3.05332226e-01]])"
      ]
     },
     "execution_count": 11,
     "metadata": {},
     "output_type": "execute_result"
    }
   ],
   "source": [
    "ground_truth"
   ]
  },
  {
   "cell_type": "code",
   "execution_count": 9,
   "metadata": {},
   "outputs": [
    {
     "ename": "NameError",
     "evalue": "name 'np' is not defined",
     "output_type": "error",
     "traceback": [
      "\u001b[0;31m---------------------------------------------------------------------------\u001b[0m",
      "\u001b[0;31mNameError\u001b[0m                                 Traceback (most recent call last)",
      "Cell \u001b[0;32mIn[9], line 11\u001b[0m\n\u001b[1;32m      9\u001b[0m new_pos \u001b[38;5;241m=\u001b[39m [ground_truth[\u001b[38;5;241m0\u001b[39m] \u001b[38;5;241m+\u001b[39m i \u001b[38;5;28;01mfor\u001b[39;00m i \u001b[38;5;129;01min\u001b[39;00m prediction[\u001b[38;5;241m1\u001b[39m:]]\n\u001b[1;32m     10\u001b[0m new_pos\u001b[38;5;241m.\u001b[39minsert(\u001b[38;5;241m0\u001b[39m,ground_truth[\u001b[38;5;241m0\u001b[39m])\n\u001b[0;32m---> 11\u001b[0m new_pos \u001b[38;5;241m=\u001b[39m \u001b[43mnp\u001b[49m\u001b[38;5;241m.\u001b[39masarray(new_pos)\n\u001b[1;32m     14\u001b[0m tmp \u001b[38;5;241m=\u001b[39m []\n\u001b[1;32m     15\u001b[0m tmp\u001b[38;5;241m.\u001b[39mappend(ground_truth[\u001b[38;5;241m0\u001b[39m])\n",
      "\u001b[0;31mNameError\u001b[0m: name 'np' is not defined"
     ]
    }
   ],
   "source": [
    "idx = 5\n",
    "\n",
    "mode = 0\n",
    "\n",
    "ground_truth = input[0][idx][:,:2].numpy()\n",
    "prediction = pred[\"position\"][idx,:,mode,:2].numpy()\n",
    "\n",
    "\n",
    "new_pos = [ground_truth[0] + i for i in prediction[1:]]\n",
    "new_pos.insert(0,ground_truth[0])\n",
    "new_pos = np.asarray(new_pos)\n",
    "\n",
    "\n",
    "tmp = []\n",
    "tmp.append(ground_truth[0])\n",
    "ground_truth_ = np.asarray(ground_truth)\n",
    "for i in range(1,len(ground_truth_)):\n",
    "    tmp.append(np.add(np.asarray(tmp[-1]),ground_truth_[i]))\n",
    "\n",
    "tmp = np.asarray(tmp)\n",
    "\n",
    "tmp2 = []\n",
    "for i in range(5):\n",
    "    tmp2.append(tmp[i])\n",
    "prediction_ = np.asarray(prediction)\n",
    "for i in range(6,len(prediction)):\n",
    "    tmp2.append(np.add(np.asarray(tmp2[-1]),prediction[i]))\n",
    "\n",
    "tmp2 = np.asarray(tmp2)\n",
    "\n",
    "plt.plot(tmp2[:,0], tmp2[:,1], 'bo-')\n",
    "plt.plot(tmp[:,0], tmp[:,1],'ro-')\n",
    "plt.show()"
   ]
  },
  {
   "cell_type": "code",
   "execution_count": 14,
   "metadata": {},
   "outputs": [
    {
     "name": "stdout",
     "output_type": "stream",
     "text": [
      "[[ 0.43505102 -1.1941148 ]\n",
      " [ 0.27338412 -1.3159314 ]\n",
      " [ 0.43505102 -1.1941148 ]\n",
      " [ 0.27338412 -1.3159314 ]\n",
      " [ 0.27338412 -1.3159314 ]\n",
      " [ 0.27338412 -1.3159314 ]\n",
      " [ 0.43505102 -1.1941148 ]\n",
      " [ 0.43505102 -1.1941148 ]\n",
      " [ 0.43505102 -1.1941148 ]\n",
      " [ 0.43505102 -1.1941148 ]\n",
      " [ 0.43505102 -1.1941148 ]\n",
      " [ 0.43505102 -1.1941148 ]\n",
      " [ 0.43505102 -1.1941144 ]\n",
      " [ 0.43505102 -1.1941144 ]\n",
      " [ 0.43505102 -1.1941144 ]]\n"
     ]
    }
   ],
   "source": [
    "print(prediction)"
   ]
  },
  {
   "cell_type": "markdown",
   "metadata": {},
   "source": [
    "# Plot training loss"
   ]
  },
  {
   "cell_type": "code",
   "execution_count": 13,
   "metadata": {},
   "outputs": [],
   "source": [
    "import pandas as pd\n",
    "\n",
    "train_loss_dir = \"/home/pbr-student/Downloads/train.csv\"\n",
    "eval_loss_dir = \"/home/pbr-student/Downloads/eval.csv\"\n",
    "\n",
    "train_loss = pd.read_csv(train_loss_dir)\n",
    "eval_loss = pd.read_csv(eval_loss_dir)"
   ]
  },
  {
   "cell_type": "code",
   "execution_count": 16,
   "metadata": {},
   "outputs": [
    {
     "data": {
      "image/png": "[encoded data removed]",
      "text/plain": [
       "<Figure size 640x480 with 1 Axes>"
      ]
     },
     "metadata": {},
     "output_type": "display_data"
    }
   ],
   "source": [
    "plt.plot(train_loss[\"Step\"], train_loss[\"Value\"], 'ro-')\n",
    "plt.plot(eval_loss[\"Step\"], eval_loss[\"Value\"], 'bo-')\n",
    "plt.show()"
   ]
  }
 ],
 "metadata": {
  "kernelspec": {
   "display_name": "openmmlab",
   "language": "python",
   "name": "python3"
  },
  "language_info": {
   "codemirror_mode": {
    "name": "ipython",
    "version": 3
   },
   "file_extension": ".py",
   "mimetype": "text/x-python",
   "name": "python",
   "nbconvert_exporter": "python",
   "pygments_lexer": "ipython3",
   "version": "3.8.19"
  }
 },
 "nbformat": 4,
 "nbformat_minor": 2
}
