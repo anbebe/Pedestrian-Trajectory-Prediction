{
 "cells": [
  {
   "cell_type": "code",
   "execution_count": 1,
   "metadata": {},
   "outputs": [
    {
     "name": "stdout",
     "output_type": "stream",
     "text": [
      "Jupyter environment detected. Enabling Open3D WebVisualizer.\n",
      "[Open3D INFO] WebRTC GUI backend enabled.\n",
      "[Open3D INFO] WebRTCWindowSystem: HTTP handshake server disabled.\n"
     ]
    },
    {
     "name": "stderr",
     "output_type": "stream",
     "text": [
      "2024-08-06 14:09:15.136253: I tensorflow/core/platform/cpu_feature_guard.cc:182] This TensorFlow binary is optimized to use available CPU instructions in performance-critical operations.\n",
      "To enable the following instructions: AVX2 FMA, in other operations, rebuild TensorFlow with the appropriate compiler flags.\n",
      "2024-08-06 14:09:15.988098: W tensorflow/compiler/tf2tensorrt/utils/py_utils.cc:38] TF-TRT Warning: Could not find TensorRT\n"
     ]
    },
    {
     "name": "stdout",
     "output_type": "stream",
     "text": [
      "Using TensorFlow backend\n"
     ]
    }
   ],
   "source": [
    "import sys\n",
    "import os\n",
    "\n",
    "# Add the workspace directory to the system path\n",
    "sys.path.append(os.path.abspath('..'))\n",
    "\n",
    "# Now you should be able to import the class\n",
    "from model import preprocess_data\n",
    "from model.train import HST"
   ]
  },
  {
   "cell_type": "code",
   "execution_count": 2,
   "metadata": {},
   "outputs": [],
   "source": [
    "import tensorflow as tf"
   ]
  },
  {
   "cell_type": "code",
   "execution_count": 3,
   "metadata": {},
   "outputs": [
    {
     "name": "stdout",
     "output_type": "stream",
     "text": [
      "Num GPUs Available:  1\n"
     ]
    },
    {
     "name": "stderr",
     "output_type": "stream",
     "text": [
      "2024-08-04 20:18:31.069255: I tensorflow/compiler/xla/stream_executor/cuda/cuda_gpu_executor.cc:981] could not open file to read NUMA node: /sys/bus/pci/devices/0000:01:00.0/numa_node\n",
      "Your kernel may have been built without NUMA support.\n",
      "2024-08-04 20:18:31.088657: I tensorflow/compiler/xla/stream_executor/cuda/cuda_gpu_executor.cc:981] could not open file to read NUMA node: /sys/bus/pci/devices/0000:01:00.0/numa_node\n",
      "Your kernel may have been built without NUMA support.\n",
      "2024-08-04 20:18:31.089085: I tensorflow/compiler/xla/stream_executor/cuda/cuda_gpu_executor.cc:981] could not open file to read NUMA node: /sys/bus/pci/devices/0000:01:00.0/numa_node\n",
      "Your kernel may have been built without NUMA support.\n"
     ]
    }
   ],
   "source": [
    "print(\"Num GPUs Available: \", len(tf.config.list_physical_devices('GPU')))"
   ]
  },
  {
   "cell_type": "code",
   "execution_count": 3,
   "metadata": {},
   "outputs": [],
   "source": [
    "%matplotlib inline"
   ]
  },
  {
   "cell_type": "code",
   "execution_count": 4,
   "metadata": {},
   "outputs": [
    {
     "name": "stderr",
     "output_type": "stream",
     "text": [
      "2024-08-01 15:25:34.325589: I tensorflow/compiler/xla/stream_executor/cuda/cuda_gpu_executor.cc:981] could not open file to read NUMA node: /sys/bus/pci/devices/0000:01:00.0/numa_node\n",
      "Your kernel may have been built without NUMA support.\n",
      "2024-08-01 15:25:34.325959: I tensorflow/compiler/xla/stream_executor/cuda/cuda_gpu_executor.cc:981] could not open file to read NUMA node: /sys/bus/pci/devices/0000:01:00.0/numa_node\n",
      "Your kernel may have been built without NUMA support.\n",
      "2024-08-01 15:25:34.326259: I tensorflow/compiler/xla/stream_executor/cuda/cuda_gpu_executor.cc:981] could not open file to read NUMA node: /sys/bus/pci/devices/0000:01:00.0/numa_node\n",
      "Your kernel may have been built without NUMA support.\n",
      "2024-08-01 15:25:34.505571: I tensorflow/compiler/xla/stream_executor/cuda/cuda_gpu_executor.cc:981] could not open file to read NUMA node: /sys/bus/pci/devices/0000:01:00.0/numa_node\n",
      "Your kernel may have been built without NUMA support.\n",
      "2024-08-01 15:25:34.505900: I tensorflow/compiler/xla/stream_executor/cuda/cuda_gpu_executor.cc:981] could not open file to read NUMA node: /sys/bus/pci/devices/0000:01:00.0/numa_node\n",
      "Your kernel may have been built without NUMA support.\n",
      "2024-08-01 15:25:34.505913: I tensorflow/core/common_runtime/gpu/gpu_device.cc:1726] Could not identify NUMA node of platform GPU id 0, defaulting to 0.  Your kernel may not have been built with NUMA support.\n",
      "2024-08-01 15:25:34.506229: I tensorflow/compiler/xla/stream_executor/cuda/cuda_gpu_executor.cc:981] could not open file to read NUMA node: /sys/bus/pci/devices/0000:01:00.0/numa_node\n",
      "Your kernel may have been built without NUMA support.\n",
      "2024-08-01 15:25:34.506268: I tensorflow/core/common_runtime/gpu/gpu_device.cc:1639] Created device /job:localhost/replica:0/task:0/device:GPU:0 with 5582 MB memory:  -> device: 0, name: NVIDIA GeForce RTX 3070 Laptop GPU, pci bus id: 0000:01:00.0, compute capability: 8.6\n",
      "2024-08-01 15:25:34.771808: W tensorflow/core/framework/dataset.cc:956] Input of Window will not be optimized because the dataset does not implement the AsGraphDefInternal() method needed to apply optimizations.\n",
      "2024-08-01 15:26:04.768751: W tensorflow/core/framework/dataset.cc:956] Input of Window will not be optimized because the dataset does not implement the AsGraphDefInternal() method needed to apply optimizations.\n",
      "2024-08-01 15:26:34.770071: W tensorflow/core/framework/dataset.cc:956] Input of Window will not be optimized because the dataset does not implement the AsGraphDefInternal() method needed to apply optimizations.\n",
      "2024-08-01 15:27:04.771886: W tensorflow/core/framework/dataset.cc:956] Input of Window will not be optimized because the dataset does not implement the AsGraphDefInternal() method needed to apply optimizations.\n",
      "2024-08-01 15:27:34.775098: W tensorflow/core/framework/dataset.cc:956] Input of Window will not be optimized because the dataset does not implement the AsGraphDefInternal() method needed to apply optimizations.\n",
      "2024-08-01 15:28:04.775640: W tensorflow/core/framework/dataset.cc:956] Input of Window will not be optimized because the dataset does not implement the AsGraphDefInternal() method needed to apply optimizations.\n",
      "2024-08-01 15:28:34.776255: W tensorflow/core/framework/dataset.cc:956] Input of Window will not be optimized because the dataset does not implement the AsGraphDefInternal() method needed to apply optimizations.\n",
      "2024-08-01 15:29:04.777299: W tensorflow/core/framework/dataset.cc:956] Input of Window will not be optimized because the dataset does not implement the AsGraphDefInternal() method needed to apply optimizations.\n",
      "2024-08-01 15:29:34.777754: W tensorflow/core/framework/dataset.cc:956] Input of Window will not be optimized because the dataset does not implement the AsGraphDefInternal() method needed to apply optimizations.\n",
      "2024-08-01 15:30:04.780607: W tensorflow/core/framework/dataset.cc:956] Input of Window will not be optimized because the dataset does not implement the AsGraphDefInternal() method needed to apply optimizations.\n",
      "2024-08-01 15:30:34.783873: W tensorflow/core/framework/dataset.cc:956] Input of Window will not be optimized because the dataset does not implement the AsGraphDefInternal() method needed to apply optimizations.\n",
      "2024-08-01 15:31:04.787169: W tensorflow/core/framework/dataset.cc:956] Input of Window will not be optimized because the dataset does not implement the AsGraphDefInternal() method needed to apply optimizations.\n",
      "2024-08-01 15:31:34.789415: W tensorflow/core/framework/dataset.cc:956] Input of Window will not be optimized because the dataset does not implement the AsGraphDefInternal() method needed to apply optimizations.\n",
      "2024-08-01 15:32:04.792826: W tensorflow/core/framework/dataset.cc:956] Input of Window will not be optimized because the dataset does not implement the AsGraphDefInternal() method needed to apply optimizations.\n",
      "2024-08-01 15:32:34.793254: W tensorflow/core/framework/dataset.cc:956] Input of Window will not be optimized because the dataset does not implement the AsGraphDefInternal() method needed to apply optimizations.\n",
      "2024-08-01 15:33:04.795329: W tensorflow/core/framework/dataset.cc:956] Input of Window will not be optimized because the dataset does not implement the AsGraphDefInternal() method needed to apply optimizations.\n",
      "2024-08-01 15:33:34.798706: W tensorflow/core/framework/dataset.cc:956] Input of Window will not be optimized because the dataset does not implement the AsGraphDefInternal() method needed to apply optimizations.\n",
      "2024-08-01 15:34:04.799865: W tensorflow/core/framework/dataset.cc:956] Input of Window will not be optimized because the dataset does not implement the AsGraphDefInternal() method needed to apply optimizations.\n",
      "2024-08-01 15:34:34.799971: W tensorflow/core/framework/dataset.cc:956] Input of Window will not be optimized because the dataset does not implement the AsGraphDefInternal() method needed to apply optimizations.\n",
      "2024-08-01 15:35:04.802662: W tensorflow/core/framework/dataset.cc:956] Input of Window will not be optimized because the dataset does not implement the AsGraphDefInternal() method needed to apply optimizations.\n",
      "2024-08-01 15:35:34.803552: W tensorflow/core/framework/dataset.cc:956] Input of Window will not be optimized because the dataset does not implement the AsGraphDefInternal() method needed to apply optimizations.\n",
      "2024-08-01 15:36:04.805721: W tensorflow/core/framework/dataset.cc:956] Input of Window will not be optimized because the dataset does not implement the AsGraphDefInternal() method needed to apply optimizations.\n",
      "2024-08-01 15:36:34.806353: W tensorflow/core/framework/dataset.cc:956] Input of Window will not be optimized because the dataset does not implement the AsGraphDefInternal() method needed to apply optimizations.\n",
      "2024-08-01 15:37:04.808847: W tensorflow/core/framework/dataset.cc:956] Input of Window will not be optimized because the dataset does not implement the AsGraphDefInternal() method needed to apply optimizations.\n",
      "2024-08-01 15:37:34.811048: W tensorflow/core/framework/dataset.cc:956] Input of Window will not be optimized because the dataset does not implement the AsGraphDefInternal() method needed to apply optimizations.\n",
      "2024-08-01 15:38:04.811241: W tensorflow/core/framework/dataset.cc:956] Input of Window will not be optimized because the dataset does not implement the AsGraphDefInternal() method needed to apply optimizations.\n",
      "2024-08-01 15:38:34.812863: W tensorflow/core/framework/dataset.cc:956] Input of Window will not be optimized because the dataset does not implement the AsGraphDefInternal() method needed to apply optimizations.\n",
      "2024-08-01 15:39:04.815585: W tensorflow/core/framework/dataset.cc:956] Input of Window will not be optimized because the dataset does not implement the AsGraphDefInternal() method needed to apply optimizations.\n",
      "2024-08-01 15:39:34.815642: W tensorflow/core/framework/dataset.cc:956] Input of Window will not be optimized because the dataset does not implement the AsGraphDefInternal() method needed to apply optimizations.\n",
      "2024-08-01 15:40:04.818830: W tensorflow/core/framework/dataset.cc:956] Input of Window will not be optimized because the dataset does not implement the AsGraphDefInternal() method needed to apply optimizations.\n",
      "2024-08-01 15:40:34.820619: W tensorflow/core/framework/dataset.cc:956] Input of Window will not be optimized because the dataset does not implement the AsGraphDefInternal() method needed to apply optimizations.\n",
      "2024-08-01 15:41:04.823578: W tensorflow/core/framework/dataset.cc:956] Input of Window will not be optimized because the dataset does not implement the AsGraphDefInternal() method needed to apply optimizations.\n",
      "2024-08-01 15:41:34.826355: W tensorflow/core/framework/dataset.cc:956] Input of Window will not be optimized because the dataset does not implement the AsGraphDefInternal() method needed to apply optimizations.\n",
      "2024-08-01 15:42:04.829466: W tensorflow/core/framework/dataset.cc:956] Input of Window will not be optimized because the dataset does not implement the AsGraphDefInternal() method needed to apply optimizations.\n",
      "2024-08-01 15:42:34.830898: W tensorflow/core/framework/dataset.cc:956] Input of Window will not be optimized because the dataset does not implement the AsGraphDefInternal() method needed to apply optimizations.\n",
      "2024-08-01 15:43:04.831667: W tensorflow/core/framework/dataset.cc:956] Input of Window will not be optimized because the dataset does not implement the AsGraphDefInternal() method needed to apply optimizations.\n",
      "2024-08-01 15:43:34.832228: W tensorflow/core/framework/dataset.cc:956] Input of Window will not be optimized because the dataset does not implement the AsGraphDefInternal() method needed to apply optimizations.\n",
      "2024-08-01 15:44:04.833553: W tensorflow/core/framework/dataset.cc:956] Input of Window will not be optimized because the dataset does not implement the AsGraphDefInternal() method needed to apply optimizations.\n",
      "2024-08-01 15:44:34.835775: W tensorflow/core/framework/dataset.cc:956] Input of Window will not be optimized because the dataset does not implement the AsGraphDefInternal() method needed to apply optimizations.\n",
      "2024-08-01 15:45:04.837763: W tensorflow/core/framework/dataset.cc:956] Input of Window will not be optimized because the dataset does not implement the AsGraphDefInternal() method needed to apply optimizations.\n",
      "2024-08-01 15:45:34.839379: W tensorflow/core/framework/dataset.cc:956] Input of Window will not be optimized because the dataset does not implement the AsGraphDefInternal() method needed to apply optimizations.\n",
      "2024-08-01 15:46:04.840837: W tensorflow/core/framework/dataset.cc:956] Input of Window will not be optimized because the dataset does not implement the AsGraphDefInternal() method needed to apply optimizations.\n",
      "2024-08-01 15:46:34.844240: W tensorflow/core/framework/dataset.cc:956] Input of Window will not be optimized because the dataset does not implement the AsGraphDefInternal() method needed to apply optimizations.\n",
      "2024-08-01 15:47:04.846297: W tensorflow/core/framework/dataset.cc:956] Input of Window will not be optimized because the dataset does not implement the AsGraphDefInternal() method needed to apply optimizations.\n",
      "2024-08-01 15:47:34.846588: W tensorflow/core/framework/dataset.cc:956] Input of Window will not be optimized because the dataset does not implement the AsGraphDefInternal() method needed to apply optimizations.\n",
      "2024-08-01 15:48:04.846889: W tensorflow/core/framework/dataset.cc:956] Input of Window will not be optimized because the dataset does not implement the AsGraphDefInternal() method needed to apply optimizations.\n",
      "2024-08-01 15:48:34.850296: W tensorflow/core/framework/dataset.cc:956] Input of Window will not be optimized because the dataset does not implement the AsGraphDefInternal() method needed to apply optimizations.\n",
      "2024-08-01 15:49:04.850924: W tensorflow/core/framework/dataset.cc:956] Input of Window will not be optimized because the dataset does not implement the AsGraphDefInternal() method needed to apply optimizations.\n",
      "2024-08-01 15:49:34.853492: W tensorflow/core/framework/dataset.cc:956] Input of Window will not be optimized because the dataset does not implement the AsGraphDefInternal() method needed to apply optimizations.\n",
      "2024-08-01 15:50:04.855877: W tensorflow/core/framework/dataset.cc:956] Input of Window will not be optimized because the dataset does not implement the AsGraphDefInternal() method needed to apply optimizations.\n",
      "2024-08-01 15:50:34.859543: W tensorflow/core/framework/dataset.cc:956] Input of Window will not be optimized because the dataset does not implement the AsGraphDefInternal() method needed to apply optimizations.\n",
      "2024-08-01 15:51:04.861611: W tensorflow/core/framework/dataset.cc:956] Input of Window will not be optimized because the dataset does not implement the AsGraphDefInternal() method needed to apply optimizations.\n",
      "2024-08-01 15:51:34.862275: W tensorflow/core/framework/dataset.cc:956] Input of Window will not be optimized because the dataset does not implement the AsGraphDefInternal() method needed to apply optimizations.\n",
      "2024-08-01 15:52:04.865245: W tensorflow/core/framework/dataset.cc:956] Input of Window will not be optimized because the dataset does not implement the AsGraphDefInternal() method needed to apply optimizations.\n",
      "2024-08-01 15:52:34.867527: W tensorflow/core/framework/dataset.cc:956] Input of Window will not be optimized because the dataset does not implement the AsGraphDefInternal() method needed to apply optimizations.\n",
      "2024-08-01 15:53:04.868753: W tensorflow/core/framework/dataset.cc:956] Input of Window will not be optimized because the dataset does not implement the AsGraphDefInternal() method needed to apply optimizations.\n",
      "2024-08-01 15:53:34.870413: W tensorflow/core/framework/dataset.cc:956] Input of Window will not be optimized because the dataset does not implement the AsGraphDefInternal() method needed to apply optimizations.\n",
      "2024-08-01 15:54:04.871392: W tensorflow/core/framework/dataset.cc:956] Input of Window will not be optimized because the dataset does not implement the AsGraphDefInternal() method needed to apply optimizations.\n",
      "2024-08-01 15:54:34.871969: W tensorflow/core/framework/dataset.cc:956] Input of Window will not be optimized because the dataset does not implement the AsGraphDefInternal() method needed to apply optimizations.\n",
      "2024-08-01 15:55:04.873068: W tensorflow/core/framework/dataset.cc:956] Input of Window will not be optimized because the dataset does not implement the AsGraphDefInternal() method needed to apply optimizations.\n",
      "2024-08-01 15:55:34.873734: W tensorflow/core/framework/dataset.cc:956] Input of Window will not be optimized because the dataset does not implement the AsGraphDefInternal() method needed to apply optimizations.\n"
     ]
    },
    {
     "ename": "",
     "evalue": "",
     "output_type": "error",
     "traceback": [
      "\u001b[1;31mThe Kernel crashed while executing code in the current cell or a previous cell. \n",
      "\u001b[1;31mPlease review the code in the cell(s) to identify a possible cause of the failure. \n",
      "\u001b[1;31mClick <a href='https://aka.ms/vscodeJupyterKernelCrash'>here</a> for more info. \n",
      "\u001b[1;31mView Jupyter <a href='command:jupyter.viewOutput'>log</a> for further details."
     ]
    }
   ],
   "source": [
    "train_dataset, test_dataset = preprocess_data.load_data(data_path=\"../df_jrdb_augmented.pkl\", batch_size=32)"
   ]
  },
  {
   "cell_type": "code",
   "execution_count": 22,
   "metadata": {},
   "outputs": [
    {
     "data": {
      "text/plain": [
       "<_LoadDataset element_spec=(TensorSpec(shape=(None, 15, 3), dtype=tf.float64, name=None), TensorSpec(shape=(None, 15, 51), dtype=tf.float64, name=None))>"
      ]
     },
     "execution_count": 22,
     "metadata": {},
     "output_type": "execute_result"
    }
   ],
   "source": [
    "loaded"
   ]
  },
  {
   "cell_type": "code",
   "execution_count": 8,
   "metadata": {},
   "outputs": [],
   "source": [
    "import tensorflow as tf\n",
    "tf.data.experimental.save(\n",
    "    train_dataset, path= \"train_dataset\"\n",
    ")"
   ]
  },
  {
   "cell_type": "code",
   "execution_count": 4,
   "metadata": {},
   "outputs": [
    {
     "name": "stdout",
     "output_type": "stream",
     "text": [
      "WARNING:tensorflow:From /tmp/ipykernel_2577/3266697713.py:1: load (from tensorflow.python.data.experimental.ops.io) is deprecated and will be removed in a future version.\n",
      "Instructions for updating:\n",
      "Use `tf.data.Dataset.load(...)` instead.\n"
     ]
    },
    {
     "name": "stderr",
     "output_type": "stream",
     "text": [
      "2024-08-06 14:09:23.997378: I tensorflow/compiler/xla/stream_executor/cuda/cuda_gpu_executor.cc:981] could not open file to read NUMA node: /sys/bus/pci/devices/0000:01:00.0/numa_node\n",
      "Your kernel may have been built without NUMA support.\n",
      "2024-08-06 14:09:24.044018: I tensorflow/compiler/xla/stream_executor/cuda/cuda_gpu_executor.cc:981] could not open file to read NUMA node: /sys/bus/pci/devices/0000:01:00.0/numa_node\n",
      "Your kernel may have been built without NUMA support.\n",
      "2024-08-06 14:09:24.044395: I tensorflow/compiler/xla/stream_executor/cuda/cuda_gpu_executor.cc:981] could not open file to read NUMA node: /sys/bus/pci/devices/0000:01:00.0/numa_node\n",
      "Your kernel may have been built without NUMA support.\n",
      "2024-08-06 14:09:24.046818: I tensorflow/compiler/xla/stream_executor/cuda/cuda_gpu_executor.cc:981] could not open file to read NUMA node: /sys/bus/pci/devices/0000:01:00.0/numa_node\n",
      "Your kernel may have been built without NUMA support.\n",
      "2024-08-06 14:09:24.047147: I tensorflow/compiler/xla/stream_executor/cuda/cuda_gpu_executor.cc:981] could not open file to read NUMA node: /sys/bus/pci/devices/0000:01:00.0/numa_node\n",
      "Your kernel may have been built without NUMA support.\n",
      "2024-08-06 14:09:24.047441: I tensorflow/compiler/xla/stream_executor/cuda/cuda_gpu_executor.cc:981] could not open file to read NUMA node: /sys/bus/pci/devices/0000:01:00.0/numa_node\n",
      "Your kernel may have been built without NUMA support.\n",
      "2024-08-06 14:09:24.188944: I tensorflow/compiler/xla/stream_executor/cuda/cuda_gpu_executor.cc:981] could not open file to read NUMA node: /sys/bus/pci/devices/0000:01:00.0/numa_node\n",
      "Your kernel may have been built without NUMA support.\n",
      "2024-08-06 14:09:24.189273: I tensorflow/compiler/xla/stream_executor/cuda/cuda_gpu_executor.cc:981] could not open file to read NUMA node: /sys/bus/pci/devices/0000:01:00.0/numa_node\n",
      "Your kernel may have been built without NUMA support.\n",
      "2024-08-06 14:09:24.189284: I tensorflow/core/common_runtime/gpu/gpu_device.cc:1726] Could not identify NUMA node of platform GPU id 0, defaulting to 0.  Your kernel may not have been built with NUMA support.\n",
      "2024-08-06 14:09:24.189536: I tensorflow/compiler/xla/stream_executor/cuda/cuda_gpu_executor.cc:981] could not open file to read NUMA node: /sys/bus/pci/devices/0000:01:00.0/numa_node\n",
      "Your kernel may have been built without NUMA support.\n",
      "2024-08-06 14:09:24.189611: I tensorflow/core/common_runtime/gpu/gpu_device.cc:1639] Created device /job:localhost/replica:0/task:0/device:GPU:0 with 5582 MB memory:  -> device: 0, name: NVIDIA GeForce RTX 3070 Laptop GPU, pci bus id: 0000:01:00.0, compute capability: 8.6\n",
      "[libprotobuf ERROR external/com_google_protobuf/src/google/protobuf/text_format.cc:337] Error parsing text-format tensorflow.data.experimental.DistributedSnapshotMetadata: 1:1: Invalid control characters encountered in text.\n",
      "[libprotobuf ERROR external/com_google_protobuf/src/google/protobuf/text_format.cc:337] Error parsing text-format tensorflow.data.experimental.DistributedSnapshotMetadata: 1:3: Expected identifier, got: 3196350132651113285\n"
     ]
    }
   ],
   "source": [
    "loaded = tf.data.experimental.load(\n",
    "    \"test_dataset_scaled\"\n",
    ")"
   ]
  },
  {
   "cell_type": "code",
   "execution_count": 8,
   "metadata": {},
   "outputs": [
    {
     "data": {
      "text/plain": [
       "1653"
      ]
     },
     "execution_count": 8,
     "metadata": {},
     "output_type": "execute_result"
    }
   ],
   "source": [
    "len(loaded)"
   ]
  },
  {
   "cell_type": "code",
   "execution_count": 9,
   "metadata": {},
   "outputs": [
    {
     "name": "stderr",
     "output_type": "stream",
     "text": [
      "[libprotobuf ERROR external/com_google_protobuf/src/google/protobuf/text_format.cc:337] Error parsing text-format tensorflow.data.experimental.DistributedSnapshotMetadata: 1:1: Invalid control characters encountered in text.\n",
      "[libprotobuf ERROR external/com_google_protobuf/src/google/protobuf/text_format.cc:337] Error parsing text-format tensorflow.data.experimental.DistributedSnapshotMetadata: 1:3: Expected identifier, got: 3196350132651113285\n"
     ]
    }
   ],
   "source": [
    "loaded = tf.data.experimental.load(\n",
    "    \"test_dataset_scaled\"\n",
    ")"
   ]
  },
  {
   "cell_type": "code",
   "execution_count": 32,
   "metadata": {},
   "outputs": [],
   "source": [
    "def scale_pos(pos, pose):\n",
    "    return pos*100, pose\n",
    "scaled_ds = loaded2.map(scale_pos)"
   ]
  },
  {
   "cell_type": "code",
   "execution_count": 34,
   "metadata": {},
   "outputs": [
    {
     "name": "stderr",
     "output_type": "stream",
     "text": [
      "[libprotobuf ERROR external/com_google_protobuf/src/google/protobuf/text_format.cc:337] Error parsing text-format tensorflow.data.experimental.DistributedSnapshotMetadata: 1:1: Invalid control characters encountered in text.\n",
      "[libprotobuf ERROR external/com_google_protobuf/src/google/protobuf/text_format.cc:337] Error parsing text-format tensorflow.data.experimental.DistributedSnapshotMetadata: 1:3: Expected identifier, got: 860799372872337746\n"
     ]
    }
   ],
   "source": [
    "tf.data.experimental.save(\n",
    "    scaled_ds, path= \"test_dataset_scaled\"\n",
    ")"
   ]
  },
  {
   "cell_type": "code",
   "execution_count": 8,
   "metadata": {},
   "outputs": [],
   "source": [
    "import datetime\n",
    "import tensorflow as tf\n",
    "\n",
    "ckpt_best_dir = \"/home/annalena/PedestrianTrajectoryPrediction/best_loss/ckpts_best/ckpt\"\n",
    "\n",
    "def test_model(checkpoint_dir, test_dataset):\n",
    "    \n",
    "    model = HST(15)  # Initialize the model architecture\n",
    "    optimizer = tf.keras.optimizers.Adam()\n",
    "    \n",
    "    # Create a checkpoint object\n",
    "    checkpoint = tf.train.Checkpoint(model=model, optimizer=optimizer)\n",
    "    \n",
    "    # Restore the latest checkpoint\n",
    "    latest_checkpoint = tf.train.latest_checkpoint(checkpoint_dir)\n",
    "    if latest_checkpoint:\n",
    "        checkpoint.restore(latest_checkpoint)\n",
    "        print(f\"Restored checkpoint from {latest_checkpoint}\")\n",
    "    else:\n",
    "        print(\"No checkpoint found.\")\n",
    "        return\n",
    "    \n",
    "    # Run a forward pass with a batch from the test dataset\n",
    "    for (batch_x1, batch_x2) in test_dataset.take(1):\n",
    "        input_batch = (batch_x1, batch_x2)\n",
    "        output_dict, pred = model(input_batch, training=False)\n",
    "        #print(output)\n",
    "        break\n",
    "    return output_dict, pred, input_batch\n"
   ]
  },
  {
   "cell_type": "code",
   "execution_count": 9,
   "metadata": {},
   "outputs": [
    {
     "name": "stdout",
     "output_type": "stream",
     "text": [
      "Restored checkpoint from /home/annalena/PedestrianTrajectoryPrediction/best_loss/ckpts_best/ckpt/ckpt-4\n"
     ]
    },
    {
     "name": "stderr",
     "output_type": "stream",
     "text": [
      "[libprotobuf ERROR external/com_google_protobuf/src/google/protobuf/text_format.cc:337] Error parsing text-format tensorflow.data.experimental.DistributedSnapshotMetadata: 1:1: Invalid control characters encountered in text.\n",
      "[libprotobuf ERROR external/com_google_protobuf/src/google/protobuf/text_format.cc:337] Error parsing text-format tensorflow.data.experimental.DistributedSnapshotMetadata: 1:3: Expected identifier, got: 3196350132651113285\n"
     ]
    }
   ],
   "source": [
    "output_dict, pred, input = test_model(ckpt_best_dir, loaded)"
   ]
  },
  {
   "cell_type": "code",
   "execution_count": 69,
   "metadata": {},
   "outputs": [],
   "source": [
    "%matplotlib inline"
   ]
  },
  {
   "cell_type": "code",
   "execution_count": 13,
   "metadata": {},
   "outputs": [
    {
     "data": {
      "text/plain": [
       "<tf.Tensor: shape=(32, 1, 5), dtype=float32, numpy=\n",
       "array([[[-0.01039314, -0.01226416, -0.01029675, -0.01249092,\n",
       "         -0.01270137]],\n",
       "\n",
       "       [[-0.01039767, -0.01226223, -0.01029567, -0.01249162,\n",
       "         -0.0127032 ]],\n",
       "\n",
       "       [[-0.01046029, -0.01232635, -0.01036178, -0.01255406,\n",
       "         -0.01276268]],\n",
       "\n",
       "       [[-0.01039402, -0.01226458, -0.0102975 , -0.01249044,\n",
       "         -0.01270281]],\n",
       "\n",
       "       [[-0.01039707, -0.01226372, -0.01029794, -0.01249056,\n",
       "         -0.01270277]],\n",
       "\n",
       "       [[-0.01036838, -0.01221362, -0.01027187, -0.01243954,\n",
       "         -0.01264872]],\n",
       "\n",
       "       [[-0.01047733, -0.01232459, -0.01038102, -0.01254972,\n",
       "         -0.01275958]],\n",
       "\n",
       "       [[-0.01039325, -0.01226427, -0.01029715, -0.01249046,\n",
       "         -0.01270281]],\n",
       "\n",
       "       [[-0.0103971 , -0.01226308, -0.01029607, -0.01249123,\n",
       "         -0.01270146]],\n",
       "\n",
       "       [[-0.01039776, -0.01226397, -0.01029835, -0.01249082,\n",
       "         -0.01270242]],\n",
       "\n",
       "       [[-0.01047383, -0.01232298, -0.0103774 , -0.01254775,\n",
       "         -0.01275617]],\n",
       "\n",
       "       [[-0.01037421, -0.01221734, -0.01027566, -0.01244278,\n",
       "         -0.01265368]],\n",
       "\n",
       "       [[-0.01039995, -0.01226716, -0.01029912, -0.01249599,\n",
       "         -0.01270319]],\n",
       "\n",
       "       [[-0.010365  , -0.01221069, -0.01026758, -0.01243432,\n",
       "         -0.01264678]],\n",
       "\n",
       "       [[-0.01048022, -0.01232873, -0.01038404, -0.01255221,\n",
       "         -0.01276296]],\n",
       "\n",
       "       [[-0.01039481, -0.01226141, -0.01029527, -0.01249027,\n",
       "         -0.0127006 ]],\n",
       "\n",
       "       [[-0.01039452, -0.01226444, -0.01029711, -0.012491  ,\n",
       "         -0.01270215]],\n",
       "\n",
       "       [[-0.0103985 , -0.01226328, -0.01029798, -0.0124916 ,\n",
       "         -0.01270275]],\n",
       "\n",
       "       [[-0.01039637, -0.01226365, -0.01029779, -0.0124908 ,\n",
       "         -0.01270233]],\n",
       "\n",
       "       [[-0.01039533, -0.01226434, -0.01029672, -0.01249065,\n",
       "         -0.01270243]],\n",
       "\n",
       "       [[-0.01039596, -0.01226294, -0.01029687, -0.01249125,\n",
       "         -0.01270347]],\n",
       "\n",
       "       [[-0.01039883, -0.01226718, -0.01030027, -0.01249572,\n",
       "         -0.01270236]],\n",
       "\n",
       "       [[-0.0103945 , -0.01226364, -0.01029632, -0.01249132,\n",
       "         -0.01270183]],\n",
       "\n",
       "       [[-0.01048075, -0.01232939, -0.01038396, -0.01255229,\n",
       "         -0.01276347]],\n",
       "\n",
       "       [[-0.01047284, -0.01234168, -0.01037482, -0.01256862,\n",
       "         -0.01277757]],\n",
       "\n",
       "       [[-0.01039574, -0.01226411, -0.01029693, -0.0124914 ,\n",
       "         -0.01270211]],\n",
       "\n",
       "       [[-0.01039808, -0.01224657, -0.01030148, -0.01246893,\n",
       "         -0.0126805 ]],\n",
       "\n",
       "       [[-0.0103734 , -0.01221566, -0.01027508, -0.0124429 ,\n",
       "         -0.01265304]],\n",
       "\n",
       "       [[-0.0104593 , -0.0123305 , -0.0103618 , -0.01255685,\n",
       "         -0.01276569]],\n",
       "\n",
       "       [[-0.01039469, -0.01226458, -0.01029739, -0.01249041,\n",
       "         -0.0127028 ]],\n",
       "\n",
       "       [[-0.01039599, -0.01226472, -0.01029779, -0.01249071,\n",
       "         -0.01270269]],\n",
       "\n",
       "       [[-0.01049108, -0.01235667, -0.01039202, -0.01258677,\n",
       "         -0.01279536]]], dtype=float32)>"
      ]
     },
     "execution_count": 13,
     "metadata": {},
     "output_type": "execute_result"
    }
   ],
   "source": [
    "pred[\"mixture_logits\"]"
   ]
  },
  {
   "cell_type": "code",
   "execution_count": 10,
   "metadata": {},
   "outputs": [
    {
     "name": "stderr",
     "output_type": "stream",
     "text": [
      "/tmp/ipykernel_2577/4080026732.py:18: UserWarning: Matplotlib is currently using module://matplotlib_inline.backend_inline, which is a non-GUI backend, so cannot show the figure.\n",
      "  fig.show()\n"
     ]
    },
    {
     "data": {
      "image/png": "[encoded data removed]",
      "text/plain": [
       "<Figure size 640x480 with 3 Axes>"
      ]
     },
     "metadata": {},
     "output_type": "display_data"
    }
   ],
   "source": [
    "import matplotlib.pyplot as plt \n",
    "import numpy as np \n",
    "\n",
    "idx = 0\n",
    "\n",
    "mode = 0\n",
    "\n",
    "ground_truth = input[0][idx][:,:2].numpy()\n",
    "prediction = pred[\"position\"][idx,:,mode,:2].numpy()\n",
    "\n",
    "\n",
    "fig, (ax1, ax2, ax3) = plt.subplots(1, 3)\n",
    "\n",
    "ax1.plot(ground_truth[1:,0], ground_truth[1:,1], 'ro-')\n",
    "ax1.plot(prediction[:,0], prediction[:,1],'bo-')\n",
    "ax2.plot(ground_truth[1:,0], ground_truth[1:,1], 'ro-')\n",
    "ax3.plot(prediction[6:,0], prediction[6:,1],'bo-')\n",
    "fig.show()"
   ]
  },
  {
   "cell_type": "code",
   "execution_count": 10,
   "metadata": {},
   "outputs": [
    {
     "data": {
      "text/plain": [
       "array([[-0.21553525, -0.03838827],\n",
       "       [-0.16171409,  0.07452854],\n",
       "       [-0.1618135 ,  0.07464612],\n",
       "       [-0.16172779,  0.0746796 ],\n",
       "       [-0.16172747,  0.07479997],\n",
       "       [-0.16176964,  0.07472967],\n",
       "       [-0.1637809 ,  0.02403552],\n",
       "       [-0.16363353,  0.02353285],\n",
       "       [-0.16364695,  0.02300084],\n",
       "       [-0.16372512,  0.02258127],\n",
       "       [-0.16382676,  0.02248896],\n",
       "       [-0.16380595,  0.02272726],\n",
       "       [-0.16376704,  0.02319433],\n",
       "       [-0.16377345,  0.02361044],\n",
       "       [-0.16379225,  0.02374719]], dtype=float32)"
      ]
     },
     "execution_count": 10,
     "metadata": {},
     "output_type": "execute_result"
    }
   ],
   "source": [
    "prediction"
   ]
  },
  {
   "cell_type": "code",
   "execution_count": 11,
   "metadata": {},
   "outputs": [
    {
     "data": {
      "text/plain": [
       "array([[-9.91435010e+01,  8.83475909e+01],\n",
       "       [-9.63965328e-03,  6.48002861e-02],\n",
       "       [-9.63965328e-03,  6.48002861e-02],\n",
       "       [ 1.06159366e-04,  1.12360975e-01],\n",
       "       [ 6.85870772e-04,  1.13650911e-01],\n",
       "       [ 1.52057174e-03,  5.51333643e-02],\n",
       "       [ 1.52057174e-03,  5.51333643e-02],\n",
       "       [ 3.28008410e-02, -8.91633604e-02],\n",
       "       [ 3.28008410e-02, -8.91633604e-02],\n",
       "       [ 6.95928442e-02, -9.87210010e-02],\n",
       "       [ 6.95928442e-02, -9.87210010e-02],\n",
       "       [ 6.03811574e-02, -5.19433907e-02],\n",
       "       [ 4.77498183e-01, -7.33223353e-01],\n",
       "       [ 4.33753179e-02, -1.53608534e-01],\n",
       "       [ 1.17056532e-01, -3.05332226e-01]])"
      ]
     },
     "execution_count": 11,
     "metadata": {},
     "output_type": "execute_result"
    }
   ],
   "source": [
    "ground_truth"
   ]
  },
  {
   "cell_type": "code",
   "execution_count": 9,
   "metadata": {},
   "outputs": [
    {
     "ename": "NameError",
     "evalue": "name 'np' is not defined",
     "output_type": "error",
     "traceback": [
      "\u001b[0;31m---------------------------------------------------------------------------\u001b[0m",
      "\u001b[0;31mNameError\u001b[0m                                 Traceback (most recent call last)",
      "Cell \u001b[0;32mIn[9], line 11\u001b[0m\n\u001b[1;32m      9\u001b[0m new_pos \u001b[38;5;241m=\u001b[39m [ground_truth[\u001b[38;5;241m0\u001b[39m] \u001b[38;5;241m+\u001b[39m i \u001b[38;5;28;01mfor\u001b[39;00m i \u001b[38;5;129;01min\u001b[39;00m prediction[\u001b[38;5;241m1\u001b[39m:]]\n\u001b[1;32m     10\u001b[0m new_pos\u001b[38;5;241m.\u001b[39minsert(\u001b[38;5;241m0\u001b[39m,ground_truth[\u001b[38;5;241m0\u001b[39m])\n\u001b[0;32m---> 11\u001b[0m new_pos \u001b[38;5;241m=\u001b[39m \u001b[43mnp\u001b[49m\u001b[38;5;241m.\u001b[39masarray(new_pos)\n\u001b[1;32m     14\u001b[0m tmp \u001b[38;5;241m=\u001b[39m []\n\u001b[1;32m     15\u001b[0m tmp\u001b[38;5;241m.\u001b[39mappend(ground_truth[\u001b[38;5;241m0\u001b[39m])\n",
      "\u001b[0;31mNameError\u001b[0m: name 'np' is not defined"
     ]
    }
   ],
   "source": [
    "idx = 5\n",
    "\n",
    "mode = 0\n",
    "\n",
    "ground_truth = input[0][idx][:,:2].numpy()\n",
    "prediction = pred[\"position\"][idx,:,mode,:2].numpy()\n",
    "\n",
    "\n",
    "new_pos = [ground_truth[0] + i for i in prediction[1:]]\n",
    "new_pos.insert(0,ground_truth[0])\n",
    "new_pos = np.asarray(new_pos)\n",
    "\n",
    "\n",
    "tmp = []\n",
    "tmp.append(ground_truth[0])\n",
    "ground_truth_ = np.asarray(ground_truth)\n",
    "for i in range(1,len(ground_truth_)):\n",
    "    tmp.append(np.add(np.asarray(tmp[-1]),ground_truth_[i]))\n",
    "\n",
    "tmp = np.asarray(tmp)\n",
    "\n",
    "tmp2 = []\n",
    "for i in range(5):\n",
    "    tmp2.append(tmp[i])\n",
    "prediction_ = np.asarray(prediction)\n",
    "for i in range(6,len(prediction)):\n",
    "    tmp2.append(np.add(np.asarray(tmp2[-1]),prediction[i]))\n",
    "\n",
    "tmp2 = np.asarray(tmp2)\n",
    "\n",
    "plt.plot(tmp2[:,0], tmp2[:,1], 'bo-')\n",
    "plt.plot(tmp[:,0], tmp[:,1],'ro-')\n",
    "plt.show()"
   ]
  },
  {
   "cell_type": "code",
   "execution_count": 14,
   "metadata": {},
   "outputs": [
    {
     "name": "stdout",
     "output_type": "stream",
     "text": [
      "[[ 0.43505102 -1.1941148 ]\n",
      " [ 0.27338412 -1.3159314 ]\n",
      " [ 0.43505102 -1.1941148 ]\n",
      " [ 0.27338412 -1.3159314 ]\n",
      " [ 0.27338412 -1.3159314 ]\n",
      " [ 0.27338412 -1.3159314 ]\n",
      " [ 0.43505102 -1.1941148 ]\n",
      " [ 0.43505102 -1.1941148 ]\n",
      " [ 0.43505102 -1.1941148 ]\n",
      " [ 0.43505102 -1.1941148 ]\n",
      " [ 0.43505102 -1.1941148 ]\n",
      " [ 0.43505102 -1.1941148 ]\n",
      " [ 0.43505102 -1.1941144 ]\n",
      " [ 0.43505102 -1.1941144 ]\n",
      " [ 0.43505102 -1.1941144 ]]\n"
     ]
    }
   ],
   "source": [
    "print(prediction)"
   ]
  },
  {
   "cell_type": "markdown",
   "metadata": {},
   "source": [
    "# Plot training loss"
   ]
  },
  {
   "cell_type": "code",
   "execution_count": 13,
   "metadata": {},
   "outputs": [],
   "source": [
    "import pandas as pd\n",
    "\n",
    "train_loss_dir = \"/home/pbr-student/Downloads/train.csv\"\n",
    "eval_loss_dir = \"/home/pbr-student/Downloads/eval.csv\"\n",
    "\n",
    "train_loss = pd.read_csv(train_loss_dir)\n",
    "eval_loss = pd.read_csv(eval_loss_dir)"
   ]
  },
  {
   "cell_type": "code",
   "execution_count": 16,
   "metadata": {},
   "outputs": [
    {
     "data": {
      "image/png": "[encoded data removed]",
      "text/plain": [
       "<Figure size 640x480 with 1 Axes>"
      ]
     },
     "metadata": {},
     "output_type": "display_data"
    }
   ],
   "source": [
    "plt.plot(train_loss[\"Step\"], train_loss[\"Value\"], 'ro-')\n",
    "plt.plot(eval_loss[\"Step\"], eval_loss[\"Value\"], 'bo-')\n",
    "plt.show()"
   ]
  }
 ],
 "metadata": {
  "kernelspec": {
   "display_name": "openmmlab",
   "language": "python",
   "name": "python3"
  },
  "language_info": {
   "codemirror_mode": {
    "name": "ipython",
    "version": 3
   },
   "file_extension": ".py",
   "mimetype": "text/x-python",
   "name": "python",
   "nbconvert_exporter": "python",
   "pygments_lexer": "ipython3",
   "version": "3.8.19"
  }
 },
 "nbformat": 4,
 "nbformat_minor": 2
}
