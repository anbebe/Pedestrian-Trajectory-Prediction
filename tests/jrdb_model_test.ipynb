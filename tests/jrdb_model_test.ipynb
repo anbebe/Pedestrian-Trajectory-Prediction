{
 "cells": [
  {
   "cell_type": "code",
   "execution_count": 1,
   "metadata": {},
   "outputs": [
    {
     "name": "stdout",
     "output_type": "stream",
     "text": [
      "Jupyter environment detected. Enabling Open3D WebVisualizer.\n",
      "[Open3D INFO] WebRTC GUI backend enabled.\n",
      "[Open3D INFO] WebRTCWindowSystem: HTTP handshake server disabled.\n"
     ]
    },
    {
     "name": "stderr",
     "output_type": "stream",
     "text": [
      "2024-09-03 17:55:14.832021: I tensorflow/core/platform/cpu_feature_guard.cc:182] This TensorFlow binary is optimized to use available CPU instructions in performance-critical operations.\n",
      "To enable the following instructions: AVX2 FMA, in other operations, rebuild TensorFlow with the appropriate compiler flags.\n",
      "2024-09-03 17:55:15.774775: W tensorflow/compiler/tf2tensorrt/utils/py_utils.cc:38] TF-TRT Warning: Could not find TensorRT\n"
     ]
    },
    {
     "name": "stdout",
     "output_type": "stream",
     "text": [
      "Using TensorFlow backend\n"
     ]
    }
   ],
   "source": [
    "import sys\n",
    "import os\n",
    "\n",
    "sys.path.append(os.path.abspath('..'))\n",
    "\n",
    "from model import preprocess_data\n",
    "from model.train import HST\n",
    "from model.preprocess_data import load_data"
   ]
  },
  {
   "cell_type": "code",
   "execution_count": 2,
   "metadata": {},
   "outputs": [],
   "source": [
    "import tensorflow as tf"
   ]
  },
  {
   "cell_type": "code",
   "execution_count": 3,
   "metadata": {},
   "outputs": [
    {
     "name": "stdout",
     "output_type": "stream",
     "text": [
      "Num GPUs Available:  1\n"
     ]
    },
    {
     "name": "stderr",
     "output_type": "stream",
     "text": [
      "2024-09-03 17:04:18.312174: I tensorflow/compiler/xla/stream_executor/cuda/cuda_gpu_executor.cc:981] could not open file to read NUMA node: /sys/bus/pci/devices/0000:01:00.0/numa_node\n",
      "Your kernel may have been built without NUMA support.\n",
      "2024-09-03 17:04:18.348009: I tensorflow/compiler/xla/stream_executor/cuda/cuda_gpu_executor.cc:981] could not open file to read NUMA node: /sys/bus/pci/devices/0000:01:00.0/numa_node\n",
      "Your kernel may have been built without NUMA support.\n",
      "2024-09-03 17:04:18.348394: I tensorflow/compiler/xla/stream_executor/cuda/cuda_gpu_executor.cc:981] could not open file to read NUMA node: /sys/bus/pci/devices/0000:01:00.0/numa_node\n",
      "Your kernel may have been built without NUMA support.\n"
     ]
    }
   ],
   "source": [
    "print(\"Num GPUs Available: \", len(tf.config.list_physical_devices('GPU')))"
   ]
  },
  {
   "cell_type": "code",
   "execution_count": 4,
   "metadata": {},
   "outputs": [],
   "source": [
    "%matplotlib inline"
   ]
  },
  {
   "cell_type": "code",
   "execution_count": 8,
   "metadata": {},
   "outputs": [
    {
     "name": "stderr",
     "output_type": "stream",
     "text": [
      "2024-09-02 11:18:49.985873: W tensorflow/core/framework/dataset.cc:956] Input of Window will not be optimized because the dataset does not implement the AsGraphDefInternal() method needed to apply optimizations.\n",
      "2024-09-02 11:19:19.986267: W tensorflow/core/framework/dataset.cc:956] Input of Window will not be optimized because the dataset does not implement the AsGraphDefInternal() method needed to apply optimizations.\n",
      "2024-09-02 11:19:49.990497: W tensorflow/core/framework/dataset.cc:956] Input of Window will not be optimized because the dataset does not implement the AsGraphDefInternal() method needed to apply optimizations.\n",
      "2024-09-02 11:20:20.007696: W tensorflow/core/framework/dataset.cc:956] Input of Window will not be optimized because the dataset does not implement the AsGraphDefInternal() method needed to apply optimizations.\n",
      "2024-09-02 11:20:50.017952: W tensorflow/core/framework/dataset.cc:956] Input of Window will not be optimized because the dataset does not implement the AsGraphDefInternal() method needed to apply optimizations.\n"
     ]
    }
   ],
   "source": [
    "train_dataset = load_data(data_path=\"/home/pbr-student/personal/thesis/test/PedestrianTrajectoryPrediction/df_eth.pkl\", batch_size=16)"
   ]
  },
  {
   "cell_type": "code",
   "execution_count": 6,
   "metadata": {},
   "outputs": [
    {
     "data": {
      "text/plain": [
       "394"
      ]
     },
     "execution_count": 6,
     "metadata": {},
     "output_type": "execute_result"
    }
   ],
   "source": [
    "len(train_dataset)"
   ]
  },
  {
   "cell_type": "code",
   "execution_count": 7,
   "metadata": {},
   "outputs": [
    {
     "data": {
      "text/plain": [
       "12608"
      ]
     },
     "execution_count": 7,
     "metadata": {},
     "output_type": "execute_result"
    }
   ],
   "source": [
    "32*394"
   ]
  },
  {
   "cell_type": "code",
   "execution_count": 8,
   "metadata": {},
   "outputs": [],
   "source": [
    "import tensorflow as tf\n",
    "tf.data.experimental.save(\n",
    "    train_dataset, path= \"train_dataset\"\n",
    ")"
   ]
  },
  {
   "cell_type": "code",
   "execution_count": 56,
   "metadata": {},
   "outputs": [
    {
     "name": "stderr",
     "output_type": "stream",
     "text": [
      "[libprotobuf ERROR external/com_google_protobuf/src/google/protobuf/text_format.cc:337] Error parsing text-format tensorflow.data.experimental.DistributedSnapshotMetadata: 1:1: Invalid control characters encountered in text.\n",
      "[libprotobuf ERROR external/com_google_protobuf/src/google/protobuf/text_format.cc:337] Error parsing text-format tensorflow.data.experimental.DistributedSnapshotMetadata: 1:3: Expected identifier, got: 16053318953697717525\n"
     ]
    }
   ],
   "source": [
    "loaded = tf.data.experimental.load(\n",
    "    \"/home/annalena/PedestrianTrajectoryPrediction/datasets/test_dataset_odom\"\n",
    ")"
   ]
  },
  {
   "cell_type": "code",
   "execution_count": 57,
   "metadata": {},
   "outputs": [],
   "source": [
    "import datetime\n",
    "import tensorflow as tf\n",
    "\n",
    "ckpt_best_dir = \"/home/annalena/PedestrianTrajectoryPrediction/trained_models/new_finetuned/ckpts_best/ckpt\"\n",
    "\n",
    "def test_model(checkpoint_dir, test_dataset):\n",
    "    \n",
    "    model = HST(15)  # Initialize the model architecture\n",
    "    optimizer = tf.keras.optimizers.Adam()\n",
    "    \n",
    "    # Create a checkpoint object\n",
    "    checkpoint = tf.train.Checkpoint(model=model, optimizer=optimizer)\n",
    "    \n",
    "    # Restore the latest checkpoint\n",
    "    latest_checkpoint = tf.train.latest_checkpoint(checkpoint_dir)\n",
    "    if latest_checkpoint:\n",
    "        checkpoint.restore(latest_checkpoint)\n",
    "        print(f\"Restored checkpoint from {latest_checkpoint}\")\n",
    "    else:\n",
    "        print(\"No checkpoint found.\")\n",
    "        return\n",
    "    \n",
    "    # Run a forward pass with a batch from the test dataset\n",
    "    for (batch_x1, batch_x2) in test_dataset.take(1):\n",
    "        input_batch = (batch_x1, batch_x2)\n",
    "        output_dict, pred = model(input_batch, training=False)\n",
    "        #print(output)\n",
    "        break\n",
    "    return output_dict, pred, input_batch\n"
   ]
  },
  {
   "cell_type": "code",
   "execution_count": 58,
   "metadata": {},
   "outputs": [
    {
     "name": "stdout",
     "output_type": "stream",
     "text": [
      "Restored checkpoint from /home/annalena/PedestrianTrajectoryPrediction/trained_models/new_finetuned/ckpts_best/ckpt/ckpt-4\n"
     ]
    },
    {
     "name": "stderr",
     "output_type": "stream",
     "text": [
      "[libprotobuf ERROR external/com_google_protobuf/src/google/protobuf/text_format.cc:337] Error parsing text-format tensorflow.data.experimental.DistributedSnapshotMetadata: 1:1: Invalid control characters encountered in text.\n",
      "[libprotobuf ERROR external/com_google_protobuf/src/google/protobuf/text_format.cc:337] Error parsing text-format tensorflow.data.experimental.DistributedSnapshotMetadata: 1:3: Expected identifier, got: 16053318953697717525\n"
     ]
    }
   ],
   "source": [
    "output_dict, pred, input = test_model(ckpt_best_dir, loaded)"
   ]
  },
  {
   "cell_type": "code",
   "execution_count": 25,
   "metadata": {},
   "outputs": [],
   "source": [
    "%matplotlib inline"
   ]
  },
  {
   "cell_type": "code",
   "execution_count": 48,
   "metadata": {},
   "outputs": [
    {
     "data": {
      "text/plain": [
       "<tf.Tensor: shape=(32, 1, 5), dtype=float32, numpy=\n",
       "array([[[-0.02399302,  0.0094029 , -0.01405106,  0.01925307,\n",
       "          0.01801666]],\n",
       "\n",
       "       [[-0.02502263,  0.01099973, -0.04514876,  0.01972329,\n",
       "          0.01546564]],\n",
       "\n",
       "       [[-0.1053075 , -0.00271288, -0.01009942,  0.0309768 ,\n",
       "          0.03105577]],\n",
       "\n",
       "       [[-0.07893602, -0.00090316, -0.02003092,  0.02054777,\n",
       "          0.01789563]],\n",
       "\n",
       "       [[-0.03633342,  0.00115314, -0.0022052 ,  0.01364597,\n",
       "          0.01460355]],\n",
       "\n",
       "       [[-0.00705806,  0.02352747, -0.0796072 ,  0.02795749,\n",
       "          0.01545947]],\n",
       "\n",
       "       [[-0.1586673 , -0.01118607, -0.00639922,  0.03440112,\n",
       "          0.036771  ]],\n",
       "\n",
       "       [[-0.04985819,  0.01628714, -0.03180537,  0.02482744,\n",
       "          0.01644059]],\n",
       "\n",
       "       [[-0.08864514,  0.00546008, -0.01220817,  0.03280577,\n",
       "          0.03213584]],\n",
       "\n",
       "       [[-0.00549487,  0.01867002, -0.08480684,  0.02275934,\n",
       "          0.00893694]],\n",
       "\n",
       "       [[-0.12727651, -0.0118534 , -0.00680495,  0.03023347,\n",
       "          0.03378147]],\n",
       "\n",
       "       [[-0.206027  , -0.04621622,  0.01103052,  0.03940385,\n",
       "          0.04721614]],\n",
       "\n",
       "       [[-0.04616663,  0.00055226, -0.00876982,  0.01526728,\n",
       "          0.0167804 ]],\n",
       "\n",
       "       [[-0.08229695,  0.00837963, -0.0113394 ,  0.03548872,\n",
       "          0.03371876]],\n",
       "\n",
       "       [[-0.20976034, -0.04748023,  0.00914615,  0.03706759,\n",
       "          0.0449394 ]],\n",
       "\n",
       "       [[-0.18872485, -0.04519841,  0.00781136,  0.03841245,\n",
       "          0.04639312]],\n",
       "\n",
       "       [[-0.0275082 ,  0.01097303, -0.06181851,  0.01932525,\n",
       "          0.01115846]],\n",
       "\n",
       "       [[-0.04787177,  0.01476859, -0.04447678,  0.01804375,\n",
       "          0.0069153 ]],\n",
       "\n",
       "       [[-0.02871237,  0.01069685, -0.05397651,  0.01982012,\n",
       "          0.01333776]],\n",
       "\n",
       "       [[-0.04866171,  0.00386771, -0.03593755,  0.01330715,\n",
       "          0.00617849]],\n",
       "\n",
       "       [[-0.10898439, -0.00417632, -0.00585092,  0.034049  ,\n",
       "          0.03596192]],\n",
       "\n",
       "       [[-0.06042332,  0.0167981 , -0.02068326,  0.0311743 ,\n",
       "          0.02605691]],\n",
       "\n",
       "       [[-0.04903543,  0.0175445 , -0.03516204,  0.02625375,\n",
       "          0.01869687]],\n",
       "\n",
       "       [[-0.00660721,  0.02328443, -0.05853168,  0.02105915,\n",
       "          0.00488841]],\n",
       "\n",
       "       [[-0.12678099, -0.01081625, -0.0040795 ,  0.03201902,\n",
       "          0.03571468]],\n",
       "\n",
       "       [[-0.08041043,  0.01235645, -0.01577741,  0.03084266,\n",
       "          0.02687528]],\n",
       "\n",
       "       [[-0.02612144,  0.00870752, -0.03138182,  0.01784047,\n",
       "          0.01532307]],\n",
       "\n",
       "       [[-0.05214662, -0.00534756,  0.01543581,  0.01054358,\n",
       "          0.015156  ]],\n",
       "\n",
       "       [[-0.02049503,  0.02056318, -0.06695569,  0.02440991,\n",
       "          0.01269778]],\n",
       "\n",
       "       [[ 0.01058533,  0.04252147, -0.17624828,  0.03122979,\n",
       "         -0.01459277]],\n",
       "\n",
       "       [[ 0.00317686,  0.04120773, -0.16360745,  0.03116604,\n",
       "         -0.00836993]],\n",
       "\n",
       "       [[-0.03113494,  0.00968193, -0.0743653 ,  0.01793932,\n",
       "          0.00793981]]], dtype=float32)>"
      ]
     },
     "execution_count": 48,
     "metadata": {},
     "output_type": "execute_result"
    }
   ],
   "source": [
    "pred[\"mixture_logits\"]"
   ]
  },
  {
   "cell_type": "code",
   "execution_count": 66,
   "metadata": {},
   "outputs": [
    {
     "name": "stderr",
     "output_type": "stream",
     "text": [
      "/tmp/ipykernel_24749/41755945.py:18: UserWarning: Matplotlib is currently using module://matplotlib_inline.backend_inline, which is a non-GUI backend, so cannot show the figure.\n",
      "  fig.show()\n"
     ]
    },
    {
     "data": {
      "image/png": "[encoded data removed]",
      "text/plain": [
       "<Figure size 640x480 with 3 Axes>"
      ]
     },
     "metadata": {},
     "output_type": "display_data"
    }
   ],
   "source": [
    "import matplotlib.pyplot as plt \n",
    "import numpy as np \n",
    "\n",
    "idx = 2\n",
    "\n",
    "mode =2\n",
    "\n",
    "ground_truth = input[0][idx][:,:2].numpy()\n",
    "prediction = pred[\"position\"][idx,:,mode,:2].numpy()\n",
    "\n",
    "\n",
    "fig, (ax1, ax2, ax3) = plt.subplots(1, 3)\n",
    "\n",
    "ax1.plot(ground_truth[1:,0], ground_truth[1:,1], 'ro-')\n",
    "ax1.plot(prediction[6:,0], prediction[6:,1],'bo-')\n",
    "ax2.plot(ground_truth[6:,0], ground_truth[6:,1], 'ro-')\n",
    "ax3.plot(prediction[6:,0], prediction[6:,1],'bo-')\n",
    "fig.show()"
   ]
  },
  {
   "cell_type": "code",
   "execution_count": 10,
   "metadata": {},
   "outputs": [
    {
     "data": {
      "text/plain": [
       "array([[-0.21553525, -0.03838827],\n",
       "       [-0.16171409,  0.07452854],\n",
       "       [-0.1618135 ,  0.07464612],\n",
       "       [-0.16172779,  0.0746796 ],\n",
       "       [-0.16172747,  0.07479997],\n",
       "       [-0.16176964,  0.07472967],\n",
       "       [-0.1637809 ,  0.02403552],\n",
       "       [-0.16363353,  0.02353285],\n",
       "       [-0.16364695,  0.02300084],\n",
       "       [-0.16372512,  0.02258127],\n",
       "       [-0.16382676,  0.02248896],\n",
       "       [-0.16380595,  0.02272726],\n",
       "       [-0.16376704,  0.02319433],\n",
       "       [-0.16377345,  0.02361044],\n",
       "       [-0.16379225,  0.02374719]], dtype=float32)"
      ]
     },
     "execution_count": 10,
     "metadata": {},
     "output_type": "execute_result"
    }
   ],
   "source": [
    "prediction"
   ]
  },
  {
   "cell_type": "code",
   "execution_count": 11,
   "metadata": {},
   "outputs": [
    {
     "data": {
      "text/plain": [
       "array([[-9.91435010e+01,  8.83475909e+01],\n",
       "       [-9.63965328e-03,  6.48002861e-02],\n",
       "       [-9.63965328e-03,  6.48002861e-02],\n",
       "       [ 1.06159366e-04,  1.12360975e-01],\n",
       "       [ 6.85870772e-04,  1.13650911e-01],\n",
       "       [ 1.52057174e-03,  5.51333643e-02],\n",
       "       [ 1.52057174e-03,  5.51333643e-02],\n",
       "       [ 3.28008410e-02, -8.91633604e-02],\n",
       "       [ 3.28008410e-02, -8.91633604e-02],\n",
       "       [ 6.95928442e-02, -9.87210010e-02],\n",
       "       [ 6.95928442e-02, -9.87210010e-02],\n",
       "       [ 6.03811574e-02, -5.19433907e-02],\n",
       "       [ 4.77498183e-01, -7.33223353e-01],\n",
       "       [ 4.33753179e-02, -1.53608534e-01],\n",
       "       [ 1.17056532e-01, -3.05332226e-01]])"
      ]
     },
     "execution_count": 11,
     "metadata": {},
     "output_type": "execute_result"
    }
   ],
   "source": [
    "ground_truth"
   ]
  },
  {
   "cell_type": "code",
   "execution_count": 9,
   "metadata": {},
   "outputs": [
    {
     "ename": "NameError",
     "evalue": "name 'np' is not defined",
     "output_type": "error",
     "traceback": [
      "\u001b[0;31m---------------------------------------------------------------------------\u001b[0m",
      "\u001b[0;31mNameError\u001b[0m                                 Traceback (most recent call last)",
      "Cell \u001b[0;32mIn[9], line 11\u001b[0m\n\u001b[1;32m      9\u001b[0m new_pos \u001b[38;5;241m=\u001b[39m [ground_truth[\u001b[38;5;241m0\u001b[39m] \u001b[38;5;241m+\u001b[39m i \u001b[38;5;28;01mfor\u001b[39;00m i \u001b[38;5;129;01min\u001b[39;00m prediction[\u001b[38;5;241m1\u001b[39m:]]\n\u001b[1;32m     10\u001b[0m new_pos\u001b[38;5;241m.\u001b[39minsert(\u001b[38;5;241m0\u001b[39m,ground_truth[\u001b[38;5;241m0\u001b[39m])\n\u001b[0;32m---> 11\u001b[0m new_pos \u001b[38;5;241m=\u001b[39m \u001b[43mnp\u001b[49m\u001b[38;5;241m.\u001b[39masarray(new_pos)\n\u001b[1;32m     14\u001b[0m tmp \u001b[38;5;241m=\u001b[39m []\n\u001b[1;32m     15\u001b[0m tmp\u001b[38;5;241m.\u001b[39mappend(ground_truth[\u001b[38;5;241m0\u001b[39m])\n",
      "\u001b[0;31mNameError\u001b[0m: name 'np' is not defined"
     ]
    }
   ],
   "source": [
    "idx = 5\n",
    "\n",
    "mode = 0\n",
    "\n",
    "ground_truth = input[0][idx][:,:2].numpy()\n",
    "prediction = pred[\"position\"][idx,:,mode,:2].numpy()\n",
    "\n",
    "\n",
    "new_pos = [ground_truth[0] + i for i in prediction[1:]]\n",
    "new_pos.insert(0,ground_truth[0])\n",
    "new_pos = np.asarray(new_pos)\n",
    "\n",
    "\n",
    "tmp = []\n",
    "tmp.append(ground_truth[0])\n",
    "ground_truth_ = np.asarray(ground_truth)\n",
    "for i in range(1,len(ground_truth_)):\n",
    "    tmp.append(np.add(np.asarray(tmp[-1]),ground_truth_[i]))\n",
    "\n",
    "tmp = np.asarray(tmp)\n",
    "\n",
    "tmp2 = []\n",
    "for i in range(5):\n",
    "    tmp2.append(tmp[i])\n",
    "prediction_ = np.asarray(prediction)\n",
    "for i in range(6,len(prediction)):\n",
    "    tmp2.append(np.add(np.asarray(tmp2[-1]),prediction[i]))\n",
    "\n",
    "tmp2 = np.asarray(tmp2)\n",
    "\n",
    "plt.plot(tmp2[:,0], tmp2[:,1], 'bo-')\n",
    "plt.plot(tmp[:,0], tmp[:,1],'ro-')\n",
    "plt.show()"
   ]
  },
  {
   "cell_type": "code",
   "execution_count": 14,
   "metadata": {},
   "outputs": [
    {
     "name": "stdout",
     "output_type": "stream",
     "text": [
      "[[ 0.43505102 -1.1941148 ]\n",
      " [ 0.27338412 -1.3159314 ]\n",
      " [ 0.43505102 -1.1941148 ]\n",
      " [ 0.27338412 -1.3159314 ]\n",
      " [ 0.27338412 -1.3159314 ]\n",
      " [ 0.27338412 -1.3159314 ]\n",
      " [ 0.43505102 -1.1941148 ]\n",
      " [ 0.43505102 -1.1941148 ]\n",
      " [ 0.43505102 -1.1941148 ]\n",
      " [ 0.43505102 -1.1941148 ]\n",
      " [ 0.43505102 -1.1941148 ]\n",
      " [ 0.43505102 -1.1941148 ]\n",
      " [ 0.43505102 -1.1941144 ]\n",
      " [ 0.43505102 -1.1941144 ]\n",
      " [ 0.43505102 -1.1941144 ]]\n"
     ]
    }
   ],
   "source": [
    "print(prediction)"
   ]
  },
  {
   "cell_type": "markdown",
   "metadata": {},
   "source": [
    "# Plot training loss"
   ]
  },
  {
   "cell_type": "code",
   "execution_count": 13,
   "metadata": {},
   "outputs": [],
   "source": [
    "import pandas as pd\n",
    "\n",
    "train_loss_dir = \"/home/pbr-student/Downloads/train.csv\"\n",
    "eval_loss_dir = \"/home/pbr-student/Downloads/eval.csv\"\n",
    "\n",
    "train_loss = pd.read_csv(train_loss_dir)\n",
    "eval_loss = pd.read_csv(eval_loss_dir)"
   ]
  },
  {
   "cell_type": "code",
   "execution_count": 16,
   "metadata": {},
   "outputs": [
    {
     "data": {
      "image/png": "[encoded data removed]",
      "text/plain": [
       "<Figure size 640x480 with 1 Axes>"
      ]
     },
     "metadata": {},
     "output_type": "display_data"
    }
   ],
   "source": [
    "plt.plot(train_loss[\"Step\"], train_loss[\"Value\"], 'ro-')\n",
    "plt.plot(eval_loss[\"Step\"], eval_loss[\"Value\"], 'bo-')\n",
    "plt.show()"
   ]
  }
 ],
 "metadata": {
  "kernelspec": {
   "display_name": "openmmlab",
   "language": "python",
   "name": "python3"
  },
  "language_info": {
   "codemirror_mode": {
    "name": "ipython",
    "version": 3
   },
   "file_extension": ".py",
   "mimetype": "text/x-python",
   "name": "python",
   "nbconvert_exporter": "python",
   "pygments_lexer": "ipython3",
   "version": "3.8.19"
  }
 },
 "nbformat": 4,
 "nbformat_minor": 2
}
